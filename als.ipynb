{
 "cells": [
  {
   "cell_type": "markdown",
   "metadata": {},
   "source": [
    "---\n",
    "# Contents\n",
    "- Dataloader\n",
    "- Implementation\n",
    "- Train\n",
    "- Ranking Metrics\n",
    "- Evaluation\n",
    "- Test\n",
    "- Prediction\n",
    "- Reference"
   ]
  },
  {
   "cell_type": "code",
   "execution_count": 1,
   "metadata": {},
   "outputs": [],
   "source": [
    "import os\n",
    "import sys\n",
    "import math\n",
    "import pandas as pd\n",
    "import numpy as np \n",
    "import random\n",
    "import matplotlib.pyplot as plt\n",
    "\n",
    "from numba import njit\n",
    "from scipy.sparse import csr_matrix, dok_matrix\n",
    "from collections import defaultdict, Counter\n",
    "from itertools import islice\n",
    "\n",
    "from tqdm import trange\n",
    "from tqdm import tqdm_notebook as tqdm\n",
    "\n",
    "from sklearn.preprocessing import normalize\n",
    "from sklearn.neighbors import NearestNeighbors\n",
    "from sklearn.manifold import TSNE\n",
    "from sklearn.cluster import KMeans\n",
    "\n",
    "from sklearn.metrics import mean_squared_error\n",
    "from sklearn.metrics import roc_auc_score, accuracy_score\n",
    "from sklearn.model_selection import cross_val_score"
   ]
  },
  {
   "cell_type": "markdown",
   "metadata": {},
   "source": [
    "In this intern project, I apply **ALS** based matrix factorization in **collaborative filtering** for **implicit** feedback Walmart.com user-item transaction dataset to implement a user response based and personalized ranking recommendation system for future customers."
   ]
  },
  {
   "cell_type": "markdown",
   "metadata": {},
   "source": [
    "---\n",
    "# Dataloader"
   ]
  },
  {
   "cell_type": "markdown",
   "metadata": {},
   "source": [
    "Read queried files from output of `preprocess.ipynb` and convert into sparse matrix."
   ]
  },
  {
   "cell_type": "code",
   "execution_count": 2,
   "metadata": {},
   "outputs": [
    {
     "name": "stdout",
     "output_type": "stream",
     "text": [
      "train dimension: (1180452, 3)\n"
     ]
    },
    {
     "data": {
      "text/html": [
       "<div>\n",
       "<style scoped>\n",
       "    .dataframe tbody tr th:only-of-type {\n",
       "        vertical-align: middle;\n",
       "    }\n",
       "\n",
       "    .dataframe tbody tr th {\n",
       "        vertical-align: top;\n",
       "    }\n",
       "\n",
       "    .dataframe thead th {\n",
       "        text-align: right;\n",
       "    }\n",
       "</style>\n",
       "<table border=\"1\" class=\"dataframe\">\n",
       "  <thead>\n",
       "    <tr style=\"text-align: right;\">\n",
       "      <th></th>\n",
       "      <th>userId</th>\n",
       "      <th>itemId</th>\n",
       "      <th>rating</th>\n",
       "    </tr>\n",
       "  </thead>\n",
       "  <tbody>\n",
       "    <tr>\n",
       "      <th>0</th>\n",
       "      <td>0</td>\n",
       "      <td>0</td>\n",
       "      <td>1</td>\n",
       "    </tr>\n",
       "    <tr>\n",
       "      <th>1</th>\n",
       "      <td>0</td>\n",
       "      <td>26</td>\n",
       "      <td>1</td>\n",
       "    </tr>\n",
       "    <tr>\n",
       "      <th>2</th>\n",
       "      <td>0</td>\n",
       "      <td>945</td>\n",
       "      <td>1</td>\n",
       "    </tr>\n",
       "    <tr>\n",
       "      <th>3</th>\n",
       "      <td>0</td>\n",
       "      <td>1244</td>\n",
       "      <td>1</td>\n",
       "    </tr>\n",
       "    <tr>\n",
       "      <th>4</th>\n",
       "      <td>0</td>\n",
       "      <td>1752</td>\n",
       "      <td>1</td>\n",
       "    </tr>\n",
       "  </tbody>\n",
       "</table>\n",
       "</div>"
      ],
      "text/plain": [
       "   userId  itemId  rating\n",
       "0       0       0       1\n",
       "1       0      26       1\n",
       "2       0     945       1\n",
       "3       0    1244       1\n",
       "4       0    1752       1"
      ]
     },
     "execution_count": 2,
     "metadata": {},
     "output_type": "execute_result"
    }
   ],
   "source": [
    "# read preprocessed train file\n",
    "file_path = '../processed_train.txt'\n",
    "names = ['userId', 'itemId', 'rating']\n",
    "df = pd.read_csv(file_path, sep='\\t', header=None, names=names)\n",
    "\n",
    "print('train dimension:', df.shape)\n",
    "df.head()"
   ]
  },
  {
   "cell_type": "code",
   "execution_count": 3,
   "metadata": {},
   "outputs": [],
   "source": [
    "# convert raw data to sparse user-item matrix\n",
    "def create_matrix(data, user_col, item_col, rating_col):\n",
    "    \"\"\"\n",
    "    rtype: scipy sparse matrix csr_matrix, [n_users, n_items]\n",
    "    \"\"\"\n",
    "    for col in (item_col, user_col):\n",
    "        data[col] = data[col].astype('category')\n",
    "    \n",
    "    rows = data[user_col].cat.codes\n",
    "    cols = data[item_col].cat.codes\n",
    "    ratings = csr_matrix((data[rating_col], (rows, cols)))\n",
    "    ratings.eliminate_zeros()\n",
    "    \n",
    "    return ratings, data"
   ]
  },
  {
   "cell_type": "code",
   "execution_count": 4,
   "metadata": {},
   "outputs": [
    {
     "data": {
      "text/plain": [
       "<34619x47880 sparse matrix of type '<class 'numpy.int64'>'\n",
       "\twith 1180452 stored elements in Compressed Sparse Row format>"
      ]
     },
     "execution_count": 4,
     "metadata": {},
     "output_type": "execute_result"
    }
   ],
   "source": [
    "X_train, df = create_matrix(df, 'userId', 'itemId', 'rating')\n",
    "X_train"
   ]
  },
  {
   "cell_type": "code",
   "execution_count": 5,
   "metadata": {},
   "outputs": [
    {
     "data": {
      "image/png": "[encoded data removed]",
      "text/plain": [
       "<Figure size 576x432 with 1 Axes>"
      ]
     },
     "metadata": {
      "needs_background": "light"
     },
     "output_type": "display_data"
    }
   ],
   "source": [
    "# visualize\n",
    "plt.rcParams['figure.figsize'] = 8, 6 \n",
    "plt.rcParams['font.size'] = 12\n",
    "plt.hist(np.sum(X_train != 0, axis = 1), histtype = 'stepfilled', bins = 30,\n",
    "         alpha = 0.85, label = '# of ratings', color = '#7A68A6', density = True)\n",
    "plt.axvline(x = 10, color = 'black', linestyle = '--')\n",
    "plt.legend(loc = \"upper right\")\n",
    "plt.show()\n",
    "plt.close()"
   ]
  },
  {
   "cell_type": "code",
   "execution_count": null,
   "metadata": {},
   "outputs": [],
   "source": [
    "# split matrix into training and test parts\n",
    "## based on user vectors and same time scale\n",
    "def create_train_validation(ratings, validation_size, seed=None):\n",
    "    \"\"\"\n",
    "    rtype: two scipy sparse csr_matrices\n",
    "    \"\"\"\n",
    "    training = ratings.copy().todok()\n",
    "    validation = dok_matrix(training.shape)\n",
    "    \n",
    "    rstate = np.random.RandomState(seed)\n",
    "    \n",
    "    for user in range(ratings.shape[0]):\n",
    "        split_index = ratings[user].indices\n",
    "        n_splits = math.ceil(validation_size * len(split_index))\n",
    "        validation_index = rstate.choice(split_index, size=n_splits, replace=False)\n",
    "        validation[user, validation_index] = ratings[user, validation_index]\n",
    "        training[user, validation_index] = 0\n",
    "    \n",
    "    training, validation = training.tocsr(), validation.tocsr()\n",
    "    return training, validation"
   ]
  },
  {
   "cell_type": "code",
   "execution_count": null,
   "metadata": {},
   "outputs": [],
   "source": [
    "validation_size = 0.2\n",
    "# seed = 1234\n",
    "X_train, X_validation = create_train_validation(X, validation_size)\n",
    "X_train, X_validation"
   ]
  },
  {
   "cell_type": "markdown",
   "metadata": {},
   "source": [
    "---\n",
    "\n",
    "**Improve**: it's better to use `time` to perform the `train/validation` split."
   ]
  },
  {
   "cell_type": "code",
   "execution_count": 43,
   "metadata": {},
   "outputs": [
    {
     "data": {
      "text/plain": [
       "(34619, 47880)"
      ]
     },
     "execution_count": 43,
     "metadata": {},
     "output_type": "execute_result"
    }
   ],
   "source": [
    "%store -r train_user_map\n",
    "%store -r train_item_map\n",
    "\n",
    "N, M = len(train_user_map), len(train_item_map)\n",
    "N, M"
   ]
  },
  {
   "cell_type": "code",
   "execution_count": 7,
   "metadata": {},
   "outputs": [
    {
     "name": "stdout",
     "output_type": "stream",
     "text": [
      "validation dimension: (234524, 3)\n",
      "valid users: 25048\n"
     ]
    },
    {
     "data": {
      "text/html": [
       "<div>\n",
       "<style scoped>\n",
       "    .dataframe tbody tr th:only-of-type {\n",
       "        vertical-align: middle;\n",
       "    }\n",
       "\n",
       "    .dataframe tbody tr th {\n",
       "        vertical-align: top;\n",
       "    }\n",
       "\n",
       "    .dataframe thead th {\n",
       "        text-align: right;\n",
       "    }\n",
       "</style>\n",
       "<table border=\"1\" class=\"dataframe\">\n",
       "  <thead>\n",
       "    <tr style=\"text-align: right;\">\n",
       "      <th></th>\n",
       "      <th>userId</th>\n",
       "      <th>itemId</th>\n",
       "      <th>rating</th>\n",
       "    </tr>\n",
       "  </thead>\n",
       "  <tbody>\n",
       "    <tr>\n",
       "      <th>0</th>\n",
       "      <td>0</td>\n",
       "      <td>2625</td>\n",
       "      <td>1</td>\n",
       "    </tr>\n",
       "    <tr>\n",
       "      <th>1</th>\n",
       "      <td>0</td>\n",
       "      <td>42062</td>\n",
       "      <td>1</td>\n",
       "    </tr>\n",
       "    <tr>\n",
       "      <th>2</th>\n",
       "      <td>1</td>\n",
       "      <td>10</td>\n",
       "      <td>1</td>\n",
       "    </tr>\n",
       "    <tr>\n",
       "      <th>3</th>\n",
       "      <td>1</td>\n",
       "      <td>518</td>\n",
       "      <td>1</td>\n",
       "    </tr>\n",
       "    <tr>\n",
       "      <th>4</th>\n",
       "      <td>1</td>\n",
       "      <td>714</td>\n",
       "      <td>1</td>\n",
       "    </tr>\n",
       "  </tbody>\n",
       "</table>\n",
       "</div>"
      ],
      "text/plain": [
       "   userId  itemId  rating\n",
       "0       0    2625       1\n",
       "1       0   42062       1\n",
       "2       1      10       1\n",
       "3       1     518       1\n",
       "4       1     714       1"
      ]
     },
     "execution_count": 7,
     "metadata": {},
     "output_type": "execute_result"
    }
   ],
   "source": [
    "# read processed validation file\n",
    "file_v_path = '../processed_validation.txt'\n",
    "df_v = pd.read_csv(file_v_path, sep='\\t', header=None, names=['userId', 'itemId', 'rating'])\n",
    "\n",
    "print('validation dimension:', df_v.shape)\n",
    "print('valid users:', len(set(df_v.userId)))\n",
    "df_v.head()"
   ]
  },
  {
   "cell_type": "code",
   "execution_count": 8,
   "metadata": {},
   "outputs": [
    {
     "name": "stdout",
     "output_type": "stream",
     "text": [
      "test dimension: (125816, 3)\n",
      "valid users: 18612\n"
     ]
    },
    {
     "data": {
      "text/html": [
       "<div>\n",
       "<style scoped>\n",
       "    .dataframe tbody tr th:only-of-type {\n",
       "        vertical-align: middle;\n",
       "    }\n",
       "\n",
       "    .dataframe tbody tr th {\n",
       "        vertical-align: top;\n",
       "    }\n",
       "\n",
       "    .dataframe thead th {\n",
       "        text-align: right;\n",
       "    }\n",
       "</style>\n",
       "<table border=\"1\" class=\"dataframe\">\n",
       "  <thead>\n",
       "    <tr style=\"text-align: right;\">\n",
       "      <th></th>\n",
       "      <th>userId</th>\n",
       "      <th>itemId</th>\n",
       "      <th>rating</th>\n",
       "    </tr>\n",
       "  </thead>\n",
       "  <tbody>\n",
       "    <tr>\n",
       "      <th>0</th>\n",
       "      <td>0</td>\n",
       "      <td>0</td>\n",
       "      <td>1</td>\n",
       "    </tr>\n",
       "    <tr>\n",
       "      <th>1</th>\n",
       "      <td>0</td>\n",
       "      <td>945</td>\n",
       "      <td>1</td>\n",
       "    </tr>\n",
       "    <tr>\n",
       "      <th>2</th>\n",
       "      <td>0</td>\n",
       "      <td>1244</td>\n",
       "      <td>1</td>\n",
       "    </tr>\n",
       "    <tr>\n",
       "      <th>3</th>\n",
       "      <td>0</td>\n",
       "      <td>1752</td>\n",
       "      <td>1</td>\n",
       "    </tr>\n",
       "    <tr>\n",
       "      <th>4</th>\n",
       "      <td>0</td>\n",
       "      <td>2178</td>\n",
       "      <td>1</td>\n",
       "    </tr>\n",
       "  </tbody>\n",
       "</table>\n",
       "</div>"
      ],
      "text/plain": [
       "   userId  itemId  rating\n",
       "0       0       0       1\n",
       "1       0     945       1\n",
       "2       0    1244       1\n",
       "3       0    1752       1\n",
       "4       0    2178       1"
      ]
     },
     "execution_count": 8,
     "metadata": {},
     "output_type": "execute_result"
    }
   ],
   "source": [
    "# read processed test file\n",
    "file_t_path = '../processed_test.txt'\n",
    "df_t = pd.read_csv(file_t_path, sep='\\t', header=None, names=['userId', 'itemId', 'rating'])\n",
    "\n",
    "print('test dimension:', df_t.shape)\n",
    "print('valid users:', len(set(df_t.userId)))\n",
    "df_t.head()"
   ]
  },
  {
   "cell_type": "code",
   "execution_count": 9,
   "metadata": {},
   "outputs": [],
   "source": [
    "# convert raw test data to sparse user-item matrix\n",
    "def create_validation_test_matrix(data, user_col, item_col, rating_col, N, M):\n",
    "    \"\"\"\n",
    "    rtype: scipy sp  arse matrix csr_matrix, shape same as X_train\n",
    "    \"\"\"\n",
    "    rows = np.array(data[user_col])\n",
    "    cols = np.array(data[item_col])\n",
    "    ratings = np.array(data[rating_col])\n",
    "    \n",
    "    result = csr_matrix((ratings, (rows, cols)), shape=(N, M))\n",
    "    return result, data"
   ]
  },
  {
   "cell_type": "code",
   "execution_count": 10,
   "metadata": {},
   "outputs": [
    {
     "data": {
      "text/plain": [
       "<34619x47880 sparse matrix of type '<class 'numpy.int64'>'\n",
       "\twith 234524 stored elements in Compressed Sparse Row format>"
      ]
     },
     "execution_count": 10,
     "metadata": {},
     "output_type": "execute_result"
    }
   ],
   "source": [
    "X_validation, df_v = create_validation_test_matrix(df_v, 'userId', 'itemId', 'rating', N, M)\n",
    "X_validation"
   ]
  },
  {
   "cell_type": "code",
   "execution_count": 11,
   "metadata": {},
   "outputs": [
    {
     "data": {
      "text/plain": [
       "<34619x47880 sparse matrix of type '<class 'numpy.int64'>'\n",
       "\twith 125816 stored elements in Compressed Sparse Row format>"
      ]
     },
     "execution_count": 11,
     "metadata": {},
     "output_type": "execute_result"
    }
   ],
   "source": [
    "X_test, df_t = create_validation_test_matrix(df_t, 'userId', 'itemId', 'rating', N, M)\n",
    "X_test"
   ]
  },
  {
   "cell_type": "markdown",
   "metadata": {},
   "source": [
    "---\n",
    "# Implementation\n",
    "Build the recommender by `ALS_WR` based collaborative filtering for implicit feedback dataset."
   ]
  },
  {
   "cell_type": "code",
   "execution_count": 181,
   "metadata": {},
   "outputs": [],
   "source": [
    "# Alternating Least Squares with Weighted Regularization\n",
    "class ALS_WR:\n",
    "    def __init__(self, n_factors, n_iters, _lambda, alpha, seed=None):\n",
    "        self.n_factors = n_factors\n",
    "        self.n_iters = n_iters\n",
    "        # self.epsilon = epsilon\n",
    "        self._lambda = _lambda\n",
    "        self.alpha = alpha\n",
    "        self.seed = seed\n",
    "    \n",
    "    \n",
    "    def fit(self, ratings):\n",
    "        self.W = ratings\n",
    "        Cui = ratings.copy().tocsr()\n",
    "        Cui.data *= self.alpha\n",
    "        Ciu = Cui.T.tocsr()\n",
    "        \n",
    "        rstate = np.random.RandomState(self.seed)\n",
    "        self.n_users, self.n_items = Cui.shape\n",
    "        self.user_factors = rstate.normal(size=(self.n_users, self.n_factors))\n",
    "        self.item_factors = rstate.normal(size=(self.n_items, self.n_factors))\n",
    "        \n",
    "        self.train_RMSE, self.train_loss = [], []\n",
    "        delta_rmse = float('inf')\n",
    "        \n",
    "        ## set for loop iterations to observe convergence rate\n",
    "        # for _ in tqdm(np.arange(self.n_iters), desc='training...'):\n",
    "        for _iter in range(self.n_iters):\n",
    "        # _iter = 0\n",
    "        # while delta_rmse >= self.epsilon:\n",
    "            self._als_step(Cui, self.user_factors, self.item_factors, self.n_users)\n",
    "            self._als_step(Ciu, self.item_factors, self.user_factors, self.n_items)\n",
    "            \n",
    "            # tmp_RMSE, tmp_loss = self._loss()\n",
    "            # self.train_RMSE.append(tmp_RMSE)\n",
    "            # self.train_loss.append(tmp_loss)\n",
    "            # print(\"Iter={}\\tRMSE={}\\tLoss={}\".format(_iter, tmp_RMSE, tmp_loss))\n",
    "            \n",
    "            # _iter += 1\n",
    "            # if len(self.train_RMSE) >= 2:\n",
    "                # delta_rmse = np.abs(self.train_RMSE[-2] - self.train_RMSE[-1])\n",
    "    \n",
    "    \n",
    "    # fix one latent vector and solve the other\n",
    "    def _als_step(self, C, X, Y, N):\n",
    "        YtY = Y.T.dot(Y)\n",
    "        data, indptr, indices = C.data, C.indptr, C.indices\n",
    "        \n",
    "        for n_i in range(N):\n",
    "            b = np.zeros(self.n_factors)\n",
    "            A = YtY + self._lambda * np.eye(self.n_factors)\n",
    "            for ptr in range(indptr[n_i], indptr[n_i + 1]):\n",
    "                index = indices[ptr] \n",
    "                confidence = 1.0 + data[ptr]\n",
    "                factor = Y[index]\n",
    "                ## compute matrix product using outer product of each row can speedup\n",
    "                # for b, Y^T C^u p_u, Pui = 1\n",
    "                b += confidence * factor\n",
    "                # for A, Y^T (C^u - I) Y\n",
    "                A += (confidence - 1) * np.outer(factor, factor)\n",
    "            X[n_i] = np.linalg.solve(A, b)\n",
    "    \n",
    "    \n",
    "    def _loss(self):\n",
    "        P = self.W.toarray()\n",
    "        prediction = self.predict()\n",
    "        MSE = np.sum((P * self.alpha + 1.0) * ((np.asarray(P - prediction)) ** 2))\n",
    "        RMSE = np.sqrt(MSE / (self.n_users * self.n_items))\n",
    "        \n",
    "        Reg_x = Reg_y = 0.0\n",
    "        for u in range(self.n_users):\n",
    "            Reg_x += self._lambda * self.user_factors[u].dot(self.user_factors[u].T)\n",
    "        for i in range(self.n_items):\n",
    "            Reg_y += self._lambda * self.item_factors[i].dot(self.item_factors[i].T)\n",
    "        \n",
    "        loss = MSE + Reg_x + Reg_y\n",
    "        return RMSE, loss\n",
    "    \n",
    "    \n",
    "    # return predicted ratings for evaluation\n",
    "    def predict(self):\n",
    "        prediction = self.user_factors.dot(self.item_factors.T)\n",
    "        return prediction\n",
    "    \n",
    "    \n",
    "    def _predict_user(self, user):\n",
    "        u_pred = self.user_factors[user].dot(self.item_factors.T)\n",
    "        return u_pred\n",
    "    \n",
    "    \n",
    "    # return top N ranked items for a given user\n",
    "    def _recommend_user(self, user, N=5):\n",
    "        u_pred = self._predict_user(user)\n",
    "        # including the items that user already bought\n",
    "        indices = np.argpartition(u_pred, -N)[-N:]  # faster than argsort straightly\n",
    "        ptrs = np.argsort(u_pred[indices])[::-1]\n",
    "        ranked = indices[ptrs]\n",
    "        \n",
    "        result = list(islice((rec for rec in ranked), N))\n",
    "        # if excluding the items that user liked\n",
    "        # result = list(slice(rec for rec in ranked if rec not in set(ratings[user].indices)), N)\n",
    "        return result\n",
    "    \n",
    "    \n",
    "    # recommend all users with top N items\n",
    "    def recommend(self, users, N=5):\n",
    "        n_users = len(users)\n",
    "        recommendation = np.zeros((n_users, N))\n",
    "        \n",
    "        for i, user_id in enumerate(users):\n",
    "            recommendation[i] = self._recommend_user(user_id, N)\n",
    "        return recommendation\n",
    "    \n",
    "    \n",
    "    # return top N similar items for a given item\n",
    "    def _similar_items(self, item_ids, N=5):\n",
    "        normed_factors = normalize(self.item_factors)\n",
    "        # kd-tree for nearest neighbour search by Euclidean metirc\n",
    "        knn = NearestNeighbors(n_neighbors=N+1, metric='euclidean')\n",
    "        knn.fit(normed_factors)\n",
    "        \n",
    "        selected_items = normed_factors[item_ids]\n",
    "        _, items = knn.kneighbors(selected_items)\n",
    "        similar_items = items[:,1:]\n",
    "        return similar_items"
   ]
  },
  {
   "cell_type": "markdown",
   "metadata": {},
   "source": [
    "# Train\n",
    "\n",
    "Use 2-months transaction data `train.txt` for training model. At first, we set `epsilon` to check how many iters the algorithm will arrive at the convergence for training loss. After we determine the `n_iters`, we can get rid of the while-loop part of codes to improve efficiency."
   ]
  },
  {
   "cell_type": "code",
   "execution_count": 13,
   "metadata": {},
   "outputs": [
    {
     "name": "stdout",
     "output_type": "stream",
     "text": [
      "Iter=0\tRMSE=0.10489920618293799\tLoss=18276253.148616023\n",
      "Iter=1\tRMSE=0.09986042927781102\tLoss=16570411.06528471\n",
      "Iter=2\tRMSE=0.09875976346897583\tLoss=16209436.659574607\n",
      "Iter=3\tRMSE=0.0983056694857678\tLoss=16060812.195752071\n",
      "Iter=4\tRMSE=0.09809041597905843\tLoss=15989869.778793458\n",
      "Iter=5\tRMSE=0.09797076245363479\tLoss=15949935.350654608\n",
      "Iter=6\tRMSE=0.0978979578989654\tLoss=15925201.86704605\n",
      "Iter=7\tRMSE=0.09785230414651239\tLoss=15909299.364606261\n",
      "Iter=8\tRMSE=0.0978232097766599\tLoss=15898806.951243935\n",
      "Iter=9\tRMSE=0.0978042169621153\tLoss=15891638.094111513\n",
      "Iter=10\tRMSE=0.09779139733791484\tLoss=15886521.563479094\n",
      "Iter=11\tRMSE=0.09778241071898332\tLoss=15882698.042355996\n"
     ]
    }
   ],
   "source": [
    "# find range of number of iterations for convergence -> 12~16\n",
    "Params = {\n",
    "    'n_factors':15,\n",
    "    # 'n_iters':20,\n",
    "    'epsilon':1e-5,  # almost converged\n",
    "    '_lambda':0.01,\n",
    "    'alpha':15\n",
    "    # 'seed':1234\n",
    "}\n",
    "\n",
    "als = ALS_WR(**Params)\n",
    "als.fit(X_train)"
   ]
  },
  {
   "cell_type": "code",
   "execution_count": 17,
   "metadata": {},
   "outputs": [
    {
     "data": {
      "image/png": "[encoded data removed]",
      "text/plain": [
       "<Figure size 576x432 with 1 Axes>"
      ]
     },
     "metadata": {
      "needs_background": "light"
     },
     "output_type": "display_data"
    }
   ],
   "source": [
    "# plot RMSE curve\n",
    "n_iters = 12\n",
    "\n",
    "plt.plot(np.arange(n_iters), als.train_RMSE, label='Train RMSE', linewidth=3, color='b', marker='s')\n",
    "plt.xlabel('N Iters')\n",
    "plt.ylabel('RMSE')\n",
    "plt.legend(loc='best')\n",
    "plt.grid(True)\n",
    "plt.show()\n",
    "plt.close()"
   ]
  },
  {
   "cell_type": "code",
   "execution_count": 18,
   "metadata": {},
   "outputs": [
    {
     "data": {
      "image/png": "[encoded data removed]",
      "text/plain": [
       "<Figure size 576x432 with 1 Axes>"
      ]
     },
     "metadata": {
      "needs_background": "light"
     },
     "output_type": "display_data"
    }
   ],
   "source": [
    "# plot train loss curve\n",
    "plt.plot(np.arange(n_iters), als.train_loss, label='Train Loss', linewidth=3, color='r', marker='s')\n",
    "plt.xlabel('N Iters')\n",
    "plt.ylabel('Loss')\n",
    "plt.legend(loc='best')\n",
    "plt.grid(True)\n",
    "plt.show()\n",
    "plt.close()"
   ]
  },
  {
   "cell_type": "markdown",
   "metadata": {},
   "source": [
    "Therefore, we may assume `15 iters` is enough for the model to converge."
   ]
  },
  {
   "cell_type": "code",
   "execution_count": 13,
   "metadata": {},
   "outputs": [
    {
     "data": {
      "application/vnd.jupyter.widget-view+json": {
       "model_id": "13eb1240b8dc4c59ae00c25b0fe7c2b9",
       "version_major": 2,
       "version_minor": 0
      },
      "text/plain": [
       "HBox(children=(IntProgress(value=0, description='training...', max=15, style=ProgressStyle(description_width='…"
      ]
     },
     "metadata": {},
     "output_type": "display_data"
    },
    {
     "name": "stdout",
     "output_type": "stream",
     "text": [
      "\n"
     ]
    }
   ],
   "source": [
    "n_iters = 15\n",
    "als = ALS_WR(n_factors=20, n_iters=n_iters, alpha=15, _lambda=0.1, seed=1234)\n",
    "als.fit(X_train)"
   ]
  },
  {
   "cell_type": "markdown",
   "metadata": {},
   "source": [
    "# Ranking Metrics\n",
    "\n",
    "1. Mean Average Precision (**MAP**)\n",
    "2. Hit Ratio (**HR**)\n",
    "3. Normalized Discounted Cumulative Gain (**NDCG**)\n",
    "4. ROC/AUC"
   ]
  },
  {
   "cell_type": "code",
   "execution_count": 14,
   "metadata": {},
   "outputs": [],
   "source": [
    "## Mean Average Precision\n",
    "# reference: https://en.wikipedia.org/wiki/Evaluation_measures_(information_retrieval)#Mean_average_precision\n",
    "def AP_k(y_label, y_pred, k):\n",
    "    ground_truth = set(y_label)\n",
    "    if len(ground_truth) == 0:\n",
    "        return 0\n",
    "    \n",
    "    hit_cnt, precision = 0, 0.0\n",
    "    for i, p in enumerate(y_pred):\n",
    "        if p in ground_truth:\n",
    "            hit_cnt += 1\n",
    "            precision += hit_cnt / (i + 1.0)\n",
    "\n",
    "    precision_k = precision / min(len(ground_truth), k)\n",
    "    return precision_k\n",
    "\n",
    "def MAP_k(model, ratings, k):\n",
    "    precision = 0\n",
    "    n_users = ratings.shape[0]\n",
    "    \n",
    "    # for user in tqdm(np.arange(n_users), desc='evaluating...'):\n",
    "    for user in range(n_users):\n",
    "        y_label = ratings[user].indices\n",
    "        u_pred = model._predict_user(user)\n",
    "        y_pred = np.argsort(u_pred)[::-1][:k]\n",
    "        precision += AP_k(y_label, y_pred, k)\n",
    "    \n",
    "    precision /= n_users\n",
    "    return precision"
   ]
  },
  {
   "cell_type": "code",
   "execution_count": 15,
   "metadata": {},
   "outputs": [],
   "source": [
    "## Hit Ratio\n",
    "def HR_k_helper(y_label, y_pred, k):\n",
    "    ground_truth = set(y_label)\n",
    "    if len(ground_truth) == 0:\n",
    "        return 0, 0\n",
    "    \n",
    "    hit_cnt = 0\n",
    "    for p in y_pred:\n",
    "        if p in ground_truth:\n",
    "            hit_cnt += 1\n",
    "    return hit_cnt, len(ground_truth)\n",
    "\n",
    "def HR_k(model, ratings, k):\n",
    "    hits, actuals = 0, 0\n",
    "    n_users = ratings.shape[0]\n",
    "    \n",
    "    for user in range(n_users):\n",
    "        y_label = ratings[user].indices\n",
    "        u_pred = model._predict_user(user)\n",
    "        y_pred = np.argsort(u_pred)[::-1][:k]\n",
    "        \n",
    "        tmp1, tmp2 = HR_k_helper(y_label, y_pred, k)\n",
    "        hits += tmp1\n",
    "        actuals += tmp2\n",
    "    return hits / actuals"
   ]
  },
  {
   "cell_type": "code",
   "execution_count": 16,
   "metadata": {},
   "outputs": [],
   "source": [
    "## Normalized Discounted Cummulative Gain\n",
    "def DCG_k(y_label, y_pred, k):\n",
    "    ranked = np.argsort(y_pred)[::-1]\n",
    "    y_label = np.take(y_label, ranked[:k])\n",
    "\n",
    "    gains = 2 ** y_label - 1\n",
    "    discounts = np.log2(np.arange(2, gains.size + 2))\n",
    "\n",
    "    result = np.sum(gains / discounts)\n",
    "    return result\n",
    "\n",
    "def NDCG_k_helper(y_label, y_pred, k):\n",
    "    actual = DCG_k(y_label, y_pred, k)\n",
    "    best = DCG_k(y_label, y_label, k)\n",
    "    \n",
    "    if not best:\n",
    "        return 0\n",
    "    return actual / best\n",
    "\n",
    "def NDCG_k(model, ratings, k):\n",
    "    result = 0.0\n",
    "    n_users, n_items = ratings.shape\n",
    "    \n",
    "    for user in range(n_users):\n",
    "        y_label = np.zeros(n_items)\n",
    "        indices = ratings[user].indices\n",
    "        y_label[indices] = 1\n",
    "        u_pred = model._predict_user(user)\n",
    "        result += NDCG_k_helper(y_label, u_pred, k)\n",
    "    \n",
    "    result /= n_users\n",
    "    return result"
   ]
  },
  {
   "cell_type": "code",
   "execution_count": 17,
   "metadata": {},
   "outputs": [],
   "source": [
    "## Area Under ROC Curve\n",
    "def AUC(model, ratings):\n",
    "    result = 0.0\n",
    "    n_users, n_items = ratings.shape\n",
    "    \n",
    "    for user in np.arange(n_users):\n",
    "        y_pred = model._predict_user(user)\n",
    "        y_label = np.zeros(n_items)\n",
    "        indices = ratings[user].indices\n",
    "        y_label[indices] = 1\n",
    "        \n",
    "        # fix bug about zero division\n",
    "        # try:\n",
    "        #     temp = roc_auc_score(y_label, y_pred)\n",
    "        # except ValueError:\n",
    "        #     temp = 0.0\n",
    "        # result += temp\n",
    "\n",
    "        if len(np.unique(y_label)) == 1:\n",
    "            result += accuracy_score(y_label, np.rint(y_pred))\n",
    "        else:\n",
    "            result += roc_auc_score(y_label, y_pred)\n",
    "    \n",
    "    result /= n_users\n",
    "    return result"
   ]
  },
  {
   "cell_type": "code",
   "execution_count": 18,
   "metadata": {},
   "outputs": [],
   "source": [
    "## leave-one-out AUC\n",
    "# def leave_one_out_auc(data, model, n_folds):\n",
    "#     auc_train_list, auc_validation_list = [], []\n",
    "    \n",
    "#     for _ in range(n_folds):\n",
    "#         # create_train_validation(data, validation_size, seed)\n",
    "#         X_train, X_validation = create_train_validation(X, 0.2)\n",
    "#         model.fit(X_train)\n",
    "        \n",
    "#         auc_train_list.append(AUC(model, X_train))\n",
    "#         auc_validation_list.append(AUC(model, X_validation))\n",
    "    \n",
    "#     avg_auc_train, avg_auc_validation = np.mean(auc_train_list), np.mean(auc_validation_list)\n",
    "#     return avg_auc_train, avg_auc_validation"
   ]
  },
  {
   "cell_type": "markdown",
   "metadata": {},
   "source": [
    "---\n",
    "# Evaluation\n",
    "Use 2-weeks validation data `validation.txt` for `model selection`.\n",
    "First, fix number of latent factors, tune on parameters like `alpha`, `_lambda`."
   ]
  },
  {
   "cell_type": "code",
   "execution_count": 24,
   "metadata": {},
   "outputs": [
    {
     "name": "stdout",
     "output_type": "stream",
     "text": [
      "Model Params: alpha=1, _lambda=0.01\n",
      "NDCG_20 Performance: train=0.18857437015951325, eval=0.036477934850654224\n",
      "Model Params: alpha=1, _lambda=0.1\n",
      "NDCG_20 Performance: train=0.1877099225579789, eval=0.036161200759844664\n",
      "Model Params: alpha=1, _lambda=1\n",
      "NDCG_20 Performance: train=0.1877400595278186, eval=0.036359410066634706\n",
      "Model Params: alpha=1, _lambda=10\n",
      "NDCG_20 Performance: train=0.18651714177099823, eval=0.036441166489041395\n",
      "Model Params: alpha=10, _lambda=0.01\n",
      "NDCG_20 Performance: train=0.17263141087819256, eval=0.037724698102640154\n",
      "Model Params: alpha=10, _lambda=0.1\n",
      "NDCG_20 Performance: train=0.17329440077395825, eval=0.037737291628119826\n",
      "Model Params: alpha=10, _lambda=1\n",
      "NDCG_20 Performance: train=0.17309763422171323, eval=0.03789262194100099\n",
      "Model Params: alpha=10, _lambda=10\n",
      "NDCG_20 Performance: train=0.1741200410916708, eval=0.03842394421706181\n",
      "Model Params: alpha=20, _lambda=0.01\n",
      "NDCG_20 Performance: train=0.15651116349759606, eval=0.036519311347946344\n",
      "Model Params: alpha=20, _lambda=0.1\n",
      "NDCG_20 Performance: train=0.1565515159682739, eval=0.03676925999487439\n",
      "Model Params: alpha=20, _lambda=1\n",
      "NDCG_20 Performance: train=0.15577217386040493, eval=0.03671128958545434\n",
      "Model Params: alpha=20, _lambda=10\n",
      "NDCG_20 Performance: train=0.15629333873790444, eval=0.03674975771830592\n",
      "Model Params: alpha=40, _lambda=0.01\n",
      "NDCG_20 Performance: train=0.13771991053332777, eval=0.03435889278370445\n",
      "Model Params: alpha=40, _lambda=0.1\n",
      "NDCG_20 Performance: train=0.13826617473621847, eval=0.034779489550210436\n",
      "Model Params: alpha=40, _lambda=1\n",
      "NDCG_20 Performance: train=0.13781207034666493, eval=0.03434090660904621\n",
      "Model Params: alpha=40, _lambda=10\n",
      "NDCG_20 Performance: train=0.1376627075974772, eval=0.03447711427497447\n",
      "Model Params: alpha=80, _lambda=0.01\n",
      "NDCG_20 Performance: train=0.11821089857045626, eval=0.03132535348253008\n",
      "Model Params: alpha=80, _lambda=0.1\n",
      "NDCG_20 Performance: train=0.1182857941255129, eval=0.031118721790370802\n",
      "Model Params: alpha=80, _lambda=1\n",
      "NDCG_20 Performance: train=0.11844418320507594, eval=0.03141427507198201\n",
      "Model Params: alpha=80, _lambda=10\n",
      "NDCG_20 Performance: train=0.11761364452254224, eval=0.03129840143431755\n",
      "Model Params: alpha=100, _lambda=0.01\n",
      "NDCG_20 Performance: train=0.11145940020841218, eval=0.029518477555894602\n",
      "Model Params: alpha=100, _lambda=0.1\n",
      "NDCG_20 Performance: train=0.11185545874454662, eval=0.029849415895201913\n",
      "Model Params: alpha=100, _lambda=1\n",
      "NDCG_20 Performance: train=0.11149531763533403, eval=0.029870879657892258\n",
      "Model Params: alpha=100, _lambda=10\n",
      "NDCG_20 Performance: train=0.11070953015978774, eval=0.029915979308089976\n"
     ]
    }
   ],
   "source": [
    "# select NDCG metric to tune\n",
    "# als = ALS_WR(n_factors=n_factors, n_iters=n_iters, alpha=15, _lambda=0.1)\n",
    "n_factors = 20\n",
    "n_iters = 15\n",
    "k = 20\n",
    "\n",
    "for alpha in [1, 10, 20, 40, 80, 100]:\n",
    "    for _lambda in [0.01, 0.1, 1, 10]:\n",
    "        model = ALS_WR(n_factors=n_factors, n_iters=n_iters, alpha=alpha, _lambda=_lambda)\n",
    "        model.fit(X_train)\n",
    "        \n",
    "        NDCG_train = NDCG_k(model, X_train, k)\n",
    "        NDCG_eval = NDCG_k(model, X_validation, k)\n",
    "        \n",
    "        print('Model Params: alpha={}, _lambda={}'.format(alpha, _lambda))\n",
    "        print('NDCG_20 Performance: train={}, eval={}'.format(NDCG_train, NDCG_eval))"
   ]
  },
  {
   "cell_type": "code",
   "execution_count": 22,
   "metadata": {},
   "outputs": [
    {
     "data": {
      "image/png": "[encoded data removed]",
      "text/plain": [
       "<Figure size 576x432 with 1 Axes>"
      ]
     },
     "metadata": {
      "needs_background": "light"
     },
     "output_type": "display_data"
    }
   ],
   "source": [
    "_lambda_list = [0.01, 0.1, 1.0, 10]\n",
    "alpha_1 = [0.036477934850654224, 0.036161200759844664, 0.036359410066634706, 0.036441166489041395]\n",
    "alpha_10 = [0.037724698102640154, 0.037737291628119826, 0.03789262194100099, 0.03842394421706181]\n",
    "alpha_20 = [0.036519311347946344, 0.03676925999487439, 0.03671128958545434, 0.03674975771830592]\n",
    "alpha_40 = [0.03435889278370445, 0.034779489550210436, 0.03434090660904621, 0.03447711427497447]\n",
    "alpha_80 = [0.03132535348253008, 0.031118721790370802, 0.03141427507198201, 0.03129840143431755]\n",
    "alpha_100 = [0.029518477555894602, 0.029849415895201913, 0.029870879657892258, 0.029915979308089976]\n",
    "\n",
    "plt.plot(_lambda_list, alpha_1, label='alpha=1', linewidth=2, marker='s', MarkerSize=5)\n",
    "plt.plot(_lambda_list, alpha_10, label='alpha=10', linewidth=2, marker='s', MarkerSize=5)\n",
    "plt.plot(_lambda_list, alpha_20, label='alpha=20', linewidth=2, marker='s', MarkerSize=5)\n",
    "plt.plot(_lambda_list, alpha_40, label='alpha=40', linewidth=2, marker='s', MarkerSize=5)\n",
    "plt.plot(_lambda_list, alpha_80, label='alpha=80', linewidth=2, marker='s', MarkerSize=5)\n",
    "plt.plot(_lambda_list, alpha_100, label='alpha=100', linewidth=2, marker='s', MarkerSize=5)\n",
    "plt.xlabel('_lambda')\n",
    "plt.ylabel('NDCG 20')\n",
    "plt.legend(loc='best')\n",
    "plt.grid(True)\n",
    "plt.show()\n",
    "plt.close()"
   ]
  },
  {
   "cell_type": "markdown",
   "metadata": {},
   "source": [
    "Select `_lambda=0.01`, then find suitable value of `alpha` in range(10)."
   ]
  },
  {
   "cell_type": "code",
   "execution_count": 31,
   "metadata": {},
   "outputs": [
    {
     "name": "stdout",
     "output_type": "stream",
     "text": [
      "alpha=0\n",
      "Train: NDCG_20=0.16381917030021934, NDCG_40=0.13250290854805588, NDCG_60=0.13511109336925997\n",
      "Validation: NDCG_20=0.0310541247996981, NDCG_40=0.03551499466625129, NDCG_60=0.038880827618791476\n",
      "alpha=1\n",
      "Train: NDCG_20=0.1882112282019053, NDCG_40=0.15373694354969575, NDCG_60=0.15763251064517206\n",
      "Validation: NDCG_20=0.03652770936839841, NDCG_40=0.04160828690226829, NDCG_60=0.045480848712512394\n",
      "alpha=2\n",
      "Train: NDCG_20=0.19291352300740658, NDCG_40=0.15930685825177074, NDCG_60=0.16380328144513723\n",
      "Validation: NDCG_20=0.037813161334275855, NDCG_40=0.043144013800986626, NDCG_60=0.047248678648724236\n",
      "alpha=3\n",
      "Train: NDCG_20=0.19104310578693098, NDCG_40=0.15986086770483035, NDCG_60=0.1651760809484275\n",
      "Validation: NDCG_20=0.038153773991776586, NDCG_40=0.043832753890835054, NDCG_60=0.04814254883913996\n",
      "alpha=4\n",
      "Train: NDCG_20=0.18815487569289557, NDCG_40=0.1592867896264668, NDCG_60=0.16544980804350168\n",
      "Validation: NDCG_20=0.03870417321856897, NDCG_40=0.04470602040059592, NDCG_60=0.04909956426588057\n",
      "alpha=5\n",
      "Train: NDCG_20=0.18642098179988112, NDCG_40=0.15875463080452534, NDCG_60=0.16527422231018646\n",
      "Validation: NDCG_20=0.039057468821816266, NDCG_40=0.04517166867903848, NDCG_60=0.04973602777668787\n",
      "alpha=6\n",
      "Train: NDCG_20=0.1826525248904865, NDCG_40=0.15728528058434038, NDCG_60=0.1643273643396027\n",
      "Validation: NDCG_20=0.038426650333998606, NDCG_40=0.04499263728059996, NDCG_60=0.049556747197855994\n",
      "alpha=7\n",
      "Train: NDCG_20=0.17980605074848666, NDCG_40=0.15637190202374104, NDCG_60=0.16422195761919295\n",
      "Validation: NDCG_20=0.03827951647005845, NDCG_40=0.044751022141075215, NDCG_60=0.049553363625803905\n",
      "alpha=8\n",
      "Train: NDCG_20=0.1775078791653516, NDCG_40=0.15544299119531327, NDCG_60=0.16364079752250085\n",
      "Validation: NDCG_20=0.03830826924126314, NDCG_40=0.044896415076452, NDCG_60=0.049761907388890234\n",
      "alpha=9\n",
      "Train: NDCG_20=0.17453490768319713, NDCG_40=0.15394367520744812, NDCG_60=0.1624572245176199\n",
      "Validation: NDCG_20=0.037894267179253274, NDCG_40=0.04467865307414587, NDCG_60=0.04956198759308778\n"
     ]
    }
   ],
   "source": [
    "NDCG_20_train, NDCG_40_train, NDCG_60_train = [], [], []\n",
    "NDCG_20_eval, NDCG_40_eval, NDCG_60_eval = [], [], []\n",
    "\n",
    "for alpha in np.arange(10):\n",
    "    model = ALS_WR(n_factors=20, n_iters=15, alpha=alpha, _lambda=0.01)\n",
    "    model.fit(X_train)\n",
    "    \n",
    "    NDCG_20_train_tmp = NDCG_k(model, X_train, 20)\n",
    "    NDCG_20_eval_tmp = NDCG_k(model, X_validation, 20)\n",
    "    NDCG_40_train_tmp = NDCG_k(model, X_train, 40)\n",
    "    NDCG_40_eval_tmp = NDCG_k(model, X_validation, 40)\n",
    "    NDCG_60_train_tmp = NDCG_k(model, X_train, 60)\n",
    "    NDCG_60_eval_tmp = NDCG_k(model, X_validation, 60)\n",
    "    \n",
    "    NDCG_20_train.append(NDCG_20_train_tmp)\n",
    "    NDCG_20_eval.append(NDCG_20_eval_tmp)\n",
    "    NDCG_40_train.append(NDCG_40_train_tmp)\n",
    "    NDCG_40_eval.append(NDCG_40_eval_tmp)\n",
    "    NDCG_60_train.append(NDCG_60_train_tmp)\n",
    "    NDCG_60_eval.append(NDCG_60_eval_tmp)\n",
    "    \n",
    "    print('alpha={}'.format(alpha))\n",
    "    print('Train: NDCG_20={}, NDCG_40={}, NDCG_60={}'.format(NDCG_20_train_tmp, NDCG_40_train_tmp, NDCG_60_train_tmp))\n",
    "    print('Validation: NDCG_20={}, NDCG_40={}, NDCG_60={}'.format(NDCG_20_eval_tmp, NDCG_40_eval_tmp, NDCG_60_eval_tmp))"
   ]
  },
  {
   "cell_type": "code",
   "execution_count": 27,
   "metadata": {},
   "outputs": [
    {
     "data": {
      "image/png": "[encoded data removed]",
      "text/plain": [
       "<Figure size 576x432 with 1 Axes>"
      ]
     },
     "metadata": {
      "needs_background": "light"
     },
     "output_type": "display_data"
    }
   ],
   "source": [
    "alpha_list = np.arange(10)\n",
    "NDCG_20_y = [0.0310541247996981, 0.03652770936839841, 0.037813161334275855, 0.038153773991776586, 0.03870417321856897, 0.039057468821816266, 0.038426650333998606, 0.03827951647005845, 0.03830826924126314, 0.037894267179253274]\n",
    "NDCG_40_y = [0.03551499466625129, 0.04160828690226829, 0.043144013800986626, 0.043832753890835054, 0.04470602040059592, 0.04517166867903848, 0.04499263728059996, 0.044751022141075215, 0.044896415076452, 0.04467865307414587]\n",
    "NDCG_60_y = [0.038880827618791476, 0.045480848712512394, 0.047248678648724236, 0.04814254883913996, 0.04909956426588057, 0.04973602777668787, 0.049556747197855994, 0.049553363625803905, 0.049761907388890234, 0.04956198759308778]\n",
    "\n",
    "plt.plot(alpha_list, NDCG_20_y, label='NDCG 20', linewidth=2.4, marker='s', MarkerSize=8, color='m')\n",
    "plt.plot(alpha_list, NDCG_40_y, label='NDCG 40', linewidth=2.4, marker='s', MarkerSize=8, color='b')\n",
    "plt.plot(alpha_list, NDCG_60_y, label='NDCG 60', linewidth=2.4, marker='s', MarkerSize=8, color='g')\n",
    "plt.xlabel('alpha')\n",
    "plt.ylabel('NDCG k')\n",
    "plt.legend(loc='best')\n",
    "plt.grid(True)\n",
    "plt.show()\n",
    "plt.close()"
   ]
  },
  {
   "cell_type": "markdown",
   "metadata": {},
   "source": [
    "Then, fix `alpha=5` and `_lambda=0.01`, tune on number of latent factors."
   ]
  },
  {
   "cell_type": "code",
   "execution_count": 45,
   "metadata": {},
   "outputs": [
    {
     "name": "stdout",
     "output_type": "stream",
     "text": [
      "n_factors=5\n",
      "Train: NDCG_20=0.10025339175160762, NDCG_40=0.0883921285276951, NDCG_60=0.09380894693161969\n",
      "Validation: NDCG_20=0.026611282152815614, NDCG_40=0.031319428830007795, NDCG_60=0.03496952332810884\n",
      "n_factors=10\n",
      "Train: NDCG_20=0.1353477219411973, NDCG_40=0.11806116104020838, NDCG_60=0.12417732125848434\n",
      "Validation: NDCG_20=0.03285694257331715, NDCG_40=0.03856182026900365, NDCG_60=0.04267757223204715\n",
      "n_factors=15\n",
      "Train: NDCG_20=0.16218159167031704, NDCG_40=0.13949812086516422, NDCG_60=0.14607088218629313\n",
      "Validation: NDCG_20=0.03643735158810433, NDCG_40=0.0422955912854181, NDCG_60=0.046688430862310955\n",
      "n_factors=20\n",
      "Train: NDCG_20=0.18492090159765598, NDCG_40=0.15775829465193283, NDCG_60=0.16448028685731728\n",
      "Validation: NDCG_20=0.03824840641125516, NDCG_40=0.04453193593290615, NDCG_60=0.049107216526652404\n",
      "n_factors=25\n",
      "Train: NDCG_20=0.20640461061466248, NDCG_40=0.17508139830074654, NDCG_60=0.18171470035711734\n",
      "Validation: NDCG_20=0.04094742652449327, NDCG_40=0.04738625984747453, NDCG_60=0.05199799630666944\n",
      "n_factors=30\n",
      "Train: NDCG_20=0.22784618065231413, NDCG_40=0.19216437307413156, NDCG_60=0.19857797145105943\n",
      "Validation: NDCG_20=0.04260455449106625, NDCG_40=0.04905382499946623, NDCG_60=0.053700654780967076\n",
      "n_factors=35\n",
      "Train: NDCG_20=0.24543568550644185, NDCG_40=0.2061566467111679, NDCG_60=0.21250108192170103\n",
      "Validation: NDCG_20=0.04451421451893097, NDCG_40=0.051026337078734524, NDCG_60=0.05588854400256422\n",
      "n_factors=40\n",
      "Train: NDCG_20=0.2638543721559238, NDCG_40=0.22078425224857, NDCG_60=0.22676983465381445\n",
      "Validation: NDCG_20=0.04651254689747523, NDCG_40=0.05332268916995871, NDCG_60=0.05819884895845833\n",
      "n_factors=45\n",
      "Train: NDCG_20=0.2809698097441209, NDCG_40=0.23397073338779836, NDCG_60=0.2397813803577175\n",
      "Validation: NDCG_20=0.048079246107899744, NDCG_40=0.05496188382300554, NDCG_60=0.05990839979314753\n",
      "n_factors=50\n",
      "Train: NDCG_20=0.2967959976967541, NDCG_40=0.24693610480910055, NDCG_60=0.2523826590462487\n",
      "Validation: NDCG_20=0.04976603498203971, NDCG_40=0.05679093118628377, NDCG_60=0.06173849571752975\n",
      "n_factors=55\n",
      "Train: NDCG_20=0.31301202185121807, NDCG_40=0.2597103702770717, NDCG_60=0.2650228484761266\n",
      "Validation: NDCG_20=0.05122224772200222, NDCG_40=0.05827577007826263, NDCG_60=0.06325784428547523\n",
      "n_factors=60\n",
      "Train: NDCG_20=0.3268028244882534, NDCG_40=0.2705604661244203, NDCG_60=0.27583337028687005\n",
      "Validation: NDCG_20=0.05250142935616977, NDCG_40=0.059815126665688105, NDCG_60=0.0649209698247753\n",
      "n_factors=65\n",
      "Train: NDCG_20=0.33990556709904207, NDCG_40=0.28070818639759565, NDCG_60=0.2857962236209019\n",
      "Validation: NDCG_20=0.053912051406399084, NDCG_40=0.061199596495029984, NDCG_60=0.06620969344161984\n",
      "n_factors=70\n",
      "Train: NDCG_20=0.35349050310468244, NDCG_40=0.29154958677933224, NDCG_60=0.29666378638335633\n",
      "Validation: NDCG_20=0.05512040462893318, NDCG_40=0.06257099473010529, NDCG_60=0.06773622638844011\n",
      "n_factors=75\n",
      "Train: NDCG_20=0.3651295655289287, NDCG_40=0.3008560278453256, NDCG_60=0.3058198780966092\n",
      "Validation: NDCG_20=0.05629118921445083, NDCG_40=0.06372761231348195, NDCG_60=0.06900536575552867\n",
      "n_factors=80\n",
      "Train: NDCG_20=0.3773323220110988, NDCG_40=0.3108223166943869, NDCG_60=0.3156426944617956\n",
      "Validation: NDCG_20=0.05735173677948426, NDCG_40=0.06499138185097184, NDCG_60=0.07027798665993339\n",
      "n_factors=85\n",
      "Train: NDCG_20=0.3890198267191248, NDCG_40=0.3202627336373187, NDCG_60=0.3248875220783082\n",
      "Validation: NDCG_20=0.0585321483172142, NDCG_40=0.06625794590892713, NDCG_60=0.07153023259576295\n",
      "n_factors=90\n",
      "Train: NDCG_20=0.39966333428938267, NDCG_40=0.3288160214398526, NDCG_60=0.3336032899280387\n",
      "Validation: NDCG_20=0.05962883674218879, NDCG_40=0.06757347748247865, NDCG_60=0.07287250944744718\n",
      "n_factors=95\n",
      "Train: NDCG_20=0.40995520992850976, NDCG_40=0.33723296025708216, NDCG_60=0.3420824846286123\n",
      "Validation: NDCG_20=0.06035410906245225, NDCG_40=0.06821357511679957, NDCG_60=0.07352520128844835\n",
      "n_factors=100\n",
      "Train: NDCG_20=0.41995310886884124, NDCG_40=0.34526215868935634, NDCG_60=0.3501365963200876\n",
      "Validation: NDCG_20=0.06150373364820475, NDCG_40=0.06959400932611913, NDCG_60=0.07505270638295669\n"
     ]
    }
   ],
   "source": [
    "# select _lambda=0.01 and alpha=5, then find best value of n_factors from 0 to 100\n",
    "ndcg_20_train, ndcg_40_train, ndcg_60_train = [], [], []\n",
    "ndcg_20_eval, ndcg_40_eval, ndcg_60_eval = [], [], []\n",
    "\n",
    "for n_factors in np.arange(5, 105, 5):\n",
    "    model = ALS_WR(n_factors=n_factors, n_iters=15, alpha=5, _lambda=0.01)\n",
    "    model.fit(X_train)\n",
    "\n",
    "    ndcg_20_train_tmp = NDCG_k(model, X_train, 20)\n",
    "    ndcg_20_eval_tmp = NDCG_k(model, X_validation, 20)\n",
    "    ndcg_40_train_tmp = NDCG_k(model, X_train, 40)\n",
    "    ndcg_40_eval_tmp = NDCG_k(model, X_validation, 40)\n",
    "    ndcg_60_train_tmp = NDCG_k(model, X_train, 60)\n",
    "    ndcg_60_eval_tmp = NDCG_k(model, X_validation, 60)\n",
    "    \n",
    "    ndcg_20_train.append(ndcg_20_train_tmp)\n",
    "    ndcg_20_eval.append(ndcg_20_eval_tmp)\n",
    "    ndcg_40_train.append(ndcg_40_train_tmp)\n",
    "    ndcg_40_eval.append(ndcg_40_eval_tmp)\n",
    "    ndcg_60_train.append(ndcg_60_train_tmp)\n",
    "    ndcg_60_eval.append(ndcg_60_eval_tmp)\n",
    "    \n",
    "    print('n_factors={}'.format(n_factors))\n",
    "    print('Train: NDCG_20={}, NDCG_40={}, NDCG_60={}'.format(ndcg_20_train_tmp, ndcg_40_train_tmp, ndcg_60_train_tmp))\n",
    "    print('Validation: NDCG_20={}, NDCG_40={}, NDCG_60={}'.format(ndcg_20_eval_tmp, ndcg_40_eval_tmp, ndcg_60_eval_tmp))"
   ]
  },
  {
   "cell_type": "code",
   "execution_count": 25,
   "metadata": {},
   "outputs": [
    {
     "data": {
      "image/png": "[encoded data removed]",
      "text/plain": [
       "<Figure size 576x432 with 1 Axes>"
      ]
     },
     "metadata": {
      "needs_background": "light"
     },
     "output_type": "display_data"
    }
   ],
   "source": [
    "n_factors_list = np.arange(5, 105, 5)\n",
    "ndcg_20_vali_ = [0.026611282152815614, 0.03285694257331715, 0.03643735158810433, 0.03824840641125516, 0.04094742652449327, 0.04260455449106625, 0.04451421451893097, 0.04651254689747523, 0.048079246107899744, 0.04976603498203971, 0.05122224772200222, 0.05250142935616977, 0.053912051406399084, 0.05512040462893318, 0.05629118921445083, 0.05735173677948426, 0.0585321483172142, 0.05962883674218879, 0.06035410906245225, 0.06150373364820475]\n",
    "ndcg_40_vali_ = [0.031319428830007795, 0.03856182026900365, 0.0422955912854181, 0.04453193593290615, 0.04738625984747453, 0.04905382499946623, 0.051026337078734524, 0.05332268916995871, 0.05496188382300554, 0.05679093118628377, 0.05827577007826263, 0.059815126665688105, 0.061199596495029984, 0.06257099473010529, 0.06372761231348195, 0.06499138185097184, 0.06625794590892713, 0.06757347748247865, 0.06821357511679957, 0.06959400932611913]\n",
    "ndcg_60_vali_ = [0.03496952332810884, 0.04267757223204715, 0.046688430862310955, 0.049107216526652404, 0.05199799630666944, 0.053700654780967076, 0.05588854400256422, 0.05819884895845833, 0.05990839979314753, 0.06173849571752975, 0.06325784428547523, 0.0649209698247753, 0.06620969344161984, 0.06773622638844011, 0.06900536575552867, 0.07027798665993339, 0.07153023259576295, 0.07287250944744718, 0.07352520128844835, 0.07505270638295669]\n",
    "\n",
    "plt.plot(n_factors_list, ndcg_20_vali_, label='NDCG 20', linewidth=2.2, marker='s', MarkerSize=7)\n",
    "plt.plot(n_factors_list, ndcg_40_vali_, label='NDCG 40', linewidth=2.2, marker='s', MarkerSize=7)\n",
    "plt.plot(n_factors_list, ndcg_60_vali_, label='NDCG 60', linewidth=2.2, marker='s', MarkerSize=7)\n",
    "plt.xlabel('n factors')\n",
    "plt.ylabel('NDCG k')\n",
    "plt.legend(loc='best')\n",
    "plt.grid(True)\n",
    "plt.show()\n",
    "plt.close()"
   ]
  },
  {
   "cell_type": "markdown",
   "metadata": {},
   "source": [
    "Extend scale to 0~400, and select `n_factors=20` for test, consider computation cost and avoid over-fitting."
   ]
  },
  {
   "cell_type": "code",
   "execution_count": 26,
   "metadata": {},
   "outputs": [
    {
     "data": {
      "image/png": "[encoded data removed]",
      "text/plain": [
       "<Figure size 576x432 with 1 Axes>"
      ]
     },
     "metadata": {
      "needs_background": "light"
     },
     "output_type": "display_data"
    }
   ],
   "source": [
    "n_factors_list = list(range(5, 105, 5)) + [150, 200, 250, 300, 350, 400]\n",
    "ndcg_20_vali_ = [0.026611282152815614, 0.03285694257331715, 0.03643735158810433, 0.03824840641125516, 0.04094742652449327, 0.04260455449106625, 0.04451421451893097, 0.04651254689747523, 0.048079246107899744, 0.04976603498203971, 0.05122224772200222, 0.05250142935616977, 0.053912051406399084, 0.05512040462893318, 0.05629118921445083, 0.05735173677948426, 0.0585321483172142, 0.05962883674218879, 0.06035410906245225, 0.06150373364820475, 0.06994785818992093, 0.07597969214361855, 0.07892787458006274, 0.08097873752252215, 0.0824387314361851, 0.082987445105373]\n",
    "ndcg_40_vali_ = [0.031319428830007795, 0.03856182026900365, 0.0422955912854181, 0.04453193593290615, 0.04738625984747453, 0.04905382499946623, 0.051026337078734524, 0.05332268916995871, 0.05496188382300554, 0.05679093118628377, 0.05827577007826263, 0.059815126665688105, 0.061199596495029984, 0.06257099473010529, 0.06372761231348195, 0.06499138185097184, 0.06625794590892713, 0.06757347748247865, 0.06821357511679957, 0.06959400932611913, 0.07875073731085334, 0.08594945980211445, 0.09002507689255349, 0.0923719286935762, 0.0938119289175349, 0.095001737144873]\n",
    "ndcg_60_vali_ = [0.03496952332810884, 0.04267757223204715, 0.046688430862310955, 0.049107216526652404, 0.05199799630666944, 0.053700654780967076, 0.05588854400256422, 0.05819884895845833, 0.05990839979314753, 0.06173849571752975, 0.06325784428547523, 0.0649209698247753, 0.06620969344161984, 0.06773622638844011, 0.06900536575552867, 0.07027798665993339, 0.07153023259576295, 0.07287250944744718, 0.07352520128844835, 0.07505270638295669, 0.08448573441820706, 0.09201862517844989, 0.09541986060236975, 0.09799673899324319, 0.0999786560746988, 0.100833643107855]\n",
    "\n",
    "plt.plot(n_factors_list, ndcg_20_vali_, label='NDCG 20', linewidth=2.2, marker='s')\n",
    "plt.plot(n_factors_list, ndcg_40_vali_, label='NDCG 40', linewidth=2.2, marker='s')\n",
    "plt.plot(n_factors_list, ndcg_60_vali_, label='NDCG 60', linewidth=2.2, marker='s')\n",
    "plt.xlabel('n factors')\n",
    "plt.ylabel('NDCG k')\n",
    "plt.legend(loc='best')\n",
    "plt.grid(True)\n",
    "plt.show()\n",
    "plt.close()"
   ]
  },
  {
   "cell_type": "markdown",
   "metadata": {},
   "source": [
    "---\n",
    "\n",
    "Try training on `normalized` frequency dataset. Here, run model on `processed_train_2.txt`, `processed_validation_2.txt` and `processed_test_2.txt`."
   ]
  },
  {
   "cell_type": "code",
   "execution_count": 155,
   "metadata": {},
   "outputs": [],
   "source": [
    "# load dataset\n",
    "df_2 = pd.read_csv('../processed_train_2.txt', sep='\\t', header=None, names=['userId', 'itemId', 'rating'])\n",
    "X_train_2, df_2 = create_matrix(df_2, 'userId', 'itemId', 'rating')\n",
    "\n",
    "df_v_2 = pd.read_csv('../processed_validation_2.txt', sep='\\t', header=None, names=['userId', 'itemId', 'rating'])\n",
    "X_validation_2, df_v_2 = create_validation_test_matrix(df_v_2, 'userId', 'itemId', 'rating', N, M)\n",
    "\n",
    "df_t_2 = pd.read_csv('../processed_test_2.txt', sep='\\t', header=None, names=['userId', 'itemId', 'rating'])\n",
    "X_test_2, df_t_2 = create_validation_test_matrix(df_t_2, 'userId', 'itemId', 'rating', N, M)"
   ]
  },
  {
   "cell_type": "code",
   "execution_count": 156,
   "metadata": {},
   "outputs": [
    {
     "data": {
      "text/plain": [
       "(<34619x47880 sparse matrix of type '<class 'numpy.float64'>'\n",
       " \twith 1180452 stored elements in Compressed Sparse Row format>,\n",
       " <34619x47880 sparse matrix of type '<class 'numpy.float64'>'\n",
       " \twith 234524 stored elements in Compressed Sparse Row format>,\n",
       " <34619x47880 sparse matrix of type '<class 'numpy.float64'>'\n",
       " \twith 125816 stored elements in Compressed Sparse Row format>)"
      ]
     },
     "execution_count": 156,
     "metadata": {},
     "output_type": "execute_result"
    }
   ],
   "source": [
    "X_train_2, X_validation_2, X_test_2"
   ]
  },
  {
   "cell_type": "markdown",
   "metadata": {},
   "source": [
    "Repeat previous steps of evaluation on 0/1 dataset, suppose `_lambda=0.01, n_factors=20`, and tune on `alpha`."
   ]
  },
  {
   "cell_type": "code",
   "execution_count": 161,
   "metadata": {},
   "outputs": [
    {
     "name": "stdout",
     "output_type": "stream",
     "text": [
      "alpha=0\n",
      "Train: NDCG_20=0.16279999520054592, Validation: NDCG_20=0.030875043001116875\n",
      "alpha=5\n",
      "Train: NDCG_20=0.17086852838314445, Validation: NDCG_20=0.0328644103949911\n",
      "alpha=10\n",
      "Train: NDCG_20=0.1755621087972071, Validation: NDCG_20=0.03507741198152595\n",
      "alpha=15\n",
      "Train: NDCG_20=0.17977708112078872, Validation: NDCG_20=0.03640306561165743\n",
      "alpha=20\n",
      "Train: NDCG_20=0.18404649526265582, Validation: NDCG_20=0.037744736900226124\n",
      "alpha=25\n",
      "Train: NDCG_20=0.18713543443284877, Validation: NDCG_20=0.03867724984109405\n",
      "alpha=30\n",
      "Train: NDCG_20=0.18714129896384057, Validation: NDCG_20=0.03899015339353276\n",
      "alpha=35\n",
      "Train: NDCG_20=0.18980874414333745, Validation: NDCG_20=0.03990904184229883\n",
      "alpha=40\n",
      "Train: NDCG_20=0.1902756217795297, Validation: NDCG_20=0.040132676114212486\n",
      "alpha=45\n",
      "Train: NDCG_20=0.19252168037136105, Validation: NDCG_20=0.04128802612032425\n",
      "alpha=50\n",
      "Train: NDCG_20=0.1921412227091168, Validation: NDCG_20=0.04084880669547041\n",
      "alpha=55\n",
      "Train: NDCG_20=0.1919139045277137, Validation: NDCG_20=0.04108674047842606\n",
      "alpha=60\n",
      "Train: NDCG_20=0.19303086670542022, Validation: NDCG_20=0.04162152678676545\n",
      "alpha=65\n",
      "Train: NDCG_20=0.194219269516192, Validation: NDCG_20=0.04212405798278878\n",
      "alpha=70\n",
      "Train: NDCG_20=0.192912079255555, Validation: NDCG_20=0.04205647561032901\n",
      "alpha=75\n",
      "Train: NDCG_20=0.1933821487225367, Validation: NDCG_20=0.04206179318488652\n",
      "alpha=80\n",
      "Train: NDCG_20=0.19332891520429413, Validation: NDCG_20=0.04271742175134776\n",
      "alpha=85\n",
      "Train: NDCG_20=0.1931532783464922, Validation: NDCG_20=0.04275741327685144\n",
      "alpha=90\n",
      "Train: NDCG_20=0.19405388808404891, Validation: NDCG_20=0.04344917397050383\n"
     ]
    }
   ],
   "source": [
    "alpha_list = np.arange(0, 91, 5)\n",
    "ndcg_20_train, ndcg_20_eval = [], []\n",
    "\n",
    "for alpha in alpha_list:\n",
    "    model = ALS_WR(n_factors=20, n_iters=12, alpha=alpha, _lambda=0.01)\n",
    "    model.fit(X_train_2)\n",
    "    \n",
    "    NDCG_20_train_tmp = NDCG_k(model, X_train_2, 20)\n",
    "    NDCG_20_eval_tmp = NDCG_k(model, X_validation_2, 20)\n",
    "    ndcg_20_train.append(NDCG_20_train_tmp)\n",
    "    ndcg_20_eval.append(NDCG_20_eval_tmp)\n",
    "    \n",
    "    print('alpha={}'.format(alpha))\n",
    "    print('Train: NDCG_20={}, Validation: NDCG_20={}'.format(NDCG_20_train_tmp, NDCG_20_eval_tmp))"
   ]
  },
  {
   "cell_type": "code",
   "execution_count": 36,
   "metadata": {},
   "outputs": [
    {
     "data": {
      "image/png": "[encoded data removed]",
      "text/plain": [
       "<Figure size 576x432 with 1 Axes>"
      ]
     },
     "metadata": {
      "needs_background": "light"
     },
     "output_type": "display_data"
    }
   ],
   "source": [
    "alpha_list = np.append(np.arange(0, 201, 5), np.arange(220, 301, 20))\n",
    "ndcg_20_train = [0.16279999520054592, 0.17086852838314445, 0.1755621087972071, 0.17977708112078872, 0.18404649526265582, 0.18713543443284877, 0.18714129896384057, 0.18980874414333745, 0.1902756217795297, 0.19252168037136105, 0.1921412227091168, 0.1919139045277137, 0.19303086670542022, 0.194219269516192, 0.192912079255555, 0.1933821487225367, 0.19332891520429413, 0.1931532783464922, 0.19405388808404891, 0.19163709270627632, 0.1915493853031622, 0.1905623932828189, 0.19131263516997488, 0.1904479211628923, 0.1898232303161896, 0.19055077343480564, 0.18945208102982114, 0.19046802984559907, 0.1892590609980256, 0.18871411819698436, 0.18813059757424075, 0.18736096880360376, 0.1865256025347011, 0.1876798612313722, 0.18619163770211236, 0.18562272715399777, 0.18584429321817972, 0.1852237612052908, 0.1836177272255679, 0.18497418755588724, 0.18390863412309952, 0.1828708524938825, 0.18103704012409016, 0.1801857087941328, 0.1784698534753355, 0.17762358994977143]\n",
    "ndcg_20_eval = [0.030875043001116875, 0.0328644103949911, 0.03507741198152595, 0.03640306561165743, 0.037744736900226124, 0.03867724984109405, 0.03899015339353276, 0.03990904184229883, 0.040132676114212486, 0.04128802612032425, 0.04084880669547041, 0.04108674047842606, 0.04162152678676545, 0.04212405798278878, 0.04205647561032901, 0.04206179318488652, 0.04271742175134776, 0.04275741327685144, 0.04344917397050383, 0.04288548688920219, 0.04322698075139682, 0.04359542198614361, 0.04380560584943232, 0.04353919301298931, 0.04387303092388086, 0.04375441909851612, 0.04384539293718649, 0.04422436247282588, 0.0440822994353165, 0.044145756952323194, 0.044082538820047944, 0.04393092209275813, 0.04395494067168186, 0.044235519688007346, 0.04450976849265156, 0.044499901231477235, 0.044538864986624085, 0.04377354432797759, 0.04425185413058353, 0.04413140517126637, 0.044538348969107085, 0.04411168531663256, 0.04447389211931677, 0.04421360038104901, 0.04448697653139347, 0.04409498731451862]\n",
    "\n",
    "plt.plot(alpha_list, ndcg_20_train, label='Train', linewidth=4, color='b')\n",
    "plt.plot(alpha_list, ndcg_20_eval, label='Validation', linewidth=4, color='r')\n",
    "plt.xlabel('alpha')\n",
    "plt.ylabel('NDCG 20')\n",
    "plt.legend(loc='best')\n",
    "plt.grid(True)\n",
    "plt.show()\n",
    "plt.close()"
   ]
  },
  {
   "cell_type": "markdown",
   "metadata": {},
   "source": [
    "Based on evaluation on `processed_validation.txt` and `processed_validation_2.txt`, we can conclude for 0/1 dataset and normalized frequency dataset, the key difference for tuning paramaters lie in the `alpha` value. (`alpha=5` for `als`, `alpha=50` for `als_2`) For the `_lambda` and `n_factors`, they have little influence on the `NDCG` performance."
   ]
  },
  {
   "cell_type": "markdown",
   "metadata": {},
   "source": [
    "---\n",
    "# Test\n",
    "Use 1-week transaction data `test.txt` for test, consider time dependency of recommendation model."
   ]
  },
  {
   "cell_type": "code",
   "execution_count": 143,
   "metadata": {},
   "outputs": [
    {
     "name": "stdout",
     "output_type": "stream",
     "text": [
      "re-train density: 0.0813%\n"
     ]
    }
   ],
   "source": [
    "# Re-train model use train+validation data\n",
    "train_dict = defaultdict(lambda : defaultdict(int))\n",
    "file_path_1, file_path_2 = '../train.txt', '../validation.txt'\n",
    "\n",
    "with open(file_path_1, 'r') as f1:\n",
    "    for line in f1.readlines():\n",
    "        line = line.split()\n",
    "        user, item = line[0], line[4]\n",
    "        if user in train_user_map and item in train_item_map:\n",
    "            user_id, item_id = train_user_map[user], train_item_map[item]\n",
    "            # train_dict[user_id][item_id] = 1\n",
    "            train_dict[user_id][item_id] += 1\n",
    "\n",
    "with open(file_path_2, 'r') as f2:\n",
    "    for line in f2.readlines():\n",
    "        line = line.split()\n",
    "        user, item = line[0], line[4]\n",
    "        if user in train_user_map and item in train_item_map:\n",
    "            user_id, item_id = train_user_map[user], train_item_map[item]\n",
    "            # train_dict[user_id][item_id] = 1\n",
    "            train_dict[user_id][item_id] += 1\n",
    "\n",
    "# if normalize\n",
    "for uid in train_dict:\n",
    "    tmp = sum(train_dict[uid].values())\n",
    "    for iid in train_dict[uid]:\n",
    "        train_dict[uid][iid] /= tmp\n",
    "\n",
    "# write re-train file\n",
    "# with open('../retrain.txt', 'w') as h:\n",
    "with open('../retrain_2.txt', 'w') as h:\n",
    "    for uid in sorted(train_dict):\n",
    "        for iid in sorted(train_dict[uid]):\n",
    "            h.write(\"{}\\t{}\\t{}\\n\".format(uid, iid, train_dict[uid][iid]))\n",
    "            \n",
    "# re-train shape same as (N, M)\n",
    "print('re-train density: {:.4f}%'.format(100 * sum(len(train_dict[u].keys()) for u in train_dict) / (N * M)))"
   ]
  },
  {
   "cell_type": "code",
   "execution_count": 58,
   "metadata": {},
   "outputs": [
    {
     "data": {
      "text/plain": [
       "<34619x47880 sparse matrix of type '<class 'numpy.int64'>'\n",
       "\twith 1347335 stored elements in Compressed Sparse Row format>"
      ]
     },
     "execution_count": 58,
     "metadata": {},
     "output_type": "execute_result"
    }
   ],
   "source": [
    "# read re-train\n",
    "file_rt_path = '../retrain.txt'\n",
    "df_rt = pd.read_csv(file_rt_path, sep='\\t', header=None, names=['userId', 'itemId', 'rating'])\n",
    "\n",
    "X_retrain, df_rt = create_validation_test_matrix(df_rt, 'userId', 'itemId', 'rating', N, M)\n",
    "X_retrain"
   ]
  },
  {
   "cell_type": "markdown",
   "metadata": {},
   "source": [
    "Test the performance of mentioned ranking metrics for selected model (`Model 1`), where `n_factors=20, n_iters=15, alpha=5, _lambda=0.01`."
   ]
  },
  {
   "cell_type": "code",
   "execution_count": 59,
   "metadata": {},
   "outputs": [],
   "source": [
    "# re-train model\n",
    "als = ALS_WR(n_factors=20, n_iters=15, alpha=5, _lambda=0.01)\n",
    "als.fit(X_retrain)"
   ]
  },
  {
   "cell_type": "markdown",
   "metadata": {},
   "source": [
    "Test on `top-k` ranking metrics performance with the increasing of `k`."
   ]
  },
  {
   "cell_type": "code",
   "execution_count": 145,
   "metadata": {},
   "outputs": [
    {
     "name": "stdout",
     "output_type": "stream",
     "text": [
      "top-10 performance:\n",
      "NDCG@10: train=0.21830913436536367, validation=0.05553963816665074, test=0.023035772125022815\n",
      "MAP@10: train=0.10902624509442836, validation=0.026512018911679782, test=0.011291170687002899\n",
      "HR@10: train=0.05198940744731679, validation=0.05545701079633641, test=0.03922394607998983\n",
      "top-20 performance:\n",
      "NDCG@20: train=0.17394753204545016, validation=0.05807861460606039, test=0.025668150702952953\n",
      "MAP@20: train=0.06853186374413126, validation=0.024732387991627115, test=0.011281709498280178\n",
      "HR@20: train=0.07588195030378195, validation=0.0809170916409408, test=0.05843453932727157\n",
      "top-30 performance:\n",
      "NDCG@30: train=0.15495546984188882, validation=0.062386081593285375, test=0.028125405404699017\n",
      "MAP@30: train=0.05412264251507391, validation=0.025226806096640096, test=0.011642229571187102\n",
      "HR@30: train=0.0936708989437944, validation=0.09937575685217717, test=0.07287626375023844\n",
      "top-40 performance:\n",
      "NDCG@40: train=0.15008472539667356, validation=0.06619202449618761, test=0.030251292242346444\n",
      "MAP@40: train=0.04932934971230829, validation=0.02577581828907609, test=0.011935047842339987\n",
      "HR@40: train=0.10816788823264309, validation=0.11464924698538316, test=0.08541044064347937\n",
      "top-50 performance:\n",
      "NDCG@50: train=0.1526904282660246, validation=0.06922327091026055, test=0.032115381574201136\n",
      "MAP@50: train=0.04870076194184126, validation=0.026199612687939258, test=0.012166114915604861\n",
      "HR@50: train=0.12085116548576308, validation=0.12749228223977077, test=0.09707827303363642\n",
      "top-60 performance:\n",
      "NDCG@60: train=0.15734920659072404, validation=0.07195412852824946, test=0.03363291821642843\n",
      "MAP@60: train=0.04921226187258557, validation=0.026561903201526887, test=0.01234510936129095\n",
      "HR@60: train=0.13229339270042323, validation=0.13920110521737647, test=0.10713263813823361\n",
      "top-70 performance:\n",
      "NDCG@70: train=0.16198789139928427, validation=0.07421521527105443, test=0.03485023841182745\n",
      "MAP@70: train=0.04991559555793904, validation=0.026833705145906293, test=0.012469624433548557\n",
      "HR@70: train=0.1423514043773063, validation=0.1493962238406304, test=0.11544636612195587\n",
      "top-80 performance:\n",
      "NDCG@80: train=0.16631212945279356, validation=0.07633507225126923, test=0.03608447831596034\n",
      "MAP@80: train=0.050609244072699046, validation=0.02708015306069234, test=0.012590411777207109\n",
      "HR@80: train=0.1514487670824396, validation=0.15929286554894168, test=0.12399058943218669\n"
     ]
    }
   ],
   "source": [
    "k_list = np.arange(10, 90, 10)\n",
    "NDCG_train, MAP_train, HR_train = [], [], []\n",
    "NDCG_eval, MAP_eval, HR_eval = [], [], []\n",
    "NDCG_test, MAP_test, HR_test = [], [], []\n",
    "\n",
    "for k in k_list:\n",
    "    NDCG_train_tmp = NDCG_k(als, X_train, k)\n",
    "    MAP_train_tmp = MAP_k(als, X_train, k)\n",
    "    HR_train_tmp = HR_k(als, X_train, k)\n",
    "    NDCG_validation_tmp = NDCG_k(als, X_validation, k)\n",
    "    MAP_validation_tmp = MAP_k(als, X_validation, k)\n",
    "    HR_validation_tmp = HR_k(als, X_validation, k)\n",
    "    NDCG_test_tmp = NDCG_k(als, X_test, k)\n",
    "    MAP_test_tmp = MAP_k(als, X_test, k)\n",
    "    HR_test_tmp = HR_k(als, X_test, k)\n",
    "    \n",
    "    NDCG_train.append(NDCG_train_tmp)\n",
    "    MAP_train.append(MAP_train_tmp)\n",
    "    HR_train.append(HR_train_tmp)\n",
    "    NDCG_eval.append(NDCG_validation_tmp)\n",
    "    MAP_eval.append(MAP_validation_tmp)\n",
    "    HR_eval.append(HR_validation_tmp)\n",
    "    NDCG_test.append(NDCG_test_tmp)\n",
    "    MAP_test.append(MAP_test_tmp)\n",
    "    HR_test.append(HR_test_tmp)\n",
    "    \n",
    "    print('top-{} performance:'.format(k))\n",
    "    print('NDCG@{}: train={}, validation={}, test={}'.format(k, NDCG_train_tmp, NDCG_validation_tmp, NDCG_test_tmp))\n",
    "    print('MAP@{}: train={}, validation={}, test={}'.format(k, MAP_train_tmp, MAP_validation_tmp, MAP_test_tmp))\n",
    "    print('HR@{}: train={}, validation={}, test={}'.format(k, HR_train_tmp, HR_validation_tmp, HR_test_tmp))"
   ]
  },
  {
   "cell_type": "markdown",
   "metadata": {},
   "source": [
    "---\n",
    "\n",
    "Besides, we should do test on model trained from normalized frequency dataset `retrain_2.txt` and compare the results. Test on the second model (`Model 2`), where `n_factors=20, n_iters=15, alpha=50, _lambda=0.01`."
   ]
  },
  {
   "cell_type": "code",
   "execution_count": 37,
   "metadata": {},
   "outputs": [
    {
     "data": {
      "text/plain": [
       "<34619x47880 sparse matrix of type '<class 'numpy.float64'>'\n",
       "\twith 1347335 stored elements in Compressed Sparse Row format>"
      ]
     },
     "execution_count": 37,
     "metadata": {},
     "output_type": "execute_result"
    }
   ],
   "source": [
    "df_rt_2 = pd.read_csv('../retrain_2.txt', sep='\\t', header=None, names=['userId', 'itemId', 'rating'])\n",
    "\n",
    "X_retrain_2, df_rt_2 = create_validation_test_matrix(df_rt_2, 'userId', 'itemId', 'rating', N, M)\n",
    "X_retrain_2"
   ]
  },
  {
   "cell_type": "code",
   "execution_count": 182,
   "metadata": {},
   "outputs": [],
   "source": [
    "als_2 = ALS_WR(n_factors=20, n_iters=15, alpha=50, _lambda=0.01)\n",
    "als_2.fit(X_retrain_2)"
   ]
  },
  {
   "cell_type": "code",
   "execution_count": 124,
   "metadata": {},
   "outputs": [
    {
     "data": {
      "text/plain": [
       "<matplotlib.collections.PathCollection at 0x7ffe08f20940>"
      ]
     },
     "execution_count": 124,
     "metadata": {},
     "output_type": "execute_result"
    },
    {
     "data": {
      "image/png": "[encoded data removed]",
      "text/plain": [
       "<Figure size 576x432 with 1 Axes>"
      ]
     },
     "metadata": {
      "needs_background": "light"
     },
     "output_type": "display_data"
    }
   ],
   "source": [
    "# visualize using t-SNE\n",
    "sampled = random.sample(list(als_2.item_factors), 1200)\n",
    "X_user_factors = TSNE(n_components=2, perplexity=20, init='pca', random_state=0).fit_transform(sampled)\n",
    "plt.scatter(X_user_factors[:,0], X_user_factors[:,1], color='y')"
   ]
  },
  {
   "cell_type": "code",
   "execution_count": 125,
   "metadata": {},
   "outputs": [
    {
     "data": {
      "image/png": "[encoded data removed]",
      "text/plain": [
       "<Figure size 576x432 with 1 Axes>"
      ]
     },
     "metadata": {
      "needs_background": "light"
     },
     "output_type": "display_data"
    }
   ],
   "source": [
    "# k-means to check separability\n",
    "kmeans = KMeans(n_clusters=30, random_state=0)\n",
    "kmeans.fit(X_user_factors)\n",
    "plt.scatter(X_user_factors[:,0], X_user_factors[:,1], c=kmeans.labels_)\n",
    "plt.show()\n",
    "plt.close()"
   ]
  },
  {
   "cell_type": "code",
   "execution_count": 192,
   "metadata": {},
   "outputs": [
    {
     "name": "stdout",
     "output_type": "stream",
     "text": [
      "top-10 performance:\n",
      "NDCG@10: retrain=0.2708924238157674, test=0.0258112930751295\n",
      "MAP@10: retrain=0.15009306957064858, test=0.013168246563383697\n",
      "HR@10: retrain=0.05126861545198484, test=0.04108380492147263\n",
      "top-20 performance:\n",
      "NDCG@20: retrain=0.20492218162279952, test=0.027932208255642348\n",
      "MAP@20: retrain=0.08994496116044869, test=0.013007368620834132\n",
      "HR@20: retrain=0.0693012502458557, test=0.058076874165447955\n",
      "top-30 performance:\n",
      "NDCG@30: retrain=0.1763852979463582, test=0.03024926095932075\n",
      "MAP@30: retrain=0.06845180035923575, test=0.013338275152661344\n",
      "HR@30: retrain=0.08289623590272649, test=0.07127074457938577\n",
      "top-40 performance:\n",
      "NDCG@40: retrain=0.16423178880483774, test=0.03209358643890342\n",
      "MAP@40: retrain=0.059526598536246395, test=0.013584138886558088\n",
      "HR@40: retrain=0.09409241205787722, test=0.08188147771348636\n",
      "top-50 performance:\n",
      "NDCG@50: retrain=0.1618367757254141, test=0.033715876784973925\n",
      "MAP@50: retrain=0.056572731087657736, test=0.013781416721680201\n",
      "HR@50: retrain=0.10388507683686685, test=0.09179277675335411\n",
      "top-60 performance:\n",
      "NDCG@60: retrain=0.16349073268117023, test=0.03497359674671582\n",
      "MAP@60: retrain=0.055942015715858204, test=0.013920772506688635\n",
      "HR@60: retrain=0.11254142436736224, test=0.10022572645768424\n",
      "top-70 performance:\n",
      "NDCG@70: retrain=0.16661148323472358, test=0.036185064663018386\n",
      "MAP@70: retrain=0.0561134762196312, test=0.01404182840904329\n",
      "HR@70: retrain=0.1206292421706554, test=0.10850766198257773\n",
      "top-80 performance:\n",
      "NDCG@80: retrain=0.17003255839924183, test=0.03727048692639038\n",
      "MAP@80: retrain=0.05651082694667932, test=0.014138195723767543\n",
      "HR@80: retrain=0.12817524965951305, test=0.11594709734850893\n"
     ]
    }
   ],
   "source": [
    "k_list = np.arange(10, 90, 10)\n",
    "ndcg_train, map_train, hr_train = [], [], []\n",
    "ndcg_test, map_test, hr_test = [], [], []\n",
    "\n",
    "for k in k_list:\n",
    "    ndcg_train_tmp = NDCG_k(als_2, X_retrain_2, k)\n",
    "    map_train_tmp = MAP_k(als_2, X_retrain_2, k)\n",
    "    hr_train_tmp = HR_k(als_2, X_retrain_2, k)\n",
    "    ndcg_test_tmp = NDCG_k(als_2, X_test_2, k)\n",
    "    map_test_tmp = MAP_k(als_2, X_test_2, k)\n",
    "    hr_test_tmp = HR_k(als_2, X_test_2, k)\n",
    "    \n",
    "    ndcg_train.append(ndcg_train_tmp)\n",
    "    map_train.append(map_train_tmp)\n",
    "    hr_train.append(hr_train_tmp)\n",
    "    ndcg_test.append(ndcg_test_tmp)\n",
    "    map_test.append(map_test_tmp)\n",
    "    hr_test.append(hr_test_tmp)\n",
    "    \n",
    "    print('top-{} performance:'.format(k))\n",
    "    print('NDCG@{}: retrain={}, test={}'.format(k, ndcg_train_tmp, ndcg_test_tmp))\n",
    "    print('MAP@{}: retrain={}, test={}'.format(k, map_train_tmp, map_test_tmp))\n",
    "    print('HR@{}: retrain={}, test={}'.format(k, hr_train_tmp, hr_test_tmp))"
   ]
  },
  {
   "cell_type": "markdown",
   "metadata": {},
   "source": [
    "### NDCG@*k*"
   ]
  },
  {
   "cell_type": "code",
   "execution_count": 193,
   "metadata": {},
   "outputs": [
    {
     "data": {
      "image/png": "[encoded data removed]",
      "text/plain": [
       "<Figure size 576x432 with 1 Axes>"
      ]
     },
     "metadata": {
      "needs_background": "light"
     },
     "output_type": "display_data"
    }
   ],
   "source": [
    "plt.plot(k_list, NDCG_train, label='Train', linewidth=2, marker='s')\n",
    "plt.plot(k_list, NDCG_eval, label='Validation', linewidth=2, marker='s')\n",
    "plt.plot(k_list, NDCG_test, label='Test', linewidth=2, marker='s')\n",
    "plt.title('Model 1')\n",
    "plt.xlabel('k')\n",
    "plt.ylabel('NDCG')\n",
    "plt.legend(loc='best')\n",
    "plt.grid(True)\n",
    "plt.show()\n",
    "plt.close()"
   ]
  },
  {
   "cell_type": "code",
   "execution_count": 199,
   "metadata": {},
   "outputs": [
    {
     "data": {
      "image/png": "[encoded data removed]",
      "text/plain": [
       "<Figure size 576x432 with 1 Axes>"
      ]
     },
     "metadata": {
      "needs_background": "light"
     },
     "output_type": "display_data"
    }
   ],
   "source": [
    "plt.plot(k_list, ndcg_train, label='Retrain', linewidth=2, marker='s')\n",
    "plt.plot(k_list, ndcg_test, label='Test', linewidth=2, marker='s')\n",
    "plt.title('Model 2')\n",
    "plt.xlabel('k')\n",
    "plt.ylabel('NDCG')\n",
    "plt.legend(loc='best')\n",
    "plt.grid(True)\n",
    "plt.show()\n",
    "plt.close()"
   ]
  },
  {
   "cell_type": "code",
   "execution_count": 197,
   "metadata": {},
   "outputs": [
    {
     "data": {
      "image/png": "[encoded data removed]",
      "text/plain": [
       "<Figure size 576x432 with 1 Axes>"
      ]
     },
     "metadata": {
      "needs_background": "light"
     },
     "output_type": "display_data"
    }
   ],
   "source": [
    "# compare\n",
    "plt.plot(k_list, NDCG_test, label='Model 1 Test', linewidth=2, marker='s')\n",
    "plt.plot(k_list, ndcg_test, label='Model 2 Test', linewidth=2, marker='s')\n",
    "plt.xlabel('k')\n",
    "plt.ylabel('NDCG')\n",
    "plt.legend(loc='best')\n",
    "plt.grid(True)\n",
    "plt.show()\n",
    "plt.close()"
   ]
  },
  {
   "cell_type": "markdown",
   "metadata": {},
   "source": [
    "### MAP@*k*"
   ]
  },
  {
   "cell_type": "code",
   "execution_count": 198,
   "metadata": {},
   "outputs": [
    {
     "data": {
      "image/png": "[encoded data removed]",
      "text/plain": [
       "<Figure size 576x432 with 1 Axes>"
      ]
     },
     "metadata": {
      "needs_background": "light"
     },
     "output_type": "display_data"
    }
   ],
   "source": [
    "plt.plot(k_list, MAP_train, label='Train', linewidth=2, marker='s')\n",
    "plt.plot(k_list, MAP_eval, label='Validation', linewidth=2, marker='s')\n",
    "plt.plot(k_list, MAP_test, label='Test', linewidth=2, marker='s')\n",
    "plt.title('Model 1')\n",
    "plt.xlabel('k')\n",
    "plt.ylabel('MAP')\n",
    "plt.legend(loc='best')\n",
    "plt.grid(True)\n",
    "plt.show()\n",
    "plt.close()"
   ]
  },
  {
   "cell_type": "code",
   "execution_count": 201,
   "metadata": {},
   "outputs": [
    {
     "data": {
      "image/png": "[encoded data removed]",
      "text/plain": [
       "<Figure size 576x432 with 1 Axes>"
      ]
     },
     "metadata": {
      "needs_background": "light"
     },
     "output_type": "display_data"
    }
   ],
   "source": [
    "plt.plot(k_list, map_train, label='Retrain', linewidth=2, marker='s')\n",
    "plt.plot(k_list, map_test, label='Test', linewidth=2, marker='s')\n",
    "plt.title('Model 2')\n",
    "plt.xlabel('k')\n",
    "plt.ylabel('MAP')\n",
    "plt.legend(loc='best')\n",
    "plt.grid(True)\n",
    "plt.show()\n",
    "plt.close()"
   ]
  },
  {
   "cell_type": "code",
   "execution_count": 204,
   "metadata": {},
   "outputs": [
    {
     "data": {
      "image/png": "[encoded data removed]",
      "text/plain": [
       "<Figure size 576x432 with 1 Axes>"
      ]
     },
     "metadata": {
      "needs_background": "light"
     },
     "output_type": "display_data"
    }
   ],
   "source": [
    "# compare\n",
    "plt.plot(k_list, MAP_test, label='Model 1 Test', linewidth=2, marker='s')\n",
    "plt.plot(k_list, map_test, label='Model 2 Test', linewidth=2, marker='s')\n",
    "plt.xlabel('k')\n",
    "plt.ylabel('MAP')\n",
    "plt.legend(loc='best')\n",
    "plt.grid(True)\n",
    "plt.show()\n",
    "plt.close()"
   ]
  },
  {
   "cell_type": "markdown",
   "metadata": {},
   "source": [
    "### HR@*k*"
   ]
  },
  {
   "cell_type": "code",
   "execution_count": 205,
   "metadata": {},
   "outputs": [
    {
     "data": {
      "image/png": "[encoded data removed]",
      "text/plain": [
       "<Figure size 576x432 with 1 Axes>"
      ]
     },
     "metadata": {
      "needs_background": "light"
     },
     "output_type": "display_data"
    }
   ],
   "source": [
    "plt.plot(k_list, HR_train, label='Train', linewidth=2, marker='s')\n",
    "plt.plot(k_list, HR_eval, label='Validation', linewidth=2, marker='s')\n",
    "plt.plot(k_list, HR_test, label='Test', linewidth=2, marker='s')\n",
    "plt.title('Model 1')\n",
    "plt.xlabel('k')\n",
    "plt.ylabel('HR')\n",
    "plt.legend(loc='best')\n",
    "plt.grid(True)\n",
    "plt.show()\n",
    "plt.close()"
   ]
  },
  {
   "cell_type": "code",
   "execution_count": 206,
   "metadata": {},
   "outputs": [
    {
     "data": {
      "image/png": "[encoded data removed]",
      "text/plain": [
       "<Figure size 576x432 with 1 Axes>"
      ]
     },
     "metadata": {
      "needs_background": "light"
     },
     "output_type": "display_data"
    }
   ],
   "source": [
    "plt.plot(k_list, hr_train, label='Retrain', linewidth=2, marker='s')\n",
    "plt.plot(k_list, hr_test, label='Test', linewidth=2, marker='s')\n",
    "plt.title('Model 2')\n",
    "plt.xlabel('k')\n",
    "plt.ylabel('HR')\n",
    "plt.legend(loc='best')\n",
    "plt.grid(True)\n",
    "plt.show()\n",
    "plt.close()"
   ]
  },
  {
   "cell_type": "code",
   "execution_count": 207,
   "metadata": {},
   "outputs": [
    {
     "data": {
      "image/png": "[encoded data removed]",
      "text/plain": [
       "<Figure size 576x432 with 1 Axes>"
      ]
     },
     "metadata": {
      "needs_background": "light"
     },
     "output_type": "display_data"
    }
   ],
   "source": [
    "# compare\n",
    "plt.plot(k_list, HR_test, label='Model 1 Test', linewidth=2, marker='s')\n",
    "plt.plot(k_list, hr_test, label='Model 2 Test', linewidth=2, marker='s')\n",
    "plt.xlabel('k')\n",
    "plt.ylabel('HR')\n",
    "plt.legend(loc='best')\n",
    "plt.grid(True)\n",
    "plt.show()\n",
    "plt.close()"
   ]
  },
  {
   "cell_type": "markdown",
   "metadata": {},
   "source": [
    "Compare the two models from different preprocessing methods, we find that the second model fitting the normalized frequency dataset outperforms the first one in NDCG and MAP metrics (close in HR). Therefore, we choose the **`Model 2`** as the best recommender model in this project."
   ]
  },
  {
   "cell_type": "markdown",
   "metadata": {},
   "source": [
    "---\n",
    "# Prediction\n",
    "\n",
    "Finally, we should put our model into real application, to recommend top K items for specified customers. The dataflow shows as: `cid -> user_id -> item_id -> catalog_item_id`. The relevant mappings are stored in the `preprocess.ipynb`."
   ]
  },
  {
   "cell_type": "code",
   "execution_count": 41,
   "metadata": {},
   "outputs": [
    {
     "data": {
      "text/plain": [
       "(34619, 47880)"
      ]
     },
     "execution_count": 41,
     "metadata": {},
     "output_type": "execute_result"
    }
   ],
   "source": [
    "%store -r cid_map\n",
    "%store -r catalog_item_id_map\n",
    "\n",
    "N, M = len(cid_map), len(catalog_item_id_map)\n",
    "N, M"
   ]
  },
  {
   "cell_type": "code",
   "execution_count": 183,
   "metadata": {},
   "outputs": [],
   "source": [
    "best_model = als_2\n",
    "# ALS_WR(n_factors=20, n_iters=15, alpha=50, _lambda=0.01)"
   ]
  },
  {
   "cell_type": "code",
   "execution_count": 184,
   "metadata": {},
   "outputs": [
    {
     "data": {
      "text/plain": [
       "array([[ 8.26925002e-02,  7.11461882e-03, -9.19252611e-03, ...,\n",
       "         4.90753289e-04,  9.44433429e-04,  3.60910758e-05],\n",
       "       [ 9.75897074e-03, -1.26356335e-04,  7.81424281e-03, ...,\n",
       "         4.11704180e-05,  7.39695784e-04, -1.70097851e-04],\n",
       "       [ 4.65068931e-03, -2.15656914e-03,  2.13003955e-02, ...,\n",
       "        -1.68629826e-04,  2.49429027e-04,  1.18743277e-03],\n",
       "       ...,\n",
       "       [ 2.56200141e-02,  3.96495517e-03,  1.84119521e-02, ...,\n",
       "        -3.16022866e-05,  5.24250417e-04, -4.62769123e-04],\n",
       "       [ 2.50993255e-02,  1.17539745e-03, -2.15252459e-03, ...,\n",
       "         1.25634704e-04,  5.52777560e-04, -1.19469643e-04],\n",
       "       [-5.23115188e-03, -1.52260566e-03, -4.40650885e-03, ...,\n",
       "        -9.97838961e-05,  6.91382117e-05,  2.42887613e-04]])"
      ]
     },
     "execution_count": 184,
     "metadata": {},
     "output_type": "execute_result"
    }
   ],
   "source": [
    "best_model.predict()"
   ]
  },
  {
   "cell_type": "code",
   "execution_count": 151,
   "metadata": {},
   "outputs": [
    {
     "data": {
      "text/plain": [
       "array(['f0760cb6eeb034cce044001517f43a86',\n",
       "       'f00af7677b4f32aee044001517f43a86',\n",
       "       'ea0ba79563b346d88b9aff02d2b23f87',\n",
       "       '285fd0eec7a3431c97407f74f63642e6',\n",
       "       'f20a6f620e120e69e044001517f43a86'], dtype='<U32')"
      ]
     },
     "execution_count": 151,
     "metadata": {},
     "output_type": "execute_result"
    }
   ],
   "source": [
    "n_samples = 5\n",
    "sampled_users = np.random.choice(list(train_user_map.keys()), n_samples)\n",
    "sampled_users"
   ]
  },
  {
   "cell_type": "code",
   "execution_count": 162,
   "metadata": {},
   "outputs": [
    {
     "data": {
      "text/plain": [
       "[6753, 29494, 28410, 32728, 26906]"
      ]
     },
     "execution_count": 162,
     "metadata": {},
     "output_type": "execute_result"
    }
   ],
   "source": [
    "sampled_user_ids = list(map(lambda x:train_user_map.get(x), sampled_users))\n",
    "sampled_user_ids"
   ]
  },
  {
   "cell_type": "code",
   "execution_count": 185,
   "metadata": {},
   "outputs": [
    {
     "data": {
      "text/plain": [
       "[array([ 1.92508214e-02,  4.05690704e-03,  1.79791997e-03, ...,\n",
       "         8.82699115e-05,  3.90016562e-04, -1.42512262e-04]),\n",
       " array([-0.00623557,  0.00441798,  0.00294467, ...,  0.00016207,\n",
       "        -0.00013648,  0.0003004 ]),\n",
       " array([ 0.01112636, -0.00082708,  0.00871859, ..., -0.00011798,\n",
       "         0.00012495,  0.00153968]),\n",
       " array([1.72858072e-03, 1.03087796e-03, 2.68763997e-03, ...,\n",
       "        1.98777136e-05, 9.86420844e-07, 2.95268320e-05]),\n",
       " array([ 6.05524006e-03,  4.15845027e-03,  3.00937758e-03, ...,\n",
       "         3.31487882e-04, -5.35775973e-05,  1.01808979e-06])]"
      ]
     },
     "execution_count": 185,
     "metadata": {},
     "output_type": "execute_result"
    }
   ],
   "source": [
    "u_pred = list(map(lambda x:best_model._predict_user(x), sampled_user_ids))\n",
    "u_pred"
   ]
  },
  {
   "cell_type": "code",
   "execution_count": 186,
   "metadata": {},
   "outputs": [
    {
     "data": {
      "text/plain": [
       "[array([ 305, 3561, 1660,  386,  602, 1062]),\n",
       " array([ 137,  438, 1660,  272,  340,  594]),\n",
       " array([4451, 2051,   48, 1102, 2312, 2081]),\n",
       " array([ 137,  273, 1163, 4254, 1455, 1690]),\n",
       " array([ 137,   17, 1810, 9539,  272, 4254])]"
      ]
     },
     "execution_count": 186,
     "metadata": {},
     "output_type": "execute_result"
    }
   ],
   "source": [
    "# recommend 6 items for each sampled user\n",
    "K = 6\n",
    "y_pred = list(map(lambda x:np.argsort(x)[::-1][:K], u_pred))\n",
    "y_pred"
   ]
  },
  {
   "cell_type": "code",
   "execution_count": 187,
   "metadata": {},
   "outputs": [
    {
     "data": {
      "text/plain": [
       "[['f30bd5e1aebf4e5792d1227e1df258cb',\n",
       "  '3003930aa3f34d76a1d2566afff0842e',\n",
       "  'f216dfc963dc1df4e044001517f43a86',\n",
       "  'f0141c05f9980da3e043526e0f0ad214',\n",
       "  'fdaeec5a57504e919d37cb08f48e5e81',\n",
       "  'ef76ab08bc6b43b6a479b2953efd0288'],\n",
       " ['ef5a4dbaea5b40a4a54c17237fb95ae7',\n",
       "  'f202ce3820e04794e044001517f43a86',\n",
       "  'f216dfc963dc1df4e044001517f43a86',\n",
       "  'f07aefdfe4aa5569e044001517f43a86',\n",
       "  '74fd68f05c2c4dcba003eb3a3810f548',\n",
       "  'f41d474cbcf40499e044001517f43a86'],\n",
       " ['f225b48e627a5b5be044001517f43a86',\n",
       "  'f05a3f2b4b960666e044001517f43a86',\n",
       "  'f0e0f2f065594024e0435ad20f0a7943',\n",
       "  '52e6a05f63134d9bb9e9f4ee70efc7aa',\n",
       "  'efeaa9777b2c6147e044001517f43a86',\n",
       "  'f2157814a2760277e044001517f43a86'],\n",
       " ['ef5a4dbaea5b40a4a54c17237fb95ae7',\n",
       "  'f07b9e9c73602b5ce04359d20f0ac1bf',\n",
       "  '1be73b247b494fdda5b76c5cfea02823',\n",
       "  'd6af7dc00f044e49a05eb7c22a271a58',\n",
       "  'f18d17eb897f35e1e044001517f43a86',\n",
       "  'f21f1efd246c3ea7e044001517f43a86'],\n",
       " ['ef5a4dbaea5b40a4a54c17237fb95ae7',\n",
       "  '940022c1c70048febe3560bc383d3612',\n",
       "  'f2148f9470470dace044001517f43a86',\n",
       "  'f2148f9508c90dace044001517f43a86',\n",
       "  'f07aefdfe4aa5569e044001517f43a86',\n",
       "  'd6af7dc00f044e49a05eb7c22a271a58']]"
      ]
     },
     "execution_count": 187,
     "metadata": {},
     "output_type": "execute_result"
    }
   ],
   "source": [
    "y_pred_output = list(list(map(lambda x:cid_map.get(x), user_vec)) for user_vec in y_pred)\n",
    "y_pred_output"
   ]
  },
  {
   "cell_type": "markdown",
   "metadata": {},
   "source": [
    "---\n",
    "Test the output of my defined methods `_recommend_user`, `recommend` and `_similar_items` in the `ALS_WR` class."
   ]
  },
  {
   "cell_type": "code",
   "execution_count": 188,
   "metadata": {},
   "outputs": [
    {
     "data": {
      "text/plain": [
       "[305, 3561, 1660, 386, 602, 1062]"
      ]
     },
     "execution_count": 188,
     "metadata": {},
     "output_type": "execute_result"
    }
   ],
   "source": [
    "best_model._recommend_user(6753, N=6)  # 'f0760cb6eeb034cce044001517f43a86'"
   ]
  },
  {
   "cell_type": "code",
   "execution_count": 189,
   "metadata": {},
   "outputs": [
    {
     "data": {
      "text/plain": [
       "array([[ 305., 3561., 1660.,  386.,  602., 1062.],\n",
       "       [ 137.,  438., 1660.,  272.,  340.,  594.],\n",
       "       [4451., 2051.,   48., 1102., 2312., 2081.],\n",
       "       [ 137.,  273., 1163., 4254., 1455., 1690.],\n",
       "       [ 137.,   17., 1810., 9539.,  272., 4254.]])"
      ]
     },
     "execution_count": 189,
     "metadata": {},
     "output_type": "execute_result"
    }
   ],
   "source": [
    "best_model.recommend(sampled_user_ids, N=6)  # same as the previous test"
   ]
  },
  {
   "cell_type": "code",
   "execution_count": 190,
   "metadata": {},
   "outputs": [
    {
     "data": {
      "text/plain": [
       "array(['55500598', '468231774', '52297231', '44629910', '47522923'],\n",
       "      dtype='<U10')"
      ]
     },
     "execution_count": 190,
     "metadata": {},
     "output_type": "execute_result"
    }
   ],
   "source": [
    "sampled_items = np.random.choice(list(train_item_map.keys()), n_samples)\n",
    "sampled_items"
   ]
  },
  {
   "cell_type": "code",
   "execution_count": 191,
   "metadata": {},
   "outputs": [
    {
     "data": {
      "text/plain": [
       "[13034, 29525, 4038, 26559, 15769]"
      ]
     },
     "execution_count": 191,
     "metadata": {},
     "output_type": "execute_result"
    }
   ],
   "source": [
    "sampled_item_ids = list(map(lambda x:train_item_map.get(x), sampled_items))\n",
    "sampled_item_ids"
   ]
  },
  {
   "cell_type": "code",
   "execution_count": 192,
   "metadata": {},
   "outputs": [
    {
     "data": {
      "text/plain": [
       "array([[14776,   448,  2116,  2280,  3379],\n",
       "       [27594, 36798, 15007,  4741, 28506],\n",
       "       [18275, 12584,  3661,  1015, 17782],\n",
       "       [16390, 28278,  3520,  7146, 36465],\n",
       "       [27278, 30808, 39316, 28686, 17795]])"
      ]
     },
     "execution_count": 192,
     "metadata": {},
     "output_type": "execute_result"
    }
   ],
   "source": [
    "best_model._similar_items(sampled_item_ids, N=5)"
   ]
  },
  {
   "cell_type": "markdown",
   "metadata": {},
   "source": [
    "# Reference\n",
    "1. [Collaborative Filtering for Implicit Feedback Datasets](http://yifanhu.net/PUB/cf.pdf)\n",
    "2. [Matrix Factorization Techniques for Recommender Systems](https://datajobs.com/data-science-repo/Recommender-Systems-[Netflix].pdf)"
   ]
  },
  {
   "cell_type": "code",
   "execution_count": null,
   "metadata": {},
   "outputs": [],
   "source": []
  }
 ],
 "metadata": {
  "kernelspec": {
   "display_name": "Python 3",
   "language": "python",
   "name": "python3"
  },
  "language_info": {
   "codemirror_mode": {
    "name": "ipython",
    "version": 3
   },
   "file_extension": ".py",
   "mimetype": "text/x-python",
   "name": "python",
   "nbconvert_exporter": "python",
   "pygments_lexer": "ipython3",
   "version": "3.7.3"
  },
  "widgets": {
   "application/vnd.jupyter.widget-state+json": {
    "state": {
     "003ea3daae8c493b8cacf84ef1c6c343": {
      "model_module": "@jupyter-widgets/controls",
      "model_module_version": "1.4.0",
      "model_name": "ProgressStyleModel",
      "state": {
       "description_width": "initial"
      }
     },
     "00765e4cb63f45fc93c9d02ab904aef3": {
      "model_module": "@jupyter-widgets/base",
      "model_module_version": "1.1.0",
      "model_name": "LayoutModel",
      "state": {}
     },
     "01dab9144d6242b7aeb1fc9af4a09c25": {
      "model_module": "@jupyter-widgets/controls",
      "model_module_version": "1.4.0",
      "model_name": "ProgressStyleModel",
      "state": {
       "description_width": "initial"
      }
     },
     "02235b5d65c5409a8964bc8a34eb0153": {
      "model_module": "@jupyter-widgets/base",
      "model_module_version": "1.1.0",
      "model_name": "LayoutModel",
      "state": {}
     },
     "024099a20d6d467290184feeec906920": {
      "model_module": "@jupyter-widgets/controls",
      "model_module_version": "1.4.0",
      "model_name": "DescriptionStyleModel",
      "state": {
       "description_width": ""
      }
     },
     "02a30905747e4504b149a3c016bbaf9d": {
      "model_module": "@jupyter-widgets/controls",
      "model_module_version": "1.4.0",
      "model_name": "DescriptionStyleModel",
      "state": {
       "description_width": ""
      }
     },
     "02c836b65592434494a57b2c8faa890f": {
      "model_module": "@jupyter-widgets/base",
      "model_module_version": "1.1.0",
      "model_name": "LayoutModel",
      "state": {}
     },
     "034e02f9498f44c698d72596c9d665fc": {
      "model_module": "@jupyter-widgets/base",
      "model_module_version": "1.1.0",
      "model_name": "LayoutModel",
      "state": {}
     },
     "0360681c659f4cf49e0492d4fe82e726": {
      "model_module": "@jupyter-widgets/controls",
      "model_module_version": "1.4.0",
      "model_name": "IntProgressModel",
      "state": {
       "bar_style": "success",
       "description": "evaluating...",
       "layout": "IPY_MODEL_6477b2a3649c4658ab773a101bfea2c9",
       "max": 26791,
       "style": "IPY_MODEL_b92b9468e151432f9d48c0f20cd998a7",
       "value": 26791
      }
     },
     "03ef0337fbed40c899103336b276166d": {
      "model_module": "@jupyter-widgets/controls",
      "model_module_version": "1.4.0",
      "model_name": "IntProgressModel",
      "state": {
       "bar_style": "success",
       "description": "training...",
       "layout": "IPY_MODEL_0ae020d1671a486db2461316a03e3384",
       "max": 20,
       "style": "IPY_MODEL_d9aed2b364ef4a12b0835075fb4e4414",
       "value": 20
      }
     },
     "0411425462e040bab50ace7c216f7ecd": {
      "model_module": "@jupyter-widgets/controls",
      "model_module_version": "1.4.0",
      "model_name": "HTMLModel",
      "state": {
       "layout": "IPY_MODEL_f645e056343148b1a1bbcac2ec7d8b0c",
       "style": "IPY_MODEL_1cf82696451242a19337543f636b2ccc",
       "value": "100% 26791/26791 [01:05&lt;00:00, 406.58it/s]"
      }
     },
     "0476348d3b394561b6dbd294f83b03ab": {
      "model_module": "@jupyter-widgets/controls",
      "model_module_version": "1.4.0",
      "model_name": "HTMLModel",
      "state": {
       "layout": "IPY_MODEL_caeb91f615c1451ea980f589defb6d03",
       "style": "IPY_MODEL_d115dcf65d8849308215b2a49a99b3ea",
       "value": "100% 26791/26791 [01:07&lt;00:00, 396.10it/s]"
      }
     },
     "04cb0dca3fd8490f92ac9239f7f63713": {
      "model_module": "@jupyter-widgets/controls",
      "model_module_version": "1.4.0",
      "model_name": "HTMLModel",
      "state": {
       "layout": "IPY_MODEL_c878ea43fe274924ba900ad5c581473e",
       "style": "IPY_MODEL_93b8fef8628d43058f3a10b4d3dfdf25",
       "value": "100% 10/10 [02:06&lt;00:00, 12.55s/it]"
      }
     },
     "05af3136d9e04c81860d4cc06ce48bd6": {
      "model_module": "@jupyter-widgets/controls",
      "model_module_version": "1.4.0",
      "model_name": "HBoxModel",
      "state": {
       "children": [
        "IPY_MODEL_da34fa2a2fdf42f0a32419ac18629754",
        "IPY_MODEL_fe4e2e49c19d4665ada976298c0b72f9"
       ],
       "layout": "IPY_MODEL_b3ba8d3a92a240adbb46ac08e8f8042d"
      }
     },
     "05eb89ed28344f959892e6a27b28971e": {
      "model_module": "@jupyter-widgets/controls",
      "model_module_version": "1.4.0",
      "model_name": "DescriptionStyleModel",
      "state": {
       "description_width": ""
      }
     },
     "0678a0f57d9f4642a45a81c7c179bc59": {
      "model_module": "@jupyter-widgets/base",
      "model_module_version": "1.1.0",
      "model_name": "LayoutModel",
      "state": {}
     },
     "069dfb3adfe3411c95b8500a81b6efc5": {
      "model_module": "@jupyter-widgets/controls",
      "model_module_version": "1.4.0",
      "model_name": "ProgressStyleModel",
      "state": {
       "description_width": "initial"
      }
     },
     "06f4744816d4499dbe3142e76d1e24ed": {
      "model_module": "@jupyter-widgets/controls",
      "model_module_version": "1.4.0",
      "model_name": "HBoxModel",
      "state": {
       "children": [
        "IPY_MODEL_ec6c8621db244692beca1bd4eab290c7",
        "IPY_MODEL_e5c9b5c5fe074d0eb3413f8ca10a8d73"
       ],
       "layout": "IPY_MODEL_7eba69f4355f4ba1a469a489bc97744a"
      }
     },
     "079df86df3a04fe296d78afa23efaccf": {
      "model_module": "@jupyter-widgets/controls",
      "model_module_version": "1.4.0",
      "model_name": "HBoxModel",
      "state": {
       "children": [
        "IPY_MODEL_3131724e0dff4e25bd65c3d0fb21a362",
        "IPY_MODEL_0b685afe17084f8dbab7fb74fa57fc5d"
       ],
       "layout": "IPY_MODEL_e0a6485a636d492db2c35eba5f4d48df"
      }
     },
     "07d47124fc4a4678b872ee15fac37247": {
      "model_module": "@jupyter-widgets/controls",
      "model_module_version": "1.4.0",
      "model_name": "HTMLModel",
      "state": {
       "layout": "IPY_MODEL_874ffb070f2848b4b42b9e611fe78ffb",
       "style": "IPY_MODEL_ed1f5a781acf46c281d343b9f04f4a4b",
       "value": "100% 26791/26791 [03:59&lt;00:00, 109.86it/s]"
      }
     },
     "083a4fbdff1e430cb2871a469d1e2bbd": {
      "model_module": "@jupyter-widgets/base",
      "model_module_version": "1.1.0",
      "model_name": "LayoutModel",
      "state": {}
     },
     "090a020c5db34b21b81d1b739c7d04f3": {
      "model_module": "@jupyter-widgets/base",
      "model_module_version": "1.1.0",
      "model_name": "LayoutModel",
      "state": {}
     },
     "09a05e47fa134a39a53335f369ba9576": {
      "model_module": "@jupyter-widgets/controls",
      "model_module_version": "1.4.0",
      "model_name": "IntProgressModel",
      "state": {
       "bar_style": "success",
       "description": "evaluating...",
       "layout": "IPY_MODEL_02235b5d65c5409a8964bc8a34eb0153",
       "max": 26791,
       "style": "IPY_MODEL_e7e5bf624e50465d9222001078de847b",
       "value": 26791
      }
     },
     "0ae020d1671a486db2461316a03e3384": {
      "model_module": "@jupyter-widgets/base",
      "model_module_version": "1.1.0",
      "model_name": "LayoutModel",
      "state": {}
     },
     "0b358b58f9a1471c92c171f6d8bd4492": {
      "model_module": "@jupyter-widgets/controls",
      "model_module_version": "1.4.0",
      "model_name": "IntProgressModel",
      "state": {
       "bar_style": "success",
       "description": "evaluating...",
       "layout": "IPY_MODEL_f33b1e51ded8437abd997d2f2f2bc488",
       "max": 26791,
       "style": "IPY_MODEL_27ae786aabb743538c9ea10f31cedf3d",
       "value": 26791
      }
     },
     "0b685afe17084f8dbab7fb74fa57fc5d": {
      "model_module": "@jupyter-widgets/controls",
      "model_module_version": "1.4.0",
      "model_name": "HTMLModel",
      "state": {
       "layout": "IPY_MODEL_4b9b84829e884b91b0d05e9c6d32bb59",
       "style": "IPY_MODEL_5ae76fa928414884bbb1473e73fd3270",
       "value": " 40% 8/20 [01:19&lt;02:00, 10.03s/it]"
      }
     },
     "0bcc2a2c5c7a4017a7bfa2e4af2507b5": {
      "model_module": "@jupyter-widgets/base",
      "model_module_version": "1.1.0",
      "model_name": "LayoutModel",
      "state": {}
     },
     "0c0b0231c827451d97af4d5c02e50658": {
      "model_module": "@jupyter-widgets/controls",
      "model_module_version": "1.4.0",
      "model_name": "HBoxModel",
      "state": {
       "children": [
        "IPY_MODEL_0b358b58f9a1471c92c171f6d8bd4492",
        "IPY_MODEL_2d8a1fbb4835469da84487c2c0790dae"
       ],
       "layout": "IPY_MODEL_4f8bda24b9c047a2849e78b94e586f38"
      }
     },
     "0cd8ebddbf224937bac42948a1132710": {
      "model_module": "@jupyter-widgets/controls",
      "model_module_version": "1.4.0",
      "model_name": "DescriptionStyleModel",
      "state": {
       "description_width": ""
      }
     },
     "0ce1a8d6e1724ecebbbd355a556dcd42": {
      "model_module": "@jupyter-widgets/controls",
      "model_module_version": "1.4.0",
      "model_name": "HTMLModel",
      "state": {
       "layout": "IPY_MODEL_492b05c4e80046979ca4ce4454c0b740",
       "style": "IPY_MODEL_dc846cea6b8d4cfaa9f9aa8ef73b90da",
       "value": "100% 26791/26791 [01:06&lt;00:00, 401.03it/s]"
      }
     },
     "0e28618dc5304808b15cc9ec219abbc1": {
      "model_module": "@jupyter-widgets/controls",
      "model_module_version": "1.4.0",
      "model_name": "ProgressStyleModel",
      "state": {
       "description_width": "initial"
      }
     },
     "0ef0b31ebe6e4e859cd2ac41224a81f9": {
      "model_module": "@jupyter-widgets/controls",
      "model_module_version": "1.4.0",
      "model_name": "ProgressStyleModel",
      "state": {
       "description_width": "initial"
      }
     },
     "0f90044c26f244f5b6c31fc82c7981c3": {
      "model_module": "@jupyter-widgets/controls",
      "model_module_version": "1.4.0",
      "model_name": "HTMLModel",
      "state": {
       "layout": "IPY_MODEL_090a020c5db34b21b81d1b739c7d04f3",
       "style": "IPY_MODEL_77cff7b205244fcfb8199a876481d6e2",
       "value": "100% 26791/26791 [03:57&lt;00:00, 112.57it/s]"
      }
     },
     "0f91f4910821469891d3e7561004ab58": {
      "model_module": "@jupyter-widgets/controls",
      "model_module_version": "1.4.0",
      "model_name": "IntProgressModel",
      "state": {
       "bar_style": "success",
       "description": "evaluating...",
       "layout": "IPY_MODEL_0fbe46c859544131abecd73df4b72064",
       "max": 26791,
       "style": "IPY_MODEL_61955b57788b4a228c8ededa9fc87095",
       "value": 26791
      }
     },
     "0fbe46c859544131abecd73df4b72064": {
      "model_module": "@jupyter-widgets/base",
      "model_module_version": "1.1.0",
      "model_name": "LayoutModel",
      "state": {}
     },
     "0fd6a02525d54606ac4bbfc07a964860": {
      "model_module": "@jupyter-widgets/controls",
      "model_module_version": "1.4.0",
      "model_name": "DescriptionStyleModel",
      "state": {
       "description_width": ""
      }
     },
     "0ffd0129a3e94555bbeb9f845b462c37": {
      "model_module": "@jupyter-widgets/base",
      "model_module_version": "1.1.0",
      "model_name": "LayoutModel",
      "state": {}
     },
     "1086c91304fe462ca2e3fdf964324f61": {
      "model_module": "@jupyter-widgets/controls",
      "model_module_version": "1.4.0",
      "model_name": "ProgressStyleModel",
      "state": {
       "description_width": "initial"
      }
     },
     "10c57ad544474b1fafc1db0eeb0c068b": {
      "model_module": "@jupyter-widgets/controls",
      "model_module_version": "1.4.0",
      "model_name": "HTMLModel",
      "state": {
       "layout": "IPY_MODEL_94f4bd679a6544569bd52988abd03d37",
       "style": "IPY_MODEL_024099a20d6d467290184feeec906920",
       "value": "100% 10/10 [01:36&lt;00:00,  9.84s/it]"
      }
     },
     "10e95f2557744fc6b6d630a62828e482": {
      "model_module": "@jupyter-widgets/controls",
      "model_module_version": "1.4.0",
      "model_name": "HTMLModel",
      "state": {
       "layout": "IPY_MODEL_d8a3504713ad4c39917cf0d1d9811d1d",
       "style": "IPY_MODEL_def17bb1e64d4b7ca174de9f915a1458",
       "value": "100% 26791/26791 [01:46&lt;00:00, 251.59it/s]"
      }
     },
     "11049d30e9524d9286092fa64bf3e7a3": {
      "model_module": "@jupyter-widgets/base",
      "model_module_version": "1.1.0",
      "model_name": "LayoutModel",
      "state": {}
     },
     "11982b954ed14bb1ac52dfc9a838e13f": {
      "model_module": "@jupyter-widgets/controls",
      "model_module_version": "1.4.0",
      "model_name": "DescriptionStyleModel",
      "state": {
       "description_width": ""
      }
     },
     "11b5a43ec19b426f8758c4f29c26c68d": {
      "model_module": "@jupyter-widgets/base",
      "model_module_version": "1.1.0",
      "model_name": "LayoutModel",
      "state": {}
     },
     "11d312988ede4d5eadc78d1bc899198a": {
      "model_module": "@jupyter-widgets/base",
      "model_module_version": "1.1.0",
      "model_name": "LayoutModel",
      "state": {}
     },
     "1246524539e543e89c086e7a4e0568ab": {
      "model_module": "@jupyter-widgets/controls",
      "model_module_version": "1.4.0",
      "model_name": "HTMLModel",
      "state": {
       "layout": "IPY_MODEL_c7b71b3c1cc9497d88dc4699f9b64338",
       "style": "IPY_MODEL_ab9ae43525cd4257855b30da94b0542d",
       "value": "100% 26791/26791 [03:53&lt;00:00, 114.96it/s]"
      }
     },
     "126b28a7fd8c439da90006cef591d014": {
      "model_module": "@jupyter-widgets/controls",
      "model_module_version": "1.4.0",
      "model_name": "HTMLModel",
      "state": {
       "layout": "IPY_MODEL_b740a56a5c6d44408a1616ab3cf71798",
       "style": "IPY_MODEL_9e4d0dc5505b495e88f88ee2b3436b88",
       "value": "100% 26791/26791 [01:05&lt;00:00, 409.85it/s]"
      }
     },
     "12dfe71c3a574d3cbd9394d0f871d60f": {
      "model_module": "@jupyter-widgets/controls",
      "model_module_version": "1.4.0",
      "model_name": "HTMLModel",
      "state": {
       "layout": "IPY_MODEL_d12b5b2e48de4bac8599a3edea8be961",
       "style": "IPY_MODEL_f6d1dca3fc444ac5832995a29a0dca6a",
       "value": "100% 26791/26791 [01:14&lt;00:00, 358.15it/s]"
      }
     },
     "13197bae14674817be6a58c9210e1a1f": {
      "model_module": "@jupyter-widgets/base",
      "model_module_version": "1.1.0",
      "model_name": "LayoutModel",
      "state": {}
     },
     "131ae549533b4616846420ff25526ad9": {
      "model_module": "@jupyter-widgets/controls",
      "model_module_version": "1.4.0",
      "model_name": "HBoxModel",
      "state": {
       "children": [
        "IPY_MODEL_1c7081894c5148a3b641fdfd2c340e0a",
        "IPY_MODEL_cdd577da601e4e009cba5c3b525313b2"
       ],
       "layout": "IPY_MODEL_8899a6a4f22d496a80afd6c36ce3927b"
      }
     },
     "1332c75b6629460ebbd0e6d814b043a6": {
      "model_module": "@jupyter-widgets/base",
      "model_module_version": "1.1.0",
      "model_name": "LayoutModel",
      "state": {}
     },
     "13a4df7078494f439cb3adb701c9362f": {
      "model_module": "@jupyter-widgets/controls",
      "model_module_version": "1.4.0",
      "model_name": "HBoxModel",
      "state": {
       "children": [
        "IPY_MODEL_f347e5e67e2340508ea8a0899af49091",
        "IPY_MODEL_c18d9eaf33824b279c1b5bf6444f2490"
       ],
       "layout": "IPY_MODEL_2f2c4138f20e4b8b9214a526b38dcbcd"
      }
     },
     "13eb1240b8dc4c59ae00c25b0fe7c2b9": {
      "model_module": "@jupyter-widgets/controls",
      "model_module_version": "1.4.0",
      "model_name": "HBoxModel",
      "state": {
       "children": [
        "IPY_MODEL_1a0ddd9e1b3d463790a5502459563d08",
        "IPY_MODEL_4b73ef821b2842b6b718556ec0faecc4"
       ],
       "layout": "IPY_MODEL_731957123fd34ac79cb61ec873d9451b"
      }
     },
     "1465dd100e3d49b7ba235fdfd74f3aee": {
      "model_module": "@jupyter-widgets/controls",
      "model_module_version": "1.4.0",
      "model_name": "DescriptionStyleModel",
      "state": {
       "description_width": ""
      }
     },
     "15c09461133d4ee4b79b0d81f14009a4": {
      "model_module": "@jupyter-widgets/controls",
      "model_module_version": "1.4.0",
      "model_name": "IntProgressModel",
      "state": {
       "bar_style": "success",
       "description": "training...",
       "layout": "IPY_MODEL_00765e4cb63f45fc93c9d02ab904aef3",
       "max": 10,
       "style": "IPY_MODEL_2a73db2c136449ea9859acdcc7f5a40b",
       "value": 10
      }
     },
     "15d28cc94c664e7ab5779e2b95ebe1d3": {
      "model_module": "@jupyter-widgets/base",
      "model_module_version": "1.1.0",
      "model_name": "LayoutModel",
      "state": {}
     },
     "1620f30c13ea407ebeea1a112a928a93": {
      "model_module": "@jupyter-widgets/controls",
      "model_module_version": "1.4.0",
      "model_name": "IntProgressModel",
      "state": {
       "bar_style": "success",
       "description": "evaluating...",
       "layout": "IPY_MODEL_9e3417d040f64dd08141d7111a56171e",
       "max": 26791,
       "style": "IPY_MODEL_cfee9601bbc34aa4990ae7292eb5774c",
       "value": 26791
      }
     },
     "165fa6596962469788c6e8bbc6e2b74a": {
      "model_module": "@jupyter-widgets/controls",
      "model_module_version": "1.4.0",
      "model_name": "DescriptionStyleModel",
      "state": {
       "description_width": ""
      }
     },
     "1688c2a450484e2c8d989fb8b0830f6c": {
      "model_module": "@jupyter-widgets/base",
      "model_module_version": "1.1.0",
      "model_name": "LayoutModel",
      "state": {}
     },
     "16bce83cd9f74f099d516a4fc85a8f39": {
      "model_module": "@jupyter-widgets/controls",
      "model_module_version": "1.4.0",
      "model_name": "HBoxModel",
      "state": {
       "children": [
        "IPY_MODEL_b35ff9989c734637a838753b3e5158fe",
        "IPY_MODEL_ffbc6604e20a47c182daf01e060bf754"
       ],
       "layout": "IPY_MODEL_8df583d033ee45bc993c76dccb586bfe"
      }
     },
     "173f3dee56eb4a319a83dde539c1687f": {
      "model_module": "@jupyter-widgets/controls",
      "model_module_version": "1.4.0",
      "model_name": "ProgressStyleModel",
      "state": {
       "description_width": "initial"
      }
     },
     "177cab1296f443daa3ffc4624b6b5476": {
      "model_module": "@jupyter-widgets/controls",
      "model_module_version": "1.4.0",
      "model_name": "IntProgressModel",
      "state": {
       "bar_style": "success",
       "description": "evaluating...",
       "layout": "IPY_MODEL_1f5a40d8d20d4f3eaa30047f9fb6f4f4",
       "max": 26791,
       "style": "IPY_MODEL_01dab9144d6242b7aeb1fc9af4a09c25",
       "value": 26791
      }
     },
     "179f8b3c6ebe46f282f52969d1c250b8": {
      "model_module": "@jupyter-widgets/controls",
      "model_module_version": "1.4.0",
      "model_name": "HTMLModel",
      "state": {
       "layout": "IPY_MODEL_a771a6e1513643cf9282f7e82d51321b",
       "style": "IPY_MODEL_d48004ad1718409aab3746d38380e7f0",
       "value": "100% 26791/26791 [01:25&lt;00:00, 313.26it/s]"
      }
     },
     "17cf82e62e044542bd22b1772cb56cd0": {
      "model_module": "@jupyter-widgets/controls",
      "model_module_version": "1.4.0",
      "model_name": "ProgressStyleModel",
      "state": {
       "description_width": "initial"
      }
     },
     "17dc2e1ba132416d91e6a646d81843a2": {
      "model_module": "@jupyter-widgets/controls",
      "model_module_version": "1.4.0",
      "model_name": "HTMLModel",
      "state": {
       "layout": "IPY_MODEL_a74297263ae547739180122f1ddc2068",
       "style": "IPY_MODEL_3e25528f95d64c47b708901939cab471",
       "value": "100% 26791/26791 [01:09&lt;00:00, 387.94it/s]"
      }
     },
     "18356bfab5c3429b90107cebb2258613": {
      "model_module": "@jupyter-widgets/controls",
      "model_module_version": "1.4.0",
      "model_name": "IntProgressModel",
      "state": {
       "bar_style": "success",
       "description": "evaluating...",
       "layout": "IPY_MODEL_fc70d8a8e5574d6387f4e63093be837d",
       "max": 26791,
       "style": "IPY_MODEL_003ea3daae8c493b8cacf84ef1c6c343",
       "value": 26791
      }
     },
     "188064275b494abebd461fe8d4bbef6d": {
      "model_module": "@jupyter-widgets/controls",
      "model_module_version": "1.4.0",
      "model_name": "DescriptionStyleModel",
      "state": {
       "description_width": ""
      }
     },
     "188fc72ef6144b7c9895bbaf3bd1180a": {
      "model_module": "@jupyter-widgets/base",
      "model_module_version": "1.1.0",
      "model_name": "LayoutModel",
      "state": {}
     },
     "1894eeb81a45428b9ef7f3080ca4581e": {
      "model_module": "@jupyter-widgets/controls",
      "model_module_version": "1.4.0",
      "model_name": "DescriptionStyleModel",
      "state": {
       "description_width": ""
      }
     },
     "18ea70734df44e84975ee9d44a6a1876": {
      "model_module": "@jupyter-widgets/controls",
      "model_module_version": "1.4.0",
      "model_name": "IntProgressModel",
      "state": {
       "bar_style": "success",
       "description": "evaluating...",
       "layout": "IPY_MODEL_2c9dc4226e254891a712e2164fa690d0",
       "max": 26791,
       "style": "IPY_MODEL_ef1922fc44b2485189c5befbe4e0595b",
       "value": 26791
      }
     },
     "1920e960f29943b783d99d003c5f0ca0": {
      "model_module": "@jupyter-widgets/controls",
      "model_module_version": "1.4.0",
      "model_name": "HBoxModel",
      "state": {
       "children": [
        "IPY_MODEL_93ee08ab38a94e06941f562eb115e45a",
        "IPY_MODEL_ce43b1ea5d654d50851d1d0f452bafd6"
       ],
       "layout": "IPY_MODEL_9e58ddd5432f4da181f72736bddaffe4"
      }
     },
     "1a0ddd9e1b3d463790a5502459563d08": {
      "model_module": "@jupyter-widgets/controls",
      "model_module_version": "1.4.0",
      "model_name": "IntProgressModel",
      "state": {
       "bar_style": "success",
       "description": "training...",
       "layout": "IPY_MODEL_8067b90086884ea2b295b8d9c76a3f56",
       "max": 15,
       "style": "IPY_MODEL_d6b18e662d0a4c4a853861e9eeb64d1e",
       "value": 15
      }
     },
     "1a82ba5a795a49b39ab199ec9c69511b": {
      "model_module": "@jupyter-widgets/base",
      "model_module_version": "1.1.0",
      "model_name": "LayoutModel",
      "state": {}
     },
     "1ad8bb46a142497ab39e905bb0ce4bad": {
      "model_module": "@jupyter-widgets/base",
      "model_module_version": "1.1.0",
      "model_name": "LayoutModel",
      "state": {}
     },
     "1afc84a3f0194d33a1996ca5afe4d9c6": {
      "model_module": "@jupyter-widgets/controls",
      "model_module_version": "1.4.0",
      "model_name": "ProgressStyleModel",
      "state": {
       "description_width": "initial"
      }
     },
     "1bb076814d584a59bad97180bfe3bad5": {
      "model_module": "@jupyter-widgets/base",
      "model_module_version": "1.1.0",
      "model_name": "LayoutModel",
      "state": {}
     },
     "1c0062a498734bb1a9279b29952c1885": {
      "model_module": "@jupyter-widgets/base",
      "model_module_version": "1.1.0",
      "model_name": "LayoutModel",
      "state": {}
     },
     "1c0b08678de748149ed0105aef86bf19": {
      "model_module": "@jupyter-widgets/base",
      "model_module_version": "1.1.0",
      "model_name": "LayoutModel",
      "state": {}
     },
     "1c7081894c5148a3b641fdfd2c340e0a": {
      "model_module": "@jupyter-widgets/controls",
      "model_module_version": "1.4.0",
      "model_name": "IntProgressModel",
      "state": {
       "bar_style": "success",
       "description": "evaluating...",
       "layout": "IPY_MODEL_afbd2c788b444b859ae46234ab6362db",
       "max": 26791,
       "style": "IPY_MODEL_3ff37e504fc24c009809c29ddfc7ec82",
       "value": 26791
      }
     },
     "1cf82696451242a19337543f636b2ccc": {
      "model_module": "@jupyter-widgets/controls",
      "model_module_version": "1.4.0",
      "model_name": "DescriptionStyleModel",
      "state": {
       "description_width": ""
      }
     },
     "1d467921376f456a951d6883bf3844a2": {
      "model_module": "@jupyter-widgets/base",
      "model_module_version": "1.1.0",
      "model_name": "LayoutModel",
      "state": {}
     },
     "1d49d8997fae43f780c80dce87ce0810": {
      "model_module": "@jupyter-widgets/controls",
      "model_module_version": "1.4.0",
      "model_name": "HBoxModel",
      "state": {
       "children": [
        "IPY_MODEL_9bdd06445c854772a7755a908f7092d9",
        "IPY_MODEL_b4192f930949434ea19be1ec1d9500c6"
       ],
       "layout": "IPY_MODEL_0678a0f57d9f4642a45a81c7c179bc59"
      }
     },
     "1f5a40d8d20d4f3eaa30047f9fb6f4f4": {
      "model_module": "@jupyter-widgets/base",
      "model_module_version": "1.1.0",
      "model_name": "LayoutModel",
      "state": {}
     },
     "1f6c86e38a5f4d55a4fbf94efb4a0bfe": {
      "model_module": "@jupyter-widgets/base",
      "model_module_version": "1.1.0",
      "model_name": "LayoutModel",
      "state": {}
     },
     "1fa88c3941104fa09020f5c5599e7adf": {
      "model_module": "@jupyter-widgets/controls",
      "model_module_version": "1.4.0",
      "model_name": "HBoxModel",
      "state": {
       "children": [
        "IPY_MODEL_15c09461133d4ee4b79b0d81f14009a4",
        "IPY_MODEL_8fa46610597841baa5e9f89558c31669"
       ],
       "layout": "IPY_MODEL_a6b38b2751f742ab86dfa161263450f7"
      }
     },
     "1fc351ce40524b86a3f3a76bff3150f1": {
      "model_module": "@jupyter-widgets/controls",
      "model_module_version": "1.4.0",
      "model_name": "HTMLModel",
      "state": {
       "layout": "IPY_MODEL_432852233cef425ba18ebf8b957e35c0",
       "style": "IPY_MODEL_f83daeba095145dc9fc1af1b73d16400",
       "value": "100% 26791/26791 [03:59&lt;00:00, 111.91it/s]"
      }
     },
     "1fecbe122fc341069ec9ada37057c991": {
      "model_module": "@jupyter-widgets/base",
      "model_module_version": "1.1.0",
      "model_name": "LayoutModel",
      "state": {}
     },
     "20109af604d745babf039f37e144bc01": {
      "model_module": "@jupyter-widgets/base",
      "model_module_version": "1.1.0",
      "model_name": "LayoutModel",
      "state": {}
     },
     "207c00084d034eaeb398579fbebd7df1": {
      "model_module": "@jupyter-widgets/controls",
      "model_module_version": "1.4.0",
      "model_name": "HTMLModel",
      "state": {
       "layout": "IPY_MODEL_4afd6dd401e347e28ca71de2acf4e4da",
       "style": "IPY_MODEL_981da7b392e846b49d0d09527b0cafb4",
       "value": "100% 26791/26791 [01:05&lt;00:00, 408.78it/s]"
      }
     },
     "21237d6041dc4501873d0a79615af802": {
      "model_module": "@jupyter-widgets/base",
      "model_module_version": "1.1.0",
      "model_name": "LayoutModel",
      "state": {}
     },
     "217c60bb88d945e198cfe3b6d1023fc6": {
      "model_module": "@jupyter-widgets/controls",
      "model_module_version": "1.4.0",
      "model_name": "HBoxModel",
      "state": {
       "children": [
        "IPY_MODEL_18ea70734df44e84975ee9d44a6a1876",
        "IPY_MODEL_126b28a7fd8c439da90006cef591d014"
       ],
       "layout": "IPY_MODEL_c37a67b0cd134017a6c3207e3c0fd2c7"
      }
     },
     "21a6e39d54f14fbf92e30a9aeb95f51d": {
      "model_module": "@jupyter-widgets/controls",
      "model_module_version": "1.4.0",
      "model_name": "IntProgressModel",
      "state": {
       "bar_style": "success",
       "description": "evaluating...",
       "layout": "IPY_MODEL_402dc3dcf97c4a1e868cdf5b6e8cce9c",
       "max": 26791,
       "style": "IPY_MODEL_67bf702982c243da9921e6e17187333a",
       "value": 26791
      }
     },
     "22427a13a88e4142b168e004de437dde": {
      "model_module": "@jupyter-widgets/controls",
      "model_module_version": "1.4.0",
      "model_name": "HTMLModel",
      "state": {
       "layout": "IPY_MODEL_d36c77e6f6e542429b8cd8a85d5ed044",
       "style": "IPY_MODEL_5636d481bebf4ac4819a97053a9d32f9",
       "value": "100% 26791/26791 [01:07&lt;00:00, 396.54it/s]"
      }
     },
     "22cc0f93b11f4936a1f32c19b4b0aa4d": {
      "model_module": "@jupyter-widgets/base",
      "model_module_version": "1.1.0",
      "model_name": "LayoutModel",
      "state": {}
     },
     "22cef56b06234859ab5dc47d41968757": {
      "model_module": "@jupyter-widgets/base",
      "model_module_version": "1.1.0",
      "model_name": "LayoutModel",
      "state": {}
     },
     "22edd32cfd4e44559f1cdc91676f6bbd": {
      "model_module": "@jupyter-widgets/controls",
      "model_module_version": "1.4.0",
      "model_name": "HTMLModel",
      "state": {
       "layout": "IPY_MODEL_7a1f395eaa1e46e9945436f36957af86",
       "style": "IPY_MODEL_a2c5489f6cf44e54b196063db5e66619",
       "value": "100% 26791/26791 [01:13&lt;00:00, 362.65it/s]"
      }
     },
     "235e46d78cca4b019ae065b05903644e": {
      "model_module": "@jupyter-widgets/base",
      "model_module_version": "1.1.0",
      "model_name": "LayoutModel",
      "state": {}
     },
     "236ed0523650475e99cf8d4244c6cfc1": {
      "model_module": "@jupyter-widgets/controls",
      "model_module_version": "1.4.0",
      "model_name": "HBoxModel",
      "state": {
       "children": [
        "IPY_MODEL_21a6e39d54f14fbf92e30a9aeb95f51d",
        "IPY_MODEL_d54522b6aa2143f4ab8a0e1d0cb1748a"
       ],
       "layout": "IPY_MODEL_9834723080284da59b9df6a7e21efaf6"
      }
     },
     "237cf8ee5a494ddaa459da5c2f3cf26c": {
      "model_module": "@jupyter-widgets/controls",
      "model_module_version": "1.4.0",
      "model_name": "HBoxModel",
      "state": {
       "children": [
        "IPY_MODEL_ced01b089d4343d19017a1fc70f5a151",
        "IPY_MODEL_6dc83af74e0742b39036756e41ffa74d"
       ],
       "layout": "IPY_MODEL_6c93b4b4e1e146dab3aabea7be6e7a37"
      }
     },
     "23e76457d8194ae5aef90cd825d88cfc": {
      "model_module": "@jupyter-widgets/controls",
      "model_module_version": "1.4.0",
      "model_name": "HBoxModel",
      "state": {
       "children": [
        "IPY_MODEL_573408517c3f44faaad078a32c188f49",
        "IPY_MODEL_7b0a542611da45d79d1b01408dab91a5"
       ],
       "layout": "IPY_MODEL_cc24fca87d384182924aa9a0eae80bac"
      }
     },
     "240bc0f9dbcf442b82abdfda06a839ec": {
      "model_module": "@jupyter-widgets/base",
      "model_module_version": "1.1.0",
      "model_name": "LayoutModel",
      "state": {}
     },
     "242cd558244e4f7a9e73aea253e2a1d5": {
      "model_module": "@jupyter-widgets/base",
      "model_module_version": "1.1.0",
      "model_name": "LayoutModel",
      "state": {}
     },
     "24718fcc56624d6fb856414313b6f834": {
      "model_module": "@jupyter-widgets/base",
      "model_module_version": "1.1.0",
      "model_name": "LayoutModel",
      "state": {}
     },
     "24879c20b4fd453fbbe505530844c18a": {
      "model_module": "@jupyter-widgets/controls",
      "model_module_version": "1.4.0",
      "model_name": "HTMLModel",
      "state": {
       "layout": "IPY_MODEL_33f8d27184bb41adb9b4b90c33de2cbd",
       "style": "IPY_MODEL_2653f8da469f4715b79cb62dfa501eac",
       "value": "100% 10/10 [01:37&lt;00:00,  9.74s/it]"
      }
     },
     "250344ecb1f0438d9e8e531e06edf684": {
      "model_module": "@jupyter-widgets/controls",
      "model_module_version": "1.4.0",
      "model_name": "ProgressStyleModel",
      "state": {
       "description_width": "initial"
      }
     },
     "25609e7b6d484ae2a483cd3407106258": {
      "model_module": "@jupyter-widgets/controls",
      "model_module_version": "1.4.0",
      "model_name": "HBoxModel",
      "state": {
       "children": [
        "IPY_MODEL_d760d65a016f4d828cd4d5c5eebf84f1",
        "IPY_MODEL_9aa7f158b7d14d8bb62e6c8e940afbe1"
       ],
       "layout": "IPY_MODEL_6ed262ca00084de9888bad65c1727d56"
      }
     },
     "25a82d3600bf419290cdcc5299dc14a7": {
      "model_module": "@jupyter-widgets/controls",
      "model_module_version": "1.4.0",
      "model_name": "HBoxModel",
      "state": {
       "children": [
        "IPY_MODEL_f861000df70a4c4ba37ac554d0afbdec",
        "IPY_MODEL_10c57ad544474b1fafc1db0eeb0c068b"
       ],
       "layout": "IPY_MODEL_1332c75b6629460ebbd0e6d814b043a6"
      }
     },
     "261812ce02d7456088e57223637c40a5": {
      "model_module": "@jupyter-widgets/controls",
      "model_module_version": "1.4.0",
      "model_name": "IntProgressModel",
      "state": {
       "bar_style": "success",
       "description": "evaluating...",
       "layout": "IPY_MODEL_1bb076814d584a59bad97180bfe3bad5",
       "max": 26791,
       "style": "IPY_MODEL_2c74652f6196422fbce1e0f1d1db34ba",
       "value": 26791
      }
     },
     "2653f8da469f4715b79cb62dfa501eac": {
      "model_module": "@jupyter-widgets/controls",
      "model_module_version": "1.4.0",
      "model_name": "DescriptionStyleModel",
      "state": {
       "description_width": ""
      }
     },
     "27ae786aabb743538c9ea10f31cedf3d": {
      "model_module": "@jupyter-widgets/controls",
      "model_module_version": "1.4.0",
      "model_name": "ProgressStyleModel",
      "state": {
       "description_width": "initial"
      }
     },
     "27b3bf1f21924d42b09bc053e6dd2bff": {
      "model_module": "@jupyter-widgets/base",
      "model_module_version": "1.1.0",
      "model_name": "LayoutModel",
      "state": {}
     },
     "27fe6fc4c2e34ac1bf3437ff161329ca": {
      "model_module": "@jupyter-widgets/base",
      "model_module_version": "1.1.0",
      "model_name": "LayoutModel",
      "state": {}
     },
     "28038adeabc64233b43a28c8b727d460": {
      "model_module": "@jupyter-widgets/controls",
      "model_module_version": "1.4.0",
      "model_name": "HBoxModel",
      "state": {
       "children": [
        "IPY_MODEL_ad5b0cf963c042de93ba1324c35daef1",
        "IPY_MODEL_ac9c26aa7ead41a7a5c77494e86633b8"
       ],
       "layout": "IPY_MODEL_7bce62c913b148b7a9b1233e70d82590"
      }
     },
     "29030872e6ba4af1bb0ffe937d0949c0": {
      "model_module": "@jupyter-widgets/base",
      "model_module_version": "1.1.0",
      "model_name": "LayoutModel",
      "state": {}
     },
     "29854ebbe33443e5bbfbcf331c1e7dce": {
      "model_module": "@jupyter-widgets/base",
      "model_module_version": "1.1.0",
      "model_name": "LayoutModel",
      "state": {}
     },
     "2a73db2c136449ea9859acdcc7f5a40b": {
      "model_module": "@jupyter-widgets/controls",
      "model_module_version": "1.4.0",
      "model_name": "ProgressStyleModel",
      "state": {
       "description_width": "initial"
      }
     },
     "2b2c437648ab4fa7bdde57e798d963d3": {
      "model_module": "@jupyter-widgets/controls",
      "model_module_version": "1.4.0",
      "model_name": "HTMLModel",
      "state": {
       "layout": "IPY_MODEL_f4438dd3612e4d8d850e1bd179d5e42b",
       "style": "IPY_MODEL_11982b954ed14bb1ac52dfc9a838e13f",
       "value": "100% 26791/26791 [01:23&lt;00:00, 319.25it/s]"
      }
     },
     "2b490194c3054daa91dc9a96d5b0af83": {
      "model_module": "@jupyter-widgets/controls",
      "model_module_version": "1.4.0",
      "model_name": "DescriptionStyleModel",
      "state": {
       "description_width": ""
      }
     },
     "2b4fc724fd5a41fab56def30ac3bb279": {
      "model_module": "@jupyter-widgets/base",
      "model_module_version": "1.1.0",
      "model_name": "LayoutModel",
      "state": {}
     },
     "2b8b49a572d64cb3885798d983fbc478": {
      "model_module": "@jupyter-widgets/controls",
      "model_module_version": "1.4.0",
      "model_name": "ProgressStyleModel",
      "state": {
       "description_width": "initial"
      }
     },
     "2bb1735294c8488a897c57c9883b9116": {
      "model_module": "@jupyter-widgets/base",
      "model_module_version": "1.1.0",
      "model_name": "LayoutModel",
      "state": {}
     },
     "2c74652f6196422fbce1e0f1d1db34ba": {
      "model_module": "@jupyter-widgets/controls",
      "model_module_version": "1.4.0",
      "model_name": "ProgressStyleModel",
      "state": {
       "description_width": "initial"
      }
     },
     "2c9605840d134a2c84920979f3ad448b": {
      "model_module": "@jupyter-widgets/base",
      "model_module_version": "1.1.0",
      "model_name": "LayoutModel",
      "state": {}
     },
     "2c9dc4226e254891a712e2164fa690d0": {
      "model_module": "@jupyter-widgets/base",
      "model_module_version": "1.1.0",
      "model_name": "LayoutModel",
      "state": {}
     },
     "2d8a1fbb4835469da84487c2c0790dae": {
      "model_module": "@jupyter-widgets/controls",
      "model_module_version": "1.4.0",
      "model_name": "HTMLModel",
      "state": {
       "layout": "IPY_MODEL_87007542eee3400d9afde83f49f7408a",
       "style": "IPY_MODEL_3d165696238a4c2f9e439a6f54b1284e",
       "value": "100% 26791/26791 [01:27&lt;00:00, 306.94it/s]"
      }
     },
     "2df8cba0ef5047bd8515c74ec781f86b": {
      "model_module": "@jupyter-widgets/controls",
      "model_module_version": "1.4.0",
      "model_name": "IntProgressModel",
      "state": {
       "bar_style": "success",
       "description": "evaluating...",
       "layout": "IPY_MODEL_fc82084a47fc457eaba28ef1fb2d43d7",
       "max": 26791,
       "style": "IPY_MODEL_347a3a2020b84e90b11440ce9cdfc00e",
       "value": 26791
      }
     },
     "2e311fbf6f8742a4a8c6236b0a7114c9": {
      "model_module": "@jupyter-widgets/controls",
      "model_module_version": "1.4.0",
      "model_name": "IntProgressModel",
      "state": {
       "bar_style": "success",
       "description": "evaluating...",
       "layout": "IPY_MODEL_b99cc4de5b34449eade861fc2591a12b",
       "max": 26791,
       "style": "IPY_MODEL_ca28feccda774a8c89462b3fe3cffe2f",
       "value": 26791
      }
     },
     "2e870191d38c4a48a9748549b2aec2d8": {
      "model_module": "@jupyter-widgets/controls",
      "model_module_version": "1.4.0",
      "model_name": "HTMLModel",
      "state": {
       "layout": "IPY_MODEL_fc8cf324ba4f4c0397d191e033906331",
       "style": "IPY_MODEL_76af1781c9ba49989c8993d2bf322647",
       "value": "100% 26791/26791 [01:09&lt;00:00, 387.44it/s]"
      }
     },
     "2f0ec1a78c9f45bfa49dd498f17761af": {
      "model_module": "@jupyter-widgets/base",
      "model_module_version": "1.1.0",
      "model_name": "LayoutModel",
      "state": {}
     },
     "2f2c4138f20e4b8b9214a526b38dcbcd": {
      "model_module": "@jupyter-widgets/base",
      "model_module_version": "1.1.0",
      "model_name": "LayoutModel",
      "state": {}
     },
     "2f6c764adaa34bf8b085f9ea787210ed": {
      "model_module": "@jupyter-widgets/controls",
      "model_module_version": "1.4.0",
      "model_name": "HTMLModel",
      "state": {
       "layout": "IPY_MODEL_15d28cc94c664e7ab5779e2b95ebe1d3",
       "style": "IPY_MODEL_165fa6596962469788c6e8bbc6e2b74a",
       "value": "100% 20/20 [03:18&lt;00:00, 10.05s/it]"
      }
     },
     "2f6d8366e65c449fb9dce5028be99b1a": {
      "model_module": "@jupyter-widgets/controls",
      "model_module_version": "1.4.0",
      "model_name": "HTMLModel",
      "state": {
       "layout": "IPY_MODEL_6408cb578fca4579b02f43cd969d3b92",
       "style": "IPY_MODEL_f8a721321768483287a9c31d0212a4d2",
       "value": "100% 10/10 [01:42&lt;00:00,  9.85s/it]"
      }
     },
     "2f7c542f4d8e4c34b498b6a4f3a2ec93": {
      "model_module": "@jupyter-widgets/controls",
      "model_module_version": "1.4.0",
      "model_name": "DescriptionStyleModel",
      "state": {
       "description_width": ""
      }
     },
     "2fba773ac1c0461f9ae96f08397a27e0": {
      "model_module": "@jupyter-widgets/controls",
      "model_module_version": "1.4.0",
      "model_name": "HTMLModel",
      "state": {
       "layout": "IPY_MODEL_de3d8979fea148ccab481eca538fa567",
       "style": "IPY_MODEL_c97f9fdafbc9413fae2f48c5e157d012",
       "value": "100% 26791/26791 [03:54&lt;00:00, 121.46it/s]"
      }
     },
     "300cde09dec64d1caeaf15dc2d349383": {
      "model_module": "@jupyter-widgets/controls",
      "model_module_version": "1.4.0",
      "model_name": "HTMLModel",
      "state": {
       "layout": "IPY_MODEL_3fa72c06953542139d0ca1fa9ac02011",
       "style": "IPY_MODEL_67fd57273e0a4a91bd8daeb89b2b3984",
       "value": "100% 26791/26791 [01:27&lt;00:00, 307.44it/s]"
      }
     },
     "3056a0e50852471fb8dadf8c327b2192": {
      "model_module": "@jupyter-widgets/controls",
      "model_module_version": "1.4.0",
      "model_name": "DescriptionStyleModel",
      "state": {
       "description_width": ""
      }
     },
     "30891f9add0c40e4958164f3db936daa": {
      "model_module": "@jupyter-widgets/controls",
      "model_module_version": "1.4.0",
      "model_name": "HBoxModel",
      "state": {
       "children": [
        "IPY_MODEL_4494f6fd43564957911ddb864620e20f",
        "IPY_MODEL_d9d6f3f385004ecbad92958ff83cad78"
       ],
       "layout": "IPY_MODEL_0ffd0129a3e94555bbeb9f845b462c37"
      }
     },
     "30a69d7f503443818dfce50e5f4c4204": {
      "model_module": "@jupyter-widgets/controls",
      "model_module_version": "1.4.0",
      "model_name": "ProgressStyleModel",
      "state": {
       "description_width": "initial"
      }
     },
     "30aa4810b7014f3985261cce005f61b2": {
      "model_module": "@jupyter-widgets/controls",
      "model_module_version": "1.4.0",
      "model_name": "DescriptionStyleModel",
      "state": {
       "description_width": ""
      }
     },
     "3131724e0dff4e25bd65c3d0fb21a362": {
      "model_module": "@jupyter-widgets/controls",
      "model_module_version": "1.4.0",
      "model_name": "IntProgressModel",
      "state": {
       "description": "training...",
       "layout": "IPY_MODEL_7d6a45f3157141ef973eb80090a75d82",
       "max": 20,
       "style": "IPY_MODEL_9296c8d5ee6441d6ac92632e23828cd9",
       "value": 8
      }
     },
     "31b62c77ea234edcbf3efb7ef29e6b95": {
      "model_module": "@jupyter-widgets/controls",
      "model_module_version": "1.4.0",
      "model_name": "ProgressStyleModel",
      "state": {
       "description_width": "initial"
      }
     },
     "3216f5517dc348079106babdf7d67a3d": {
      "model_module": "@jupyter-widgets/controls",
      "model_module_version": "1.4.0",
      "model_name": "HBoxModel",
      "state": {
       "children": [
        "IPY_MODEL_0f91f4910821469891d3e7561004ab58",
        "IPY_MODEL_421f7ccb1abc4912821f91d292beaa65"
       ],
       "layout": "IPY_MODEL_ebc23a569db74efb8152c79fd7aee81d"
      }
     },
     "32a843010bb9494b8c5db59b5046cf5f": {
      "model_module": "@jupyter-widgets/controls",
      "model_module_version": "1.4.0",
      "model_name": "ProgressStyleModel",
      "state": {
       "description_width": "initial"
      }
     },
     "33663360c92e4aabb4b91800b72deab2": {
      "model_module": "@jupyter-widgets/controls",
      "model_module_version": "1.4.0",
      "model_name": "HBoxModel",
      "state": {
       "children": [
        "IPY_MODEL_53700001783e4b52934c27f47e183a59",
        "IPY_MODEL_b46dce891c1d4d919c99e7d7b91922cb"
       ],
       "layout": "IPY_MODEL_11d312988ede4d5eadc78d1bc899198a"
      }
     },
     "339289f9c7f540aaa3b806091f29cfbd": {
      "model_module": "@jupyter-widgets/controls",
      "model_module_version": "1.4.0",
      "model_name": "HTMLModel",
      "state": {
       "layout": "IPY_MODEL_5afab9a63b3348238a63c0280092b6a5",
       "style": "IPY_MODEL_0fd6a02525d54606ac4bbfc07a964860",
       "value": "100% 26791/26791 [01:12&lt;00:00, 369.49it/s]"
      }
     },
     "33f8d27184bb41adb9b4b90c33de2cbd": {
      "model_module": "@jupyter-widgets/base",
      "model_module_version": "1.1.0",
      "model_name": "LayoutModel",
      "state": {}
     },
     "3405ef91da2846ccb2d31b6612e77843": {
      "model_module": "@jupyter-widgets/controls",
      "model_module_version": "1.4.0",
      "model_name": "IntProgressModel",
      "state": {
       "bar_style": "success",
       "description": "training...",
       "layout": "IPY_MODEL_57670655d50a4fad9b35bcc87f9e0fe7",
       "max": 20,
       "style": "IPY_MODEL_593f702e276042d6ba177843adfdd352",
       "value": 20
      }
     },
     "340e369868464b34b31139e02e90999e": {
      "model_module": "@jupyter-widgets/base",
      "model_module_version": "1.1.0",
      "model_name": "LayoutModel",
      "state": {}
     },
     "347a3a2020b84e90b11440ce9cdfc00e": {
      "model_module": "@jupyter-widgets/controls",
      "model_module_version": "1.4.0",
      "model_name": "ProgressStyleModel",
      "state": {
       "description_width": "initial"
      }
     },
     "35b89243ba414738a73f4e9f89933656": {
      "model_module": "@jupyter-widgets/controls",
      "model_module_version": "1.4.0",
      "model_name": "ProgressStyleModel",
      "state": {
       "description_width": "initial"
      }
     },
     "367546556a7f4c7dba283b8a85af2b9b": {
      "model_module": "@jupyter-widgets/base",
      "model_module_version": "1.1.0",
      "model_name": "LayoutModel",
      "state": {}
     },
     "3696622a46144c69bb2ae8db6cb91dc0": {
      "model_module": "@jupyter-widgets/base",
      "model_module_version": "1.1.0",
      "model_name": "LayoutModel",
      "state": {}
     },
     "36ae8024f2fe4cb2b9cfdd8bf6b6a7eb": {
      "model_module": "@jupyter-widgets/controls",
      "model_module_version": "1.4.0",
      "model_name": "HTMLModel",
      "state": {
       "layout": "IPY_MODEL_27fe6fc4c2e34ac1bf3437ff161329ca",
       "style": "IPY_MODEL_eec81a8444244be9b2becf87a3d7f990",
       "value": "100% 26791/26791 [01:28&lt;00:00, 303.20it/s]"
      }
     },
     "36bd957ccee443a7bb82076f0c9a3b73": {
      "model_module": "@jupyter-widgets/base",
      "model_module_version": "1.1.0",
      "model_name": "LayoutModel",
      "state": {}
     },
     "36f32899cb61409a84f6e68b503cd13e": {
      "model_module": "@jupyter-widgets/base",
      "model_module_version": "1.1.0",
      "model_name": "LayoutModel",
      "state": {}
     },
     "36fd8b3b111b4a7da57da9a56554daf0": {
      "model_module": "@jupyter-widgets/base",
      "model_module_version": "1.1.0",
      "model_name": "LayoutModel",
      "state": {}
     },
     "3784ea1d70c94224b71f17a139b2f535": {
      "model_module": "@jupyter-widgets/controls",
      "model_module_version": "1.4.0",
      "model_name": "IntProgressModel",
      "state": {
       "bar_style": "success",
       "description": "evaluating...",
       "layout": "IPY_MODEL_674ceab3685842b4bfb36fce17e7f143",
       "max": 26791,
       "style": "IPY_MODEL_c659cf2b1c2e45d0b998d0f93ce0b33b",
       "value": 26791
      }
     },
     "387716d562cf417ebf4afbbf2e9857d6": {
      "model_module": "@jupyter-widgets/controls",
      "model_module_version": "1.4.0",
      "model_name": "HTMLModel",
      "state": {
       "layout": "IPY_MODEL_45b6cb33ddf34fdcab19ad9aa017ea61",
       "style": "IPY_MODEL_2b490194c3054daa91dc9a96d5b0af83",
       "value": "100% 26791/26791 [04:11&lt;00:00, 106.57it/s]"
      }
     },
     "3989e73bd6dd47898c9b4a94979db80d": {
      "model_module": "@jupyter-widgets/controls",
      "model_module_version": "1.4.0",
      "model_name": "HBoxModel",
      "state": {
       "children": [
        "IPY_MODEL_da40d3835f1c42fdb7eab4c2b7427e2b",
        "IPY_MODEL_dc6320806fe047d9a9d0bf36bf9fd382"
       ],
       "layout": "IPY_MODEL_d84047849e4943a5b1fbea9f10c0bc70"
      }
     },
     "3a65d6434ff34fc498ac381d06b087d6": {
      "model_module": "@jupyter-widgets/controls",
      "model_module_version": "1.4.0",
      "model_name": "HBoxModel",
      "state": {
       "children": [
        "IPY_MODEL_6caa24d4a4d6410cb80f7071e07187be",
        "IPY_MODEL_78588148535044148c6c0c8a2dfd84eb"
       ],
       "layout": "IPY_MODEL_9c3ef732a8094032ae7c86216d448d9a"
      }
     },
     "3b0e0cde9b044c91b02446a908b4070d": {
      "model_module": "@jupyter-widgets/base",
      "model_module_version": "1.1.0",
      "model_name": "LayoutModel",
      "state": {}
     },
     "3c3c9325ce0a48f4abbcc1e5de526d53": {
      "model_module": "@jupyter-widgets/base",
      "model_module_version": "1.1.0",
      "model_name": "LayoutModel",
      "state": {}
     },
     "3c7c4548497d472e8610ac0cef11a6af": {
      "model_module": "@jupyter-widgets/base",
      "model_module_version": "1.1.0",
      "model_name": "LayoutModel",
      "state": {}
     },
     "3c9f5695e5ac41db83432e34f4b4d675": {
      "model_module": "@jupyter-widgets/controls",
      "model_module_version": "1.4.0",
      "model_name": "IntProgressModel",
      "state": {
       "bar_style": "success",
       "description": "evaluating...",
       "layout": "IPY_MODEL_f9d9b671294546e1b9ebea260b92d1e8",
       "max": 26791,
       "style": "IPY_MODEL_069dfb3adfe3411c95b8500a81b6efc5",
       "value": 26791
      }
     },
     "3d13b77c09f343aab055ce9616618ace": {
      "model_module": "@jupyter-widgets/controls",
      "model_module_version": "1.4.0",
      "model_name": "DescriptionStyleModel",
      "state": {
       "description_width": ""
      }
     },
     "3d165696238a4c2f9e439a6f54b1284e": {
      "model_module": "@jupyter-widgets/controls",
      "model_module_version": "1.4.0",
      "model_name": "DescriptionStyleModel",
      "state": {
       "description_width": ""
      }
     },
     "3e25528f95d64c47b708901939cab471": {
      "model_module": "@jupyter-widgets/controls",
      "model_module_version": "1.4.0",
      "model_name": "DescriptionStyleModel",
      "state": {
       "description_width": ""
      }
     },
     "3e3701db4a634af19be9cd95d37472c3": {
      "model_module": "@jupyter-widgets/base",
      "model_module_version": "1.1.0",
      "model_name": "LayoutModel",
      "state": {}
     },
     "3e6b5ac07e1e4f92b305d29ad50cfb39": {
      "model_module": "@jupyter-widgets/controls",
      "model_module_version": "1.4.0",
      "model_name": "HBoxModel",
      "state": {
       "children": [
        "IPY_MODEL_d282133333944d86a4fd98e978bba022",
        "IPY_MODEL_bc449f937fb1443cbf5af4c4c006e6c6"
       ],
       "layout": "IPY_MODEL_1ad8bb46a142497ab39e905bb0ce4bad"
      }
     },
     "3fa5747bde20414d970f39d96cbcb3d9": {
      "model_module": "@jupyter-widgets/base",
      "model_module_version": "1.1.0",
      "model_name": "LayoutModel",
      "state": {}
     },
     "3fa72c06953542139d0ca1fa9ac02011": {
      "model_module": "@jupyter-widgets/base",
      "model_module_version": "1.1.0",
      "model_name": "LayoutModel",
      "state": {}
     },
     "3fc72ec87cda4aee81af7bde0c6a19c0": {
      "model_module": "@jupyter-widgets/controls",
      "model_module_version": "1.4.0",
      "model_name": "IntProgressModel",
      "state": {
       "bar_style": "success",
       "description": "evaluating...",
       "layout": "IPY_MODEL_630ae096d5b9471cb663609cf37942c6",
       "max": 26791,
       "style": "IPY_MODEL_f0240630fca74cc8b026d70ce80b3fdf",
       "value": 26791
      }
     },
     "3ff37e504fc24c009809c29ddfc7ec82": {
      "model_module": "@jupyter-widgets/controls",
      "model_module_version": "1.4.0",
      "model_name": "ProgressStyleModel",
      "state": {
       "description_width": "initial"
      }
     },
     "402dc3dcf97c4a1e868cdf5b6e8cce9c": {
      "model_module": "@jupyter-widgets/base",
      "model_module_version": "1.1.0",
      "model_name": "LayoutModel",
      "state": {}
     },
     "408234156922439cb61bc9a4ff5ccefe": {
      "model_module": "@jupyter-widgets/controls",
      "model_module_version": "1.4.0",
      "model_name": "ProgressStyleModel",
      "state": {
       "description_width": "initial"
      }
     },
     "41e02b6973254c6fbde22b35893415c0": {
      "model_module": "@jupyter-widgets/controls",
      "model_module_version": "1.4.0",
      "model_name": "IntProgressModel",
      "state": {
       "bar_style": "success",
       "description": "evaluating...",
       "layout": "IPY_MODEL_3b0e0cde9b044c91b02446a908b4070d",
       "max": 26791,
       "style": "IPY_MODEL_a0ffaf9623f840e4a43465f332f63406",
       "value": 26791
      }
     },
     "4207b96e8ed546a998d242fbd88fe880": {
      "model_module": "@jupyter-widgets/controls",
      "model_module_version": "1.4.0",
      "model_name": "ProgressStyleModel",
      "state": {
       "description_width": "initial"
      }
     },
     "4209e1dd4884417a8dc7d0bc2363fbf3": {
      "model_module": "@jupyter-widgets/controls",
      "model_module_version": "1.4.0",
      "model_name": "IntProgressModel",
      "state": {
       "bar_style": "success",
       "description": "evaluating...",
       "layout": "IPY_MODEL_af262ec4174e4cdd98ccbc91876865c4",
       "max": 26791,
       "style": "IPY_MODEL_dbe7dfa127d3410ea204ac20cdb6f461",
       "value": 26791
      }
     },
     "421f7ccb1abc4912821f91d292beaa65": {
      "model_module": "@jupyter-widgets/controls",
      "model_module_version": "1.4.0",
      "model_name": "HTMLModel",
      "state": {
       "layout": "IPY_MODEL_1c0b08678de748149ed0105aef86bf19",
       "style": "IPY_MODEL_63016d0c5c8f47afa36660bbfc58a494",
       "value": "100% 26791/26791 [01:08&lt;00:00, 393.60it/s]"
      }
     },
     "426ec416b3724057920e34028eb441d4": {
      "model_module": "@jupyter-widgets/base",
      "model_module_version": "1.1.0",
      "model_name": "LayoutModel",
      "state": {}
     },
     "4294aafb723c4b6ab3e709958e9b5b20": {
      "model_module": "@jupyter-widgets/controls",
      "model_module_version": "1.4.0",
      "model_name": "HBoxModel",
      "state": {
       "children": [
        "IPY_MODEL_792b2f28ec50442d9d37b92c3058413b",
        "IPY_MODEL_a295205d48e94e1684249a72a222fa2b"
       ],
       "layout": "IPY_MODEL_a4aceaa635db4e65b0a0e826f9eba75c"
      }
     },
     "42c6da3608364c4595faba1250d259d6": {
      "model_module": "@jupyter-widgets/controls",
      "model_module_version": "1.4.0",
      "model_name": "HBoxModel",
      "state": {
       "children": [
        "IPY_MODEL_4a9af1399160436b9da51ddbd978522e",
        "IPY_MODEL_76130153a40e4efa9593fc9be4302bf2"
       ],
       "layout": "IPY_MODEL_188fc72ef6144b7c9895bbaf3bd1180a"
      }
     },
     "432852233cef425ba18ebf8b957e35c0": {
      "model_module": "@jupyter-widgets/base",
      "model_module_version": "1.1.0",
      "model_name": "LayoutModel",
      "state": {}
     },
     "43ea3e35182c45b1b8184a11839555a7": {
      "model_module": "@jupyter-widgets/base",
      "model_module_version": "1.1.0",
      "model_name": "LayoutModel",
      "state": {}
     },
     "4469b816b7764dad8f84861cd3b393ae": {
      "model_module": "@jupyter-widgets/controls",
      "model_module_version": "1.4.0",
      "model_name": "HBoxModel",
      "state": {
       "children": [
        "IPY_MODEL_825b73e833594692b495847d6a12d729",
        "IPY_MODEL_c053d1cf9e464751a653dc42d170b254"
       ],
       "layout": "IPY_MODEL_5f59308c01e34d859f1d5f3a50a1db6c"
      }
     },
     "4494f6fd43564957911ddb864620e20f": {
      "model_module": "@jupyter-widgets/controls",
      "model_module_version": "1.4.0",
      "model_name": "IntProgressModel",
      "state": {
       "bar_style": "success",
       "description": "evaluating...",
       "layout": "IPY_MODEL_6227f3d2d5e54fefa3c09e27a0715e4b",
       "max": 26791,
       "style": "IPY_MODEL_b9763e4a566e479c90def38bb1e90bb2",
       "value": 26791
      }
     },
     "45b6cb33ddf34fdcab19ad9aa017ea61": {
      "model_module": "@jupyter-widgets/base",
      "model_module_version": "1.1.0",
      "model_name": "LayoutModel",
      "state": {}
     },
     "45c8d1c7736f4333b0a46948879963e2": {
      "model_module": "@jupyter-widgets/controls",
      "model_module_version": "1.4.0",
      "model_name": "DescriptionStyleModel",
      "state": {
       "description_width": ""
      }
     },
     "467d85a3c9be4662868777626cacbb26": {
      "model_module": "@jupyter-widgets/controls",
      "model_module_version": "1.4.0",
      "model_name": "HTMLModel",
      "state": {
       "layout": "IPY_MODEL_6c743ae5245a4d158708c12ff5c03792",
       "style": "IPY_MODEL_ac2da55a0ee5431c85b8180c30270611",
       "value": "100% 26791/26791 [04:06&lt;00:00, 108.63it/s]"
      }
     },
     "46f2cabc850b4728ab0d4e54fd3b04e1": {
      "model_module": "@jupyter-widgets/controls",
      "model_module_version": "1.4.0",
      "model_name": "HBoxModel",
      "state": {
       "children": [
        "IPY_MODEL_da48e630d4e3453194f825f9612f7b2a",
        "IPY_MODEL_2f6d8366e65c449fb9dce5028be99b1a"
       ],
       "layout": "IPY_MODEL_1a82ba5a795a49b39ab199ec9c69511b"
      }
     },
     "477436d0947d4189910f2c5e6f7e4cec": {
      "model_module": "@jupyter-widgets/base",
      "model_module_version": "1.1.0",
      "model_name": "LayoutModel",
      "state": {}
     },
     "47f9a9b81f1f4491b63ce1ea11997cbc": {
      "model_module": "@jupyter-widgets/controls",
      "model_module_version": "1.4.0",
      "model_name": "DescriptionStyleModel",
      "state": {
       "description_width": ""
      }
     },
     "48ce399002ff4fb3a80b11a31e1c2d96": {
      "model_module": "@jupyter-widgets/controls",
      "model_module_version": "1.4.0",
      "model_name": "HBoxModel",
      "state": {
       "children": [
        "IPY_MODEL_911101bb2f2e494dae9509b5d2fd8533",
        "IPY_MODEL_7e94af3d117547e4bb8ff6312c1b392e"
       ],
       "layout": "IPY_MODEL_9bf4828ec8ee44819823e53aec1e82e2"
      }
     },
     "48f64b35966c426389ab3830538c4047": {
      "model_module": "@jupyter-widgets/controls",
      "model_module_version": "1.4.0",
      "model_name": "ProgressStyleModel",
      "state": {
       "description_width": "initial"
      }
     },
     "48fe25e075fb4325bb23799d1b35191c": {
      "model_module": "@jupyter-widgets/controls",
      "model_module_version": "1.4.0",
      "model_name": "IntProgressModel",
      "state": {
       "bar_style": "success",
       "description": "evaluating...",
       "layout": "IPY_MODEL_748e35186ba5402aa210585c6528b249",
       "max": 26791,
       "style": "IPY_MODEL_63b863201e1d4179aef1d09bd7bf36a2",
       "value": 26791
      }
     },
     "492b05c4e80046979ca4ce4454c0b740": {
      "model_module": "@jupyter-widgets/base",
      "model_module_version": "1.1.0",
      "model_name": "LayoutModel",
      "state": {}
     },
     "4a91901e2f044675b7dfaa8b02b0a878": {
      "model_module": "@jupyter-widgets/base",
      "model_module_version": "1.1.0",
      "model_name": "LayoutModel",
      "state": {}
     },
     "4a9af1399160436b9da51ddbd978522e": {
      "model_module": "@jupyter-widgets/controls",
      "model_module_version": "1.4.0",
      "model_name": "IntProgressModel",
      "state": {
       "bar_style": "success",
       "description": "training...",
       "layout": "IPY_MODEL_0bcc2a2c5c7a4017a7bfa2e4af2507b5",
       "max": 10,
       "style": "IPY_MODEL_ee131a06320c4d4ca46a109de559b322",
       "value": 10
      }
     },
     "4ae294e5abfc44ce94cb43925938e8e7": {
      "model_module": "@jupyter-widgets/controls",
      "model_module_version": "1.4.0",
      "model_name": "HBoxModel",
      "state": {
       "children": [
        "IPY_MODEL_1620f30c13ea407ebeea1a112a928a93",
        "IPY_MODEL_0f90044c26f244f5b6c31fc82c7981c3"
       ],
       "layout": "IPY_MODEL_b04ae2a8907d4b359742fe2a2eadc591"
      }
     },
     "4afd6dd401e347e28ca71de2acf4e4da": {
      "model_module": "@jupyter-widgets/base",
      "model_module_version": "1.1.0",
      "model_name": "LayoutModel",
      "state": {}
     },
     "4b73ef821b2842b6b718556ec0faecc4": {
      "model_module": "@jupyter-widgets/controls",
      "model_module_version": "1.4.0",
      "model_name": "HTMLModel",
      "state": {
       "layout": "IPY_MODEL_5c76f4b5e08046679500feab8fdd59c5",
       "style": "IPY_MODEL_e661ee491d7d47b9a95114a4dc92edca",
       "value": "100% 15/15 [07:57&lt;00:00, 31.37s/it]"
      }
     },
     "4b83ce6ed2a34089b1d863438021c45f": {
      "model_module": "@jupyter-widgets/base",
      "model_module_version": "1.1.0",
      "model_name": "LayoutModel",
      "state": {}
     },
     "4b9b84829e884b91b0d05e9c6d32bb59": {
      "model_module": "@jupyter-widgets/base",
      "model_module_version": "1.1.0",
      "model_name": "LayoutModel",
      "state": {}
     },
     "4bb27e82423042d295e407c3d7637fde": {
      "model_module": "@jupyter-widgets/controls",
      "model_module_version": "1.4.0",
      "model_name": "HTMLModel",
      "state": {
       "layout": "IPY_MODEL_cce39decc6764483ba5b6ce132d94317",
       "style": "IPY_MODEL_80a9d7859012424a943b8674b7b42cd7",
       "value": "100% 26791/26791 [01:12&lt;00:00, 370.68it/s]"
      }
     },
     "4bdbb027b73948f594572d141d00005b": {
      "model_module": "@jupyter-widgets/base",
      "model_module_version": "1.1.0",
      "model_name": "LayoutModel",
      "state": {}
     },
     "4cb785383a15413bab9ab5033db8d779": {
      "model_module": "@jupyter-widgets/base",
      "model_module_version": "1.1.0",
      "model_name": "LayoutModel",
      "state": {}
     },
     "4d4dd657d20745c39164f7e8c56635fd": {
      "model_module": "@jupyter-widgets/controls",
      "model_module_version": "1.4.0",
      "model_name": "HBoxModel",
      "state": {
       "children": [
        "IPY_MODEL_646ae30f73234cf78bc99fe8903dca5a",
        "IPY_MODEL_86f5583d212b48e9b13383e5b40febfb"
       ],
       "layout": "IPY_MODEL_d669fd67243c4d73b8121d5d4d0a2bcb"
      }
     },
     "4d6d6e9b609d4912b568b4774e4b202d": {
      "model_module": "@jupyter-widgets/controls",
      "model_module_version": "1.4.0",
      "model_name": "DescriptionStyleModel",
      "state": {
       "description_width": ""
      }
     },
     "4d7e161267b34241b44a6773ff058c77": {
      "model_module": "@jupyter-widgets/base",
      "model_module_version": "1.1.0",
      "model_name": "LayoutModel",
      "state": {}
     },
     "4df393cbef244a778991ebb223addec4": {
      "model_module": "@jupyter-widgets/controls",
      "model_module_version": "1.4.0",
      "model_name": "HBoxModel",
      "state": {
       "children": [
        "IPY_MODEL_261812ce02d7456088e57223637c40a5",
        "IPY_MODEL_300cde09dec64d1caeaf15dc2d349383"
       ],
       "layout": "IPY_MODEL_2c9605840d134a2c84920979f3ad448b"
      }
     },
     "4e2d948957af45a782f723cfb58d35e0": {
      "model_module": "@jupyter-widgets/base",
      "model_module_version": "1.1.0",
      "model_name": "LayoutModel",
      "state": {}
     },
     "4ea4fb41119a4d399c46720af2f87123": {
      "model_module": "@jupyter-widgets/base",
      "model_module_version": "1.1.0",
      "model_name": "LayoutModel",
      "state": {}
     },
     "4f303172f3bf4b38a551da262c0bf70a": {
      "model_module": "@jupyter-widgets/controls",
      "model_module_version": "1.4.0",
      "model_name": "IntProgressModel",
      "state": {
       "bar_style": "success",
       "description": "training...",
       "layout": "IPY_MODEL_ed18ddfffb5c42ac8c2fa601bc9af7d9",
       "max": 10,
       "style": "IPY_MODEL_6aa352b66b7f4df6a580abcbd912601f",
       "value": 10
      }
     },
     "4f63b88580f14b0b9bac6c9aebfd4ba7": {
      "model_module": "@jupyter-widgets/base",
      "model_module_version": "1.1.0",
      "model_name": "LayoutModel",
      "state": {}
     },
     "4f8bda24b9c047a2849e78b94e586f38": {
      "model_module": "@jupyter-widgets/base",
      "model_module_version": "1.1.0",
      "model_name": "LayoutModel",
      "state": {}
     },
     "4fb69e6e04164a299c016afd23ad9974": {
      "model_module": "@jupyter-widgets/controls",
      "model_module_version": "1.4.0",
      "model_name": "HBoxModel",
      "state": {
       "children": [
        "IPY_MODEL_f790910274454cd9acc72308861c1362",
        "IPY_MODEL_9b0b7a8784da4b06a29c82df82dab9da"
       ],
       "layout": "IPY_MODEL_b34759617c424b0aaaed2634823a9567"
      }
     },
     "5032a59757314a75b06632846ad6a965": {
      "model_module": "@jupyter-widgets/controls",
      "model_module_version": "1.4.0",
      "model_name": "HBoxModel",
      "state": {
       "children": [
        "IPY_MODEL_ca63df7d5e5144ccb601cc74c342485c",
        "IPY_MODEL_07d47124fc4a4678b872ee15fac37247"
       ],
       "layout": "IPY_MODEL_81e55ade15e64219aa9d6aa9e586c8ec"
      }
     },
     "508cfeb33d874319ae6b8fcd17bf3e80": {
      "model_module": "@jupyter-widgets/controls",
      "model_module_version": "1.4.0",
      "model_name": "IntProgressModel",
      "state": {
       "bar_style": "success",
       "description": "evaluating...",
       "layout": "IPY_MODEL_74fe52a526ad44cca42b87f25f25b7e0",
       "max": 26791,
       "style": "IPY_MODEL_35b89243ba414738a73f4e9f89933656",
       "value": 26791
      }
     },
     "50ead28395b1489ea29b1ae93658ec28": {
      "model_module": "@jupyter-widgets/controls",
      "model_module_version": "1.4.0",
      "model_name": "HBoxModel",
      "state": {
       "children": [
        "IPY_MODEL_9927821a929644a8bbaf4f033e50bccb",
        "IPY_MODEL_94c65a6d463048849199555c1dcfb4b8"
       ],
       "layout": "IPY_MODEL_67f63b658ff149bfa03d841ac7999060"
      }
     },
     "522ce46f418143fcb879fdcfee73f9b5": {
      "model_module": "@jupyter-widgets/controls",
      "model_module_version": "1.4.0",
      "model_name": "HBoxModel",
      "state": {
       "children": [
        "IPY_MODEL_b129141cf5b44d80afc944f26356afff",
        "IPY_MODEL_0476348d3b394561b6dbd294f83b03ab"
       ],
       "layout": "IPY_MODEL_75cf086cad8d484ca9102fad719dfef5"
      }
     },
     "529e302af0ee459bb8d3b3e865334cd6": {
      "model_module": "@jupyter-widgets/controls",
      "model_module_version": "1.4.0",
      "model_name": "HBoxModel",
      "state": {
       "children": [
        "IPY_MODEL_fb7312e7dfa94a1ababf3149b05d89b5",
        "IPY_MODEL_207c00084d034eaeb398579fbebd7df1"
       ],
       "layout": "IPY_MODEL_2bb1735294c8488a897c57c9883b9116"
      }
     },
     "53700001783e4b52934c27f47e183a59": {
      "model_module": "@jupyter-widgets/controls",
      "model_module_version": "1.4.0",
      "model_name": "IntProgressModel",
      "state": {
       "bar_style": "success",
       "description": "evaluating...",
       "layout": "IPY_MODEL_67676a5baac3413ab7512d16ba381d25",
       "max": 26791,
       "style": "IPY_MODEL_ec21c34631cd42199a3bdcf02763b6a9",
       "value": 26791
      }
     },
     "54813af01f34457bb29749f418ba4034": {
      "model_module": "@jupyter-widgets/controls",
      "model_module_version": "1.4.0",
      "model_name": "DescriptionStyleModel",
      "state": {
       "description_width": ""
      }
     },
     "557c8b7b4c4c45db8ebfae290f4f2225": {
      "model_module": "@jupyter-widgets/base",
      "model_module_version": "1.1.0",
      "model_name": "LayoutModel",
      "state": {}
     },
     "5581637faa94443abb3d81ef7d01a1bb": {
      "model_module": "@jupyter-widgets/base",
      "model_module_version": "1.1.0",
      "model_name": "LayoutModel",
      "state": {}
     },
     "55d1c237c02a4de0ad658f34752ebb88": {
      "model_module": "@jupyter-widgets/controls",
      "model_module_version": "1.4.0",
      "model_name": "IntProgressModel",
      "state": {
       "bar_style": "success",
       "description": "evaluating...",
       "layout": "IPY_MODEL_7881998daac44d198479879b824308df",
       "max": 26791,
       "style": "IPY_MODEL_6bf4f0f33805429b8e55c2c81814f625",
       "value": 26791
      }
     },
     "5636d481bebf4ac4819a97053a9d32f9": {
      "model_module": "@jupyter-widgets/controls",
      "model_module_version": "1.4.0",
      "model_name": "DescriptionStyleModel",
      "state": {
       "description_width": ""
      }
     },
     "569025656c04401fb57c605086fe8042": {
      "model_module": "@jupyter-widgets/base",
      "model_module_version": "1.1.0",
      "model_name": "LayoutModel",
      "state": {}
     },
     "5696c76560404fb99ebf39ccb99123f0": {
      "model_module": "@jupyter-widgets/controls",
      "model_module_version": "1.4.0",
      "model_name": "HBoxModel",
      "state": {
       "children": [
        "IPY_MODEL_48fe25e075fb4325bb23799d1b35191c",
        "IPY_MODEL_2b2c437648ab4fa7bdde57e798d963d3"
       ],
       "layout": "IPY_MODEL_b57dbc93bbd24b988ea56696e4e53c9d"
      }
     },
     "56da23f131494102b4f68d42b4fa52e3": {
      "model_module": "@jupyter-widgets/base",
      "model_module_version": "1.1.0",
      "model_name": "LayoutModel",
      "state": {}
     },
     "573408517c3f44faaad078a32c188f49": {
      "model_module": "@jupyter-widgets/controls",
      "model_module_version": "1.4.0",
      "model_name": "IntProgressModel",
      "state": {
       "bar_style": "success",
       "description": "evaluating...",
       "layout": "IPY_MODEL_86ab6f6ca4f74110ad358773dd539950",
       "max": 26791,
       "style": "IPY_MODEL_0e28618dc5304808b15cc9ec219abbc1",
       "value": 26791
      }
     },
     "57670655d50a4fad9b35bcc87f9e0fe7": {
      "model_module": "@jupyter-widgets/base",
      "model_module_version": "1.1.0",
      "model_name": "LayoutModel",
      "state": {}
     },
     "57f88ee1f0b1481e8399715354f6bbf9": {
      "model_module": "@jupyter-widgets/base",
      "model_module_version": "1.1.0",
      "model_name": "LayoutModel",
      "state": {}
     },
     "581e60e8bcf64dc3aa8031dc73bef24f": {
      "model_module": "@jupyter-widgets/controls",
      "model_module_version": "1.4.0",
      "model_name": "HBoxModel",
      "state": {
       "children": [
        "IPY_MODEL_9d77eade8dc840a69cb3358895c29aee",
        "IPY_MODEL_9de4e8bef6024c7dbfbc6e63773d542f"
       ],
       "layout": "IPY_MODEL_e3749f61d8a4462bb5cb91f760a41863"
      }
     },
     "58478d4c6f9941ddbb98a78b95dae823": {
      "model_module": "@jupyter-widgets/controls",
      "model_module_version": "1.4.0",
      "model_name": "HBoxModel",
      "state": {
       "children": [
        "IPY_MODEL_508cfeb33d874319ae6b8fcd17bf3e80",
        "IPY_MODEL_387716d562cf417ebf4afbbf2e9857d6"
       ],
       "layout": "IPY_MODEL_4cb785383a15413bab9ab5033db8d779"
      }
     },
     "593f702e276042d6ba177843adfdd352": {
      "model_module": "@jupyter-widgets/controls",
      "model_module_version": "1.4.0",
      "model_name": "ProgressStyleModel",
      "state": {
       "description_width": "initial"
      }
     },
     "59b1bebe391248b1a7d1148b8298e46c": {
      "model_module": "@jupyter-widgets/base",
      "model_module_version": "1.1.0",
      "model_name": "LayoutModel",
      "state": {}
     },
     "5a9981450df44c05a5d03677454111f4": {
      "model_module": "@jupyter-widgets/base",
      "model_module_version": "1.1.0",
      "model_name": "LayoutModel",
      "state": {}
     },
     "5ae76fa928414884bbb1473e73fd3270": {
      "model_module": "@jupyter-widgets/controls",
      "model_module_version": "1.4.0",
      "model_name": "DescriptionStyleModel",
      "state": {
       "description_width": ""
      }
     },
     "5afab9a63b3348238a63c0280092b6a5": {
      "model_module": "@jupyter-widgets/base",
      "model_module_version": "1.1.0",
      "model_name": "LayoutModel",
      "state": {}
     },
     "5bcfb0cc211f4f5ab48a272e091dcd9d": {
      "model_module": "@jupyter-widgets/base",
      "model_module_version": "1.1.0",
      "model_name": "LayoutModel",
      "state": {}
     },
     "5c5928f85c7a435ab7b6263b359e90eb": {
      "model_module": "@jupyter-widgets/controls",
      "model_module_version": "1.4.0",
      "model_name": "DescriptionStyleModel",
      "state": {
       "description_width": ""
      }
     },
     "5c76f4b5e08046679500feab8fdd59c5": {
      "model_module": "@jupyter-widgets/base",
      "model_module_version": "1.1.0",
      "model_name": "LayoutModel",
      "state": {}
     },
     "5e362f734c794738add38f12c8c170b0": {
      "model_module": "@jupyter-widgets/controls",
      "model_module_version": "1.4.0",
      "model_name": "ProgressStyleModel",
      "state": {
       "description_width": "initial"
      }
     },
     "5e7fdbbf2f1e4556bb98a0aa915bce86": {
      "model_module": "@jupyter-widgets/base",
      "model_module_version": "1.1.0",
      "model_name": "LayoutModel",
      "state": {}
     },
     "5ea6980af0e14aa082a3d61aadcd0fa3": {
      "model_module": "@jupyter-widgets/controls",
      "model_module_version": "1.4.0",
      "model_name": "ProgressStyleModel",
      "state": {
       "description_width": "initial"
      }
     },
     "5f3150e2d8124459be6ab46ce42a7126": {
      "model_module": "@jupyter-widgets/base",
      "model_module_version": "1.1.0",
      "model_name": "LayoutModel",
      "state": {}
     },
     "5f59308c01e34d859f1d5f3a50a1db6c": {
      "model_module": "@jupyter-widgets/base",
      "model_module_version": "1.1.0",
      "model_name": "LayoutModel",
      "state": {}
     },
     "5f75c62c320b4f59a77246142c70591f": {
      "model_module": "@jupyter-widgets/base",
      "model_module_version": "1.1.0",
      "model_name": "LayoutModel",
      "state": {}
     },
     "5fe5572360ee411d857c33f55befff10": {
      "model_module": "@jupyter-widgets/base",
      "model_module_version": "1.1.0",
      "model_name": "LayoutModel",
      "state": {}
     },
     "606eece95e1142edad98dc66c224e993": {
      "model_module": "@jupyter-widgets/controls",
      "model_module_version": "1.4.0",
      "model_name": "HTMLModel",
      "state": {
       "layout": "IPY_MODEL_083a4fbdff1e430cb2871a469d1e2bbd",
       "style": "IPY_MODEL_97a37bf419e64739beb5d07d408253aa",
       "value": "100% 20/20 [03:13&lt;00:00,  9.43s/it]"
      }
     },
     "606f779105a443489c6ca15aaa29a935": {
      "model_module": "@jupyter-widgets/controls",
      "model_module_version": "1.4.0",
      "model_name": "DescriptionStyleModel",
      "state": {
       "description_width": ""
      }
     },
     "61955b57788b4a228c8ededa9fc87095": {
      "model_module": "@jupyter-widgets/controls",
      "model_module_version": "1.4.0",
      "model_name": "ProgressStyleModel",
      "state": {
       "description_width": "initial"
      }
     },
     "6227f3d2d5e54fefa3c09e27a0715e4b": {
      "model_module": "@jupyter-widgets/base",
      "model_module_version": "1.1.0",
      "model_name": "LayoutModel",
      "state": {}
     },
     "62df280b53a14f9aa5a7a067d06d393e": {
      "model_module": "@jupyter-widgets/controls",
      "model_module_version": "1.4.0",
      "model_name": "HTMLModel",
      "state": {
       "layout": "IPY_MODEL_11b5a43ec19b426f8758c4f29c26c68d",
       "style": "IPY_MODEL_1894eeb81a45428b9ef7f3080ca4581e",
       "value": "100% 26791/26791 [01:26&lt;00:00, 314.07it/s]"
      }
     },
     "62fcd233ee824634a8df1fdd234141e8": {
      "model_module": "@jupyter-widgets/base",
      "model_module_version": "1.1.0",
      "model_name": "LayoutModel",
      "state": {}
     },
     "63016d0c5c8f47afa36660bbfc58a494": {
      "model_module": "@jupyter-widgets/controls",
      "model_module_version": "1.4.0",
      "model_name": "DescriptionStyleModel",
      "state": {
       "description_width": ""
      }
     },
     "630ae096d5b9471cb663609cf37942c6": {
      "model_module": "@jupyter-widgets/base",
      "model_module_version": "1.1.0",
      "model_name": "LayoutModel",
      "state": {}
     },
     "636676d1e1f74b0280713e8c9907f7a8": {
      "model_module": "@jupyter-widgets/controls",
      "model_module_version": "1.4.0",
      "model_name": "ProgressStyleModel",
      "state": {
       "description_width": "initial"
      }
     },
     "637c3afdf0344a23ad8724cab5ac89a2": {
      "model_module": "@jupyter-widgets/base",
      "model_module_version": "1.1.0",
      "model_name": "LayoutModel",
      "state": {}
     },
     "63b863201e1d4179aef1d09bd7bf36a2": {
      "model_module": "@jupyter-widgets/controls",
      "model_module_version": "1.4.0",
      "model_name": "ProgressStyleModel",
      "state": {
       "description_width": "initial"
      }
     },
     "6408cb578fca4579b02f43cd969d3b92": {
      "model_module": "@jupyter-widgets/base",
      "model_module_version": "1.1.0",
      "model_name": "LayoutModel",
      "state": {}
     },
     "6453163384624c38a5daa832a6cba570": {
      "model_module": "@jupyter-widgets/controls",
      "model_module_version": "1.4.0",
      "model_name": "DescriptionStyleModel",
      "state": {
       "description_width": ""
      }
     },
     "6467247be3b6438b8e9c74e3c55ccf52": {
      "model_module": "@jupyter-widgets/controls",
      "model_module_version": "1.4.0",
      "model_name": "IntProgressModel",
      "state": {
       "bar_style": "success",
       "description": "training...",
       "layout": "IPY_MODEL_d8a7f2caf3c540d184e5958ffafe1806",
       "max": 10,
       "style": "IPY_MODEL_636676d1e1f74b0280713e8c9907f7a8",
       "value": 10
      }
     },
     "646ae30f73234cf78bc99fe8903dca5a": {
      "model_module": "@jupyter-widgets/controls",
      "model_module_version": "1.4.0",
      "model_name": "IntProgressModel",
      "state": {
       "bar_style": "success",
       "description": "evaluating...",
       "layout": "IPY_MODEL_1fecbe122fc341069ec9ada37057c991",
       "max": 26791,
       "style": "IPY_MODEL_fed56fbec5904d189a8755cf446fd4e1",
       "value": 26791
      }
     },
     "6477b2a3649c4658ab773a101bfea2c9": {
      "model_module": "@jupyter-widgets/base",
      "model_module_version": "1.1.0",
      "model_name": "LayoutModel",
      "state": {}
     },
     "6583d1a2d0e049138971b3ff07df975d": {
      "model_module": "@jupyter-widgets/controls",
      "model_module_version": "1.4.0",
      "model_name": "IntProgressModel",
      "state": {
       "bar_style": "success",
       "description": "evaluating...",
       "layout": "IPY_MODEL_fd13fba9217746f8b8e51ca5013bf416",
       "max": 26791,
       "style": "IPY_MODEL_1afc84a3f0194d33a1996ca5afe4d9c6",
       "value": 26791
      }
     },
     "65aa9628e1a74fa1be438a3870d1c57a": {
      "model_module": "@jupyter-widgets/controls",
      "model_module_version": "1.4.0",
      "model_name": "DescriptionStyleModel",
      "state": {
       "description_width": ""
      }
     },
     "65b4eb4f8bc643f6ab34c83d96a7d9f8": {
      "model_module": "@jupyter-widgets/controls",
      "model_module_version": "1.4.0",
      "model_name": "IntProgressModel",
      "state": {
       "bar_style": "success",
       "description": "training...",
       "layout": "IPY_MODEL_6d1725e6e22e4b78bb7ff54c721f6506",
       "max": 10,
       "style": "IPY_MODEL_d7c58060f2214bd087ec369e86e82d6b",
       "value": 10
      }
     },
     "65e0a4a19aad425faadb38e7e85c1c61": {
      "model_module": "@jupyter-widgets/controls",
      "model_module_version": "1.4.0",
      "model_name": "HBoxModel",
      "state": {
       "children": [
        "IPY_MODEL_c7f9c41399794db58772608d14eb0a53",
        "IPY_MODEL_1246524539e543e89c086e7a4e0568ab"
       ],
       "layout": "IPY_MODEL_36fd8b3b111b4a7da57da9a56554daf0"
      }
     },
     "65eda585c3f24880ade7b194587d0f6c": {
      "model_module": "@jupyter-widgets/controls",
      "model_module_version": "1.4.0",
      "model_name": "HTMLModel",
      "state": {
       "layout": "IPY_MODEL_ede777eda8f14365b2a82511251a9525",
       "style": "IPY_MODEL_30aa4810b7014f3985261cce005f61b2",
       "value": "100% 10/10 [01:38&lt;00:00,  9.85s/it]"
      }
     },
     "674ceab3685842b4bfb36fce17e7f143": {
      "model_module": "@jupyter-widgets/base",
      "model_module_version": "1.1.0",
      "model_name": "LayoutModel",
      "state": {}
     },
     "67676a5baac3413ab7512d16ba381d25": {
      "model_module": "@jupyter-widgets/base",
      "model_module_version": "1.1.0",
      "model_name": "LayoutModel",
      "state": {}
     },
     "67bf702982c243da9921e6e17187333a": {
      "model_module": "@jupyter-widgets/controls",
      "model_module_version": "1.4.0",
      "model_name": "ProgressStyleModel",
      "state": {
       "description_width": "initial"
      }
     },
     "67f63b658ff149bfa03d841ac7999060": {
      "model_module": "@jupyter-widgets/base",
      "model_module_version": "1.1.0",
      "model_name": "LayoutModel",
      "state": {}
     },
     "67fd57273e0a4a91bd8daeb89b2b3984": {
      "model_module": "@jupyter-widgets/controls",
      "model_module_version": "1.4.0",
      "model_name": "DescriptionStyleModel",
      "state": {
       "description_width": ""
      }
     },
     "68408646fbb448c48ffa307efb64a14f": {
      "model_module": "@jupyter-widgets/controls",
      "model_module_version": "1.4.0",
      "model_name": "HTMLModel",
      "state": {
       "layout": "IPY_MODEL_8d4dad0f7b6c46f9b61c5df9a0f958ee",
       "style": "IPY_MODEL_df2474f6fbd144d5a178e018d06e6ebc",
       "value": "100% 26791/26791 [01:30&lt;00:00, 296.14it/s]"
      }
     },
     "68abec05704644ed9f1048c3ff364eab": {
      "model_module": "@jupyter-widgets/controls",
      "model_module_version": "1.4.0",
      "model_name": "ProgressStyleModel",
      "state": {
       "description_width": "initial"
      }
     },
     "6aa352b66b7f4df6a580abcbd912601f": {
      "model_module": "@jupyter-widgets/controls",
      "model_module_version": "1.4.0",
      "model_name": "ProgressStyleModel",
      "state": {
       "description_width": "initial"
      }
     },
     "6bf4f0f33805429b8e55c2c81814f625": {
      "model_module": "@jupyter-widgets/controls",
      "model_module_version": "1.4.0",
      "model_name": "ProgressStyleModel",
      "state": {
       "description_width": "initial"
      }
     },
     "6c743ae5245a4d158708c12ff5c03792": {
      "model_module": "@jupyter-widgets/base",
      "model_module_version": "1.1.0",
      "model_name": "LayoutModel",
      "state": {}
     },
     "6c93b4b4e1e146dab3aabea7be6e7a37": {
      "model_module": "@jupyter-widgets/base",
      "model_module_version": "1.1.0",
      "model_name": "LayoutModel",
      "state": {}
     },
     "6c9821c3fbac49b7bef052e9762debe1": {
      "model_module": "@jupyter-widgets/controls",
      "model_module_version": "1.4.0",
      "model_name": "DescriptionStyleModel",
      "state": {
       "description_width": ""
      }
     },
     "6caa24d4a4d6410cb80f7071e07187be": {
      "model_module": "@jupyter-widgets/controls",
      "model_module_version": "1.4.0",
      "model_name": "IntProgressModel",
      "state": {
       "bar_style": "success",
       "description": "evaluating...",
       "layout": "IPY_MODEL_59b1bebe391248b1a7d1148b8298e46c",
       "max": 26791,
       "style": "IPY_MODEL_173f3dee56eb4a319a83dde539c1687f",
       "value": 26791
      }
     },
     "6d1725e6e22e4b78bb7ff54c721f6506": {
      "model_module": "@jupyter-widgets/base",
      "model_module_version": "1.1.0",
      "model_name": "LayoutModel",
      "state": {}
     },
     "6dc83af74e0742b39036756e41ffa74d": {
      "model_module": "@jupyter-widgets/controls",
      "model_module_version": "1.4.0",
      "model_name": "HTMLModel",
      "state": {
       "layout": "IPY_MODEL_e0ebc977e8e1422b95ca5faa10118b77",
       "style": "IPY_MODEL_a03ddbe23df1418ba3f7e258ad4cc661",
       "value": "100% 20/20 [03:09&lt;00:00,  9.45s/it]"
      }
     },
     "6e506facc46a4573a4ce79326acb0f24": {
      "model_module": "@jupyter-widgets/base",
      "model_module_version": "1.1.0",
      "model_name": "LayoutModel",
      "state": {}
     },
     "6e924e34c89b4b4587e465073ab0532e": {
      "model_module": "@jupyter-widgets/controls",
      "model_module_version": "1.4.0",
      "model_name": "DescriptionStyleModel",
      "state": {
       "description_width": ""
      }
     },
     "6eb742c25f21459ab1958e0dae375c21": {
      "model_module": "@jupyter-widgets/controls",
      "model_module_version": "1.4.0",
      "model_name": "IntProgressModel",
      "state": {
       "bar_style": "success",
       "description": "evaluating...",
       "layout": "IPY_MODEL_20109af604d745babf039f37e144bc01",
       "max": 26791,
       "style": "IPY_MODEL_32a843010bb9494b8c5db59b5046cf5f",
       "value": 26791
      }
     },
     "6ed262ca00084de9888bad65c1727d56": {
      "model_module": "@jupyter-widgets/base",
      "model_module_version": "1.1.0",
      "model_name": "LayoutModel",
      "state": {}
     },
     "6ee30173392048fb8dcc5945287ea0ec": {
      "model_module": "@jupyter-widgets/controls",
      "model_module_version": "1.4.0",
      "model_name": "ProgressStyleModel",
      "state": {
       "description_width": "initial"
      }
     },
     "6ef433064f544b908809699e27116cfd": {
      "model_module": "@jupyter-widgets/base",
      "model_module_version": "1.1.0",
      "model_name": "LayoutModel",
      "state": {}
     },
     "6f067b57fe5d4ba393f74435012e3c28": {
      "model_module": "@jupyter-widgets/base",
      "model_module_version": "1.1.0",
      "model_name": "LayoutModel",
      "state": {}
     },
     "6f8db9c18ddf4ca5871657e9b0d5f88d": {
      "model_module": "@jupyter-widgets/controls",
      "model_module_version": "1.4.0",
      "model_name": "IntProgressModel",
      "state": {
       "bar_style": "success",
       "description": "training...",
       "layout": "IPY_MODEL_c8513987d3ce443aabf4ab8746391346",
       "max": 10,
       "style": "IPY_MODEL_ec0fee766b1d46c0b573b7de4a02b742",
       "value": 10
      }
     },
     "6fdc51482512477584726e9e5f85236e": {
      "model_module": "@jupyter-widgets/base",
      "model_module_version": "1.1.0",
      "model_name": "LayoutModel",
      "state": {}
     },
     "70e3e396b2a24067b15db33d36e8a4d7": {
      "model_module": "@jupyter-widgets/controls",
      "model_module_version": "1.4.0",
      "model_name": "DescriptionStyleModel",
      "state": {
       "description_width": ""
      }
     },
     "721f262b0f904bc09a7ba5f3dd89b0af": {
      "model_module": "@jupyter-widgets/base",
      "model_module_version": "1.1.0",
      "model_name": "LayoutModel",
      "state": {}
     },
     "725870a261574869bdd4f788b721dc1d": {
      "model_module": "@jupyter-widgets/controls",
      "model_module_version": "1.4.0",
      "model_name": "IntProgressModel",
      "state": {
       "bar_style": "success",
       "description": "evaluating...",
       "layout": "IPY_MODEL_a8d6c1b5cd9f4812a92e7b32fcb50495",
       "max": 26791,
       "style": "IPY_MODEL_8c027c82d30748dca813b9885424db6a",
       "value": 26791
      }
     },
     "731957123fd34ac79cb61ec873d9451b": {
      "model_module": "@jupyter-widgets/base",
      "model_module_version": "1.1.0",
      "model_name": "LayoutModel",
      "state": {}
     },
     "73f26647871e406cb7fe38f2f852d47d": {
      "model_module": "@jupyter-widgets/controls",
      "model_module_version": "1.4.0",
      "model_name": "HTMLModel",
      "state": {
       "layout": "IPY_MODEL_ccf97c9fb64d4d88847419201a52fbb9",
       "style": "IPY_MODEL_c6141c4526f6467db0f9f1b328eddd0f",
       "value": "100% 10/10 [01:37&lt;00:00,  9.79s/it]"
      }
     },
     "748e35186ba5402aa210585c6528b249": {
      "model_module": "@jupyter-widgets/base",
      "model_module_version": "1.1.0",
      "model_name": "LayoutModel",
      "state": {}
     },
     "74fe52a526ad44cca42b87f25f25b7e0": {
      "model_module": "@jupyter-widgets/base",
      "model_module_version": "1.1.0",
      "model_name": "LayoutModel",
      "state": {}
     },
     "75cf086cad8d484ca9102fad719dfef5": {
      "model_module": "@jupyter-widgets/base",
      "model_module_version": "1.1.0",
      "model_name": "LayoutModel",
      "state": {}
     },
     "76130153a40e4efa9593fc9be4302bf2": {
      "model_module": "@jupyter-widgets/controls",
      "model_module_version": "1.4.0",
      "model_name": "HTMLModel",
      "state": {
       "layout": "IPY_MODEL_cc4ebf954bc64d589af3e576ec5bd0f6",
       "style": "IPY_MODEL_f1cccc2c431c49febc5fb388d41d1586",
       "value": "100% 10/10 [01:29&lt;00:00,  9.03s/it]"
      }
     },
     "76af1781c9ba49989c8993d2bf322647": {
      "model_module": "@jupyter-widgets/controls",
      "model_module_version": "1.4.0",
      "model_name": "DescriptionStyleModel",
      "state": {
       "description_width": ""
      }
     },
     "76e35b2dd3af417da53e879f5b07959f": {
      "model_module": "@jupyter-widgets/base",
      "model_module_version": "1.1.0",
      "model_name": "LayoutModel",
      "state": {}
     },
     "77aa5ed7852b425eae279c6b09d84db3": {
      "model_module": "@jupyter-widgets/controls",
      "model_module_version": "1.4.0",
      "model_name": "HTMLModel",
      "state": {
       "layout": "IPY_MODEL_1d467921376f456a951d6883bf3844a2",
       "style": "IPY_MODEL_f23030d7b1af411c94dc19bdd961276c",
       "value": "100% 10/10 [01:54&lt;00:00, 11.41s/it]"
      }
     },
     "77cff7b205244fcfb8199a876481d6e2": {
      "model_module": "@jupyter-widgets/controls",
      "model_module_version": "1.4.0",
      "model_name": "DescriptionStyleModel",
      "state": {
       "description_width": ""
      }
     },
     "78588148535044148c6c0c8a2dfd84eb": {
      "model_module": "@jupyter-widgets/controls",
      "model_module_version": "1.4.0",
      "model_name": "HTMLModel",
      "state": {
       "layout": "IPY_MODEL_22cef56b06234859ab5dc47d41968757",
       "style": "IPY_MODEL_02a30905747e4504b149a3c016bbaf9d",
       "value": "100% 26791/26791 [03:58&lt;00:00, 112.20it/s]"
      }
     },
     "7881998daac44d198479879b824308df": {
      "model_module": "@jupyter-widgets/base",
      "model_module_version": "1.1.0",
      "model_name": "LayoutModel",
      "state": {}
     },
     "792b2f28ec50442d9d37b92c3058413b": {
      "model_module": "@jupyter-widgets/controls",
      "model_module_version": "1.4.0",
      "model_name": "IntProgressModel",
      "state": {
       "bar_style": "success",
       "description": "evaluating...",
       "layout": "IPY_MODEL_92308f3087034f35a301fce3db041005",
       "max": 26791,
       "style": "IPY_MODEL_ce7a8d6b3a874dd3aff368b6b09d2e60",
       "value": 26791
      }
     },
     "793c1388ff4d40fcb9ea97687fa83e09": {
      "model_module": "@jupyter-widgets/controls",
      "model_module_version": "1.4.0",
      "model_name": "IntProgressModel",
      "state": {
       "bar_style": "success",
       "description": "evaluating...",
       "layout": "IPY_MODEL_5f3150e2d8124459be6ab46ce42a7126",
       "max": 26791,
       "style": "IPY_MODEL_31b62c77ea234edcbf3efb7ef29e6b95",
       "value": 26791
      }
     },
     "799c4b19bdf84fa693813be3309a59e3": {
      "model_module": "@jupyter-widgets/controls",
      "model_module_version": "1.4.0",
      "model_name": "ProgressStyleModel",
      "state": {
       "description_width": "initial"
      }
     },
     "7a1f395eaa1e46e9945436f36957af86": {
      "model_module": "@jupyter-widgets/base",
      "model_module_version": "1.1.0",
      "model_name": "LayoutModel",
      "state": {}
     },
     "7a7c85f44b0a4c5f9cacb35cd7310dc9": {
      "model_module": "@jupyter-widgets/controls",
      "model_module_version": "1.4.0",
      "model_name": "HBoxModel",
      "state": {
       "children": [
        "IPY_MODEL_d3ee68e8627e4152b918b6d066d314d5",
        "IPY_MODEL_b1ceca998cf94638bc5f77f93c3d2775"
       ],
       "layout": "IPY_MODEL_ef1cc680c4f943a8a9c5622216c001b6"
      }
     },
     "7b0a542611da45d79d1b01408dab91a5": {
      "model_module": "@jupyter-widgets/controls",
      "model_module_version": "1.4.0",
      "model_name": "HTMLModel",
      "state": {
       "layout": "IPY_MODEL_29854ebbe33443e5bbfbcf331c1e7dce",
       "style": "IPY_MODEL_9eba071cf30948f6a81637e2337b9ef6",
       "value": "100% 26791/26791 [01:10&lt;00:00, 380.01it/s]"
      }
     },
     "7b1724564f684f3abaf938f86035db37": {
      "model_module": "@jupyter-widgets/base",
      "model_module_version": "1.1.0",
      "model_name": "LayoutModel",
      "state": {}
     },
     "7bce62c913b148b7a9b1233e70d82590": {
      "model_module": "@jupyter-widgets/base",
      "model_module_version": "1.1.0",
      "model_name": "LayoutModel",
      "state": {}
     },
     "7d6a45f3157141ef973eb80090a75d82": {
      "model_module": "@jupyter-widgets/base",
      "model_module_version": "1.1.0",
      "model_name": "LayoutModel",
      "state": {}
     },
     "7dca342a646842d6a07fdd4a40c00502": {
      "model_module": "@jupyter-widgets/controls",
      "model_module_version": "1.4.0",
      "model_name": "HBoxModel",
      "state": {
       "children": [
        "IPY_MODEL_e9e111c7e2114ffb9cd21113c8636be2",
        "IPY_MODEL_7fffd0d3096f40c7b430d1898e91d13e"
       ],
       "layout": "IPY_MODEL_4f63b88580f14b0b9bac6c9aebfd4ba7"
      }
     },
     "7e140baba1614fc7bcd7023dc49c1bf8": {
      "model_module": "@jupyter-widgets/controls",
      "model_module_version": "1.4.0",
      "model_name": "DescriptionStyleModel",
      "state": {
       "description_width": ""
      }
     },
     "7e94af3d117547e4bb8ff6312c1b392e": {
      "model_module": "@jupyter-widgets/controls",
      "model_module_version": "1.4.0",
      "model_name": "HTMLModel",
      "state": {
       "layout": "IPY_MODEL_8251e1b058b34991817f60e8d0409912",
       "style": "IPY_MODEL_7e140baba1614fc7bcd7023dc49c1bf8",
       "value": "100% 26791/26791 [01:04&lt;00:00, 417.70it/s]"
      }
     },
     "7eaa317b2de3431d9f0045522f52f279": {
      "model_module": "@jupyter-widgets/base",
      "model_module_version": "1.1.0",
      "model_name": "LayoutModel",
      "state": {}
     },
     "7eb8b6ed9c28481c8a87e9005d95587d": {
      "model_module": "@jupyter-widgets/controls",
      "model_module_version": "1.4.0",
      "model_name": "ProgressStyleModel",
      "state": {
       "description_width": "initial"
      }
     },
     "7eba69f4355f4ba1a469a489bc97744a": {
      "model_module": "@jupyter-widgets/base",
      "model_module_version": "1.1.0",
      "model_name": "LayoutModel",
      "state": {}
     },
     "7eed092c22ff44858d3ffee83aae727a": {
      "model_module": "@jupyter-widgets/controls",
      "model_module_version": "1.4.0",
      "model_name": "HBoxModel",
      "state": {
       "children": [
        "IPY_MODEL_eef7a422ebbb419d9b7f186c24fa5338",
        "IPY_MODEL_22427a13a88e4142b168e004de437dde"
       ],
       "layout": "IPY_MODEL_cf990f3d5a3649bd924a852932d63494"
      }
     },
     "7f181f32c8ff45bcabf6d13743726490": {
      "model_module": "@jupyter-widgets/controls",
      "model_module_version": "1.4.0",
      "model_name": "HBoxModel",
      "state": {
       "children": [
        "IPY_MODEL_af6047c124754e18b32761a7465b7d89",
        "IPY_MODEL_62df280b53a14f9aa5a7a067d06d393e"
       ],
       "layout": "IPY_MODEL_861585808a9846859975a673a29917d4"
      }
     },
     "7f4c39a7ff154ce1898b8e91dd3927f0": {
      "model_module": "@jupyter-widgets/controls",
      "model_module_version": "1.4.0",
      "model_name": "HBoxModel",
      "state": {
       "children": [
        "IPY_MODEL_2df8cba0ef5047bd8515c74ec781f86b",
        "IPY_MODEL_2e870191d38c4a48a9748549b2aec2d8"
       ],
       "layout": "IPY_MODEL_11049d30e9524d9286092fa64bf3e7a3"
      }
     },
     "7f7b8328a84941ccbced20627dd28bc9": {
      "model_module": "@jupyter-widgets/base",
      "model_module_version": "1.1.0",
      "model_name": "LayoutModel",
      "state": {}
     },
     "7fffd0d3096f40c7b430d1898e91d13e": {
      "model_module": "@jupyter-widgets/controls",
      "model_module_version": "1.4.0",
      "model_name": "HTMLModel",
      "state": {
       "layout": "IPY_MODEL_a41c14cb21024636a6a87d304f98081d",
       "style": "IPY_MODEL_92353706a10d4ae5b4fa4fe9905ef08e",
       "value": "100% 26791/26791 [01:12&lt;00:00, 367.24it/s]"
      }
     },
     "8067b90086884ea2b295b8d9c76a3f56": {
      "model_module": "@jupyter-widgets/base",
      "model_module_version": "1.1.0",
      "model_name": "LayoutModel",
      "state": {}
     },
     "80a9d7859012424a943b8674b7b42cd7": {
      "model_module": "@jupyter-widgets/controls",
      "model_module_version": "1.4.0",
      "model_name": "DescriptionStyleModel",
      "state": {
       "description_width": ""
      }
     },
     "81bab518c507498e8642424b110c316c": {
      "model_module": "@jupyter-widgets/controls",
      "model_module_version": "1.4.0",
      "model_name": "IntProgressModel",
      "state": {
       "bar_style": "success",
       "description": "evaluating...",
       "layout": "IPY_MODEL_8bf0e663cba242d29c2c146b3adc443d",
       "max": 26791,
       "style": "IPY_MODEL_ff3f821f3e4441b98637658b7608e52e",
       "value": 26791
      }
     },
     "81dc0f1b53084451b3f7cec61093e38b": {
      "model_module": "@jupyter-widgets/controls",
      "model_module_version": "1.4.0",
      "model_name": "HBoxModel",
      "state": {
       "children": [
        "IPY_MODEL_725870a261574869bdd4f788b721dc1d",
        "IPY_MODEL_9ea88aafc3854c0ca412883aef9bc488"
       ],
       "layout": "IPY_MODEL_85ecfeb66e4645d78f8bf36513f54070"
      }
     },
     "81e55ade15e64219aa9d6aa9e586c8ec": {
      "model_module": "@jupyter-widgets/base",
      "model_module_version": "1.1.0",
      "model_name": "LayoutModel",
      "state": {}
     },
     "81ef35b1ab64431287a0c380de2abb8f": {
      "model_module": "@jupyter-widgets/controls",
      "model_module_version": "1.4.0",
      "model_name": "ProgressStyleModel",
      "state": {
       "description_width": "initial"
      }
     },
     "8251e1b058b34991817f60e8d0409912": {
      "model_module": "@jupyter-widgets/base",
      "model_module_version": "1.1.0",
      "model_name": "LayoutModel",
      "state": {}
     },
     "825b73e833594692b495847d6a12d729": {
      "model_module": "@jupyter-widgets/controls",
      "model_module_version": "1.4.0",
      "model_name": "IntProgressModel",
      "state": {
       "bar_style": "success",
       "description": "evaluating...",
       "layout": "IPY_MODEL_242cd558244e4f7a9e73aea253e2a1d5",
       "max": 26791,
       "style": "IPY_MODEL_f4d81a0fd49d408f9ef2ed73eb910c96",
       "value": 26791
      }
     },
     "8374a3c9d35641e79b7e54f5e98b9240": {
      "model_module": "@jupyter-widgets/base",
      "model_module_version": "1.1.0",
      "model_name": "LayoutModel",
      "state": {}
     },
     "84de30f078eb4a98963f3f567fb4849f": {
      "model_module": "@jupyter-widgets/controls",
      "model_module_version": "1.4.0",
      "model_name": "HTMLModel",
      "state": {
       "layout": "IPY_MODEL_db4d298626f04cd2a604570e7244154d",
       "style": "IPY_MODEL_6e924e34c89b4b4587e465073ab0532e",
       "value": "100% 26791/26791 [01:10&lt;00:00, 380.98it/s]"
      }
     },
     "8582e0a60fe0457391a04a2160590f6f": {
      "model_module": "@jupyter-widgets/base",
      "model_module_version": "1.1.0",
      "model_name": "LayoutModel",
      "state": {}
     },
     "85ecfeb66e4645d78f8bf36513f54070": {
      "model_module": "@jupyter-widgets/base",
      "model_module_version": "1.1.0",
      "model_name": "LayoutModel",
      "state": {}
     },
     "861585808a9846859975a673a29917d4": {
      "model_module": "@jupyter-widgets/base",
      "model_module_version": "1.1.0",
      "model_name": "LayoutModel",
      "state": {}
     },
     "862795fff04b40db984ed9368cb44351": {
      "model_module": "@jupyter-widgets/controls",
      "model_module_version": "1.4.0",
      "model_name": "HBoxModel",
      "state": {
       "children": [
        "IPY_MODEL_d3eefc32383347db8948da7d6d066874",
        "IPY_MODEL_22edd32cfd4e44559f1cdc91676f6bbd"
       ],
       "layout": "IPY_MODEL_e910ce784b13484c855e9f19b8ab6b90"
      }
     },
     "865a6f45e44a4d75ac9fdd94b7a715e2": {
      "model_module": "@jupyter-widgets/controls",
      "model_module_version": "1.4.0",
      "model_name": "DescriptionStyleModel",
      "state": {
       "description_width": ""
      }
     },
     "86ab6f6ca4f74110ad358773dd539950": {
      "model_module": "@jupyter-widgets/base",
      "model_module_version": "1.1.0",
      "model_name": "LayoutModel",
      "state": {}
     },
     "86ca3a7d3b3f4165842216c8796bd859": {
      "model_module": "@jupyter-widgets/base",
      "model_module_version": "1.1.0",
      "model_name": "LayoutModel",
      "state": {}
     },
     "86f5583d212b48e9b13383e5b40febfb": {
      "model_module": "@jupyter-widgets/controls",
      "model_module_version": "1.4.0",
      "model_name": "HTMLModel",
      "state": {
       "layout": "IPY_MODEL_de5bcc4e2fba4e18a761a4fde7d2e9a7",
       "style": "IPY_MODEL_3056a0e50852471fb8dadf8c327b2192",
       "value": "100% 26791/26791 [01:03&lt;00:00, 421.99it/s]"
      }
     },
     "87007542eee3400d9afde83f49f7408a": {
      "model_module": "@jupyter-widgets/base",
      "model_module_version": "1.1.0",
      "model_name": "LayoutModel",
      "state": {}
     },
     "87345294df3c458a96aab0730cd61c45": {
      "model_module": "@jupyter-widgets/base",
      "model_module_version": "1.1.0",
      "model_name": "LayoutModel",
      "state": {}
     },
     "874ffb070f2848b4b42b9e611fe78ffb": {
      "model_module": "@jupyter-widgets/base",
      "model_module_version": "1.1.0",
      "model_name": "LayoutModel",
      "state": {}
     },
     "87d7c053e1374a53acabda05f4b4428c": {
      "model_module": "@jupyter-widgets/base",
      "model_module_version": "1.1.0",
      "model_name": "LayoutModel",
      "state": {}
     },
     "8899a6a4f22d496a80afd6c36ce3927b": {
      "model_module": "@jupyter-widgets/base",
      "model_module_version": "1.1.0",
      "model_name": "LayoutModel",
      "state": {}
     },
     "89542224bb534a088018c49cbd3d3628": {
      "model_module": "@jupyter-widgets/controls",
      "model_module_version": "1.4.0",
      "model_name": "HBoxModel",
      "state": {
       "children": [
        "IPY_MODEL_6eb742c25f21459ab1958e0dae375c21",
        "IPY_MODEL_17dc2e1ba132416d91e6a646d81843a2"
       ],
       "layout": "IPY_MODEL_24718fcc56624d6fb856414313b6f834"
      }
     },
     "897070e37ff845dab20c28c273270ede": {
      "model_module": "@jupyter-widgets/controls",
      "model_module_version": "1.4.0",
      "model_name": "HBoxModel",
      "state": {
       "children": [
        "IPY_MODEL_b5fc77a65ddd4ba984e05d7002cf9c73",
        "IPY_MODEL_73f26647871e406cb7fe38f2f852d47d"
       ],
       "layout": "IPY_MODEL_477436d0947d4189910f2c5e6f7e4cec"
      }
     },
     "89cc0780ba274fec820c5ae20e3f24f6": {
      "model_module": "@jupyter-widgets/controls",
      "model_module_version": "1.4.0",
      "model_name": "HBoxModel",
      "state": {
       "children": [
        "IPY_MODEL_09a05e47fa134a39a53335f369ba9576",
        "IPY_MODEL_b4cf6ac74192445497f33261037cc61c"
       ],
       "layout": "IPY_MODEL_557c8b7b4c4c45db8ebfae290f4f2225"
      }
     },
     "8a3c508f49a44d6bae3b3fc1f902f7b5": {
      "model_module": "@jupyter-widgets/base",
      "model_module_version": "1.1.0",
      "model_name": "LayoutModel",
      "state": {}
     },
     "8bf0e663cba242d29c2c146b3adc443d": {
      "model_module": "@jupyter-widgets/base",
      "model_module_version": "1.1.0",
      "model_name": "LayoutModel",
      "state": {}
     },
     "8c027c82d30748dca813b9885424db6a": {
      "model_module": "@jupyter-widgets/controls",
      "model_module_version": "1.4.0",
      "model_name": "ProgressStyleModel",
      "state": {
       "description_width": "initial"
      }
     },
     "8c16f17636ca4b2fab47ffca976ab4f4": {
      "model_module": "@jupyter-widgets/base",
      "model_module_version": "1.1.0",
      "model_name": "LayoutModel",
      "state": {}
     },
     "8c5dfcd9e5294d99bb2781b41c5f7d57": {
      "model_module": "@jupyter-widgets/controls",
      "model_module_version": "1.4.0",
      "model_name": "HTMLModel",
      "state": {
       "layout": "IPY_MODEL_3c3c9325ce0a48f4abbcc1e5de526d53",
       "style": "IPY_MODEL_05eb89ed28344f959892e6a27b28971e",
       "value": "100% 10/10 [01:39&lt;00:00, 10.03s/it]"
      }
     },
     "8cc8f0ed642a450c937c31fa5fbec3b6": {
      "model_module": "@jupyter-widgets/base",
      "model_module_version": "1.1.0",
      "model_name": "LayoutModel",
      "state": {}
     },
     "8d4dad0f7b6c46f9b61c5df9a0f958ee": {
      "model_module": "@jupyter-widgets/base",
      "model_module_version": "1.1.0",
      "model_name": "LayoutModel",
      "state": {}
     },
     "8df583d033ee45bc993c76dccb586bfe": {
      "model_module": "@jupyter-widgets/base",
      "model_module_version": "1.1.0",
      "model_name": "LayoutModel",
      "state": {}
     },
     "8e5ff118a627454f99162984d1e2f6fb": {
      "model_module": "@jupyter-widgets/controls",
      "model_module_version": "1.4.0",
      "model_name": "HBoxModel",
      "state": {
       "children": [
        "IPY_MODEL_177cab1296f443daa3ffc4624b6b5476",
        "IPY_MODEL_10e95f2557744fc6b6d630a62828e482"
       ],
       "layout": "IPY_MODEL_4d7e161267b34241b44a6773ff058c77"
      }
     },
     "8f9d8bc2b6ff496e8071b2819648c58e": {
      "model_module": "@jupyter-widgets/base",
      "model_module_version": "1.1.0",
      "model_name": "LayoutModel",
      "state": {}
     },
     "8fa46610597841baa5e9f89558c31669": {
      "model_module": "@jupyter-widgets/controls",
      "model_module_version": "1.4.0",
      "model_name": "HTMLModel",
      "state": {
       "layout": "IPY_MODEL_e1123627ffe34645abdaf11fbe92c3dc",
       "style": "IPY_MODEL_be15e1d5bf4b48d3a5acb9f880c546ab",
       "value": "100% 10/10 [01:45&lt;00:00, 10.19s/it]"
      }
     },
     "910d4d08daf74aceaf7d04d3cc88d275": {
      "model_module": "@jupyter-widgets/base",
      "model_module_version": "1.1.0",
      "model_name": "LayoutModel",
      "state": {}
     },
     "911101bb2f2e494dae9509b5d2fd8533": {
      "model_module": "@jupyter-widgets/controls",
      "model_module_version": "1.4.0",
      "model_name": "IntProgressModel",
      "state": {
       "bar_style": "success",
       "description": "evaluating...",
       "layout": "IPY_MODEL_d414925e0db14fb293e007a976e817da",
       "max": 26791,
       "style": "IPY_MODEL_d8a1a06a9c674141a0b3ef4b053411de",
       "value": 26791
      }
     },
     "9199bb277d9940efa2dbf3c819e9d7bf": {
      "model_module": "@jupyter-widgets/controls",
      "model_module_version": "1.4.0",
      "model_name": "HBoxModel",
      "state": {
       "children": [
        "IPY_MODEL_b13eaf1a3f994b32a16cf9e1d62f8115",
        "IPY_MODEL_d5c3e2be2e1942138b2a78543a6e0a8c"
       ],
       "layout": "IPY_MODEL_ef7d5aa9357d4ba2baa0ecdf74bc99ab"
      }
     },
     "92308f3087034f35a301fce3db041005": {
      "model_module": "@jupyter-widgets/base",
      "model_module_version": "1.1.0",
      "model_name": "LayoutModel",
      "state": {}
     },
     "92353706a10d4ae5b4fa4fe9905ef08e": {
      "model_module": "@jupyter-widgets/controls",
      "model_module_version": "1.4.0",
      "model_name": "DescriptionStyleModel",
      "state": {
       "description_width": ""
      }
     },
     "9296c8d5ee6441d6ac92632e23828cd9": {
      "model_module": "@jupyter-widgets/controls",
      "model_module_version": "1.4.0",
      "model_name": "ProgressStyleModel",
      "state": {
       "description_width": "initial"
      }
     },
     "93b8fef8628d43058f3a10b4d3dfdf25": {
      "model_module": "@jupyter-widgets/controls",
      "model_module_version": "1.4.0",
      "model_name": "DescriptionStyleModel",
      "state": {
       "description_width": ""
      }
     },
     "93ecccffe9f24944907899cebee2da36": {
      "model_module": "@jupyter-widgets/controls",
      "model_module_version": "1.4.0",
      "model_name": "HBoxModel",
      "state": {
       "children": [
        "IPY_MODEL_ab679c668a98440eb35d6648d48d6338",
        "IPY_MODEL_12dfe71c3a574d3cbd9394d0f871d60f"
       ],
       "layout": "IPY_MODEL_c1eb6b1d5486452f9c1134ca34638248"
      }
     },
     "93ee08ab38a94e06941f562eb115e45a": {
      "model_module": "@jupyter-widgets/controls",
      "model_module_version": "1.4.0",
      "model_name": "IntProgressModel",
      "state": {
       "bar_style": "success",
       "description": "evaluating...",
       "layout": "IPY_MODEL_c15152da45e14cdb9a5d3ff6500d49f8",
       "max": 26791,
       "style": "IPY_MODEL_5e362f734c794738add38f12c8c170b0",
       "value": 26791
      }
     },
     "94587f59923442b6b60c99df62060694": {
      "model_module": "@jupyter-widgets/controls",
      "model_module_version": "1.4.0",
      "model_name": "DescriptionStyleModel",
      "state": {
       "description_width": ""
      }
     },
     "94c65a6d463048849199555c1dcfb4b8": {
      "model_module": "@jupyter-widgets/controls",
      "model_module_version": "1.4.0",
      "model_name": "HTMLModel",
      "state": {
       "layout": "IPY_MODEL_034e02f9498f44c698d72596c9d665fc",
       "style": "IPY_MODEL_de0f023fc0a44ace9336783cc900e0f2",
       "value": "100% 10/10 [02:29&lt;00:00, 15.23s/it]"
      }
     },
     "94f4bd679a6544569bd52988abd03d37": {
      "model_module": "@jupyter-widgets/base",
      "model_module_version": "1.1.0",
      "model_name": "LayoutModel",
      "state": {}
     },
     "963b69b6ae9c4ac89c6feed28e84553f": {
      "model_module": "@jupyter-widgets/controls",
      "model_module_version": "1.4.0",
      "model_name": "HBoxModel",
      "state": {
       "children": [
        "IPY_MODEL_980e1ff18d0b4e45ae072fb89066f846",
        "IPY_MODEL_0ce1a8d6e1724ecebbbd355a556dcd42"
       ],
       "layout": "IPY_MODEL_b84fb775df2c4332b92c75fd40bcddb7"
      }
     },
     "97a37bf419e64739beb5d07d408253aa": {
      "model_module": "@jupyter-widgets/controls",
      "model_module_version": "1.4.0",
      "model_name": "DescriptionStyleModel",
      "state": {
       "description_width": ""
      }
     },
     "980e1ff18d0b4e45ae072fb89066f846": {
      "model_module": "@jupyter-widgets/controls",
      "model_module_version": "1.4.0",
      "model_name": "IntProgressModel",
      "state": {
       "bar_style": "success",
       "description": "evaluating...",
       "layout": "IPY_MODEL_5581637faa94443abb3d81ef7d01a1bb",
       "max": 26791,
       "style": "IPY_MODEL_5ea6980af0e14aa082a3d61aadcd0fa3",
       "value": 26791
      }
     },
     "981da7b392e846b49d0d09527b0cafb4": {
      "model_module": "@jupyter-widgets/controls",
      "model_module_version": "1.4.0",
      "model_name": "DescriptionStyleModel",
      "state": {
       "description_width": ""
      }
     },
     "9834723080284da59b9df6a7e21efaf6": {
      "model_module": "@jupyter-widgets/base",
      "model_module_version": "1.1.0",
      "model_name": "LayoutModel",
      "state": {}
     },
     "9927821a929644a8bbaf4f033e50bccb": {
      "model_module": "@jupyter-widgets/controls",
      "model_module_version": "1.4.0",
      "model_name": "IntProgressModel",
      "state": {
       "bar_style": "success",
       "description": "training...",
       "layout": "IPY_MODEL_8c16f17636ca4b2fab47ffca976ab4f4",
       "max": 10,
       "style": "IPY_MODEL_1086c91304fe462ca2e3fdf964324f61",
       "value": 10
      }
     },
     "9a1b1e3d8ca74d819b7c24b4b74d75e6": {
      "model_module": "@jupyter-widgets/controls",
      "model_module_version": "1.4.0",
      "model_name": "IntProgressModel",
      "state": {
       "bar_style": "success",
       "description": "training...",
       "layout": "IPY_MODEL_c00ab841bc404790a7171509767d9254",
       "max": 10,
       "style": "IPY_MODEL_68abec05704644ed9f1048c3ff364eab",
       "value": 10
      }
     },
     "9aa7f158b7d14d8bb62e6c8e940afbe1": {
      "model_module": "@jupyter-widgets/controls",
      "model_module_version": "1.4.0",
      "model_name": "HTMLModel",
      "state": {
       "layout": "IPY_MODEL_b373685c81f442c29fd699add7f2192e",
       "style": "IPY_MODEL_6c9821c3fbac49b7bef052e9762debe1",
       "value": "100% 10/10 [01:41&lt;00:00,  9.99s/it]"
      }
     },
     "9b0b7a8784da4b06a29c82df82dab9da": {
      "model_module": "@jupyter-widgets/controls",
      "model_module_version": "1.4.0",
      "model_name": "HTMLModel",
      "state": {
       "layout": "IPY_MODEL_da1b9c5ab9fc48258d5572a8414a3b9e",
       "style": "IPY_MODEL_e43d71858d2c41debf527d2a31a91cd8",
       "value": "100% 26791/26791 [01:10&lt;00:00, 379.51it/s]"
      }
     },
     "9b98cce91f73453e90ea718ca7142fb4": {
      "model_module": "@jupyter-widgets/base",
      "model_module_version": "1.1.0",
      "model_name": "LayoutModel",
      "state": {}
     },
     "9bdd06445c854772a7755a908f7092d9": {
      "model_module": "@jupyter-widgets/controls",
      "model_module_version": "1.4.0",
      "model_name": "IntProgressModel",
      "state": {
       "bar_style": "success",
       "description": "evaluating...",
       "layout": "IPY_MODEL_8582e0a60fe0457391a04a2160590f6f",
       "max": 26791,
       "style": "IPY_MODEL_c840e2fb1951474cae564fc2cd8da43b",
       "value": 26791
      }
     },
     "9bf4828ec8ee44819823e53aec1e82e2": {
      "model_module": "@jupyter-widgets/base",
      "model_module_version": "1.1.0",
      "model_name": "LayoutModel",
      "state": {}
     },
     "9c0502cc211947e8a3bb5ea33085e9e3": {
      "model_module": "@jupyter-widgets/base",
      "model_module_version": "1.1.0",
      "model_name": "LayoutModel",
      "state": {}
     },
     "9c3ef732a8094032ae7c86216d448d9a": {
      "model_module": "@jupyter-widgets/base",
      "model_module_version": "1.1.0",
      "model_name": "LayoutModel",
      "state": {}
     },
     "9cef528261c041aaaa5bcb7a543b870c": {
      "model_module": "@jupyter-widgets/controls",
      "model_module_version": "1.4.0",
      "model_name": "ProgressStyleModel",
      "state": {
       "description_width": "initial"
      }
     },
     "9cfd542b1f52466fbb44d6c225ff1f5b": {
      "model_module": "@jupyter-widgets/controls",
      "model_module_version": "1.4.0",
      "model_name": "HBoxModel",
      "state": {
       "children": [
        "IPY_MODEL_aa10a88c2c0c4e92ad36eeea4c9ee727",
        "IPY_MODEL_24879c20b4fd453fbbe505530844c18a"
       ],
       "layout": "IPY_MODEL_367546556a7f4c7dba283b8a85af2b9b"
      }
     },
     "9d77eade8dc840a69cb3358895c29aee": {
      "model_module": "@jupyter-widgets/controls",
      "model_module_version": "1.4.0",
      "model_name": "IntProgressModel",
      "state": {
       "bar_style": "success",
       "description": "evaluating...",
       "layout": "IPY_MODEL_5f75c62c320b4f59a77246142c70591f",
       "max": 26791,
       "style": "IPY_MODEL_9e642f14eaca4166be75d5d263d1f9c5",
       "value": 26791
      }
     },
     "9de4e8bef6024c7dbfbc6e63773d542f": {
      "model_module": "@jupyter-widgets/controls",
      "model_module_version": "1.4.0",
      "model_name": "HTMLModel",
      "state": {
       "layout": "IPY_MODEL_ec3ababbb3c946d4b884d3809a8acc97",
       "style": "IPY_MODEL_bbc8f9af636242e7bb8a326bf405f6fd",
       "value": "100% 26791/26791 [01:33&lt;00:00, 287.05it/s]"
      }
     },
     "9de6002318c347e988b12575b9a5e1d7": {
      "model_module": "@jupyter-widgets/controls",
      "model_module_version": "1.4.0",
      "model_name": "DescriptionStyleModel",
      "state": {
       "description_width": ""
      }
     },
     "9e3417d040f64dd08141d7111a56171e": {
      "model_module": "@jupyter-widgets/base",
      "model_module_version": "1.1.0",
      "model_name": "LayoutModel",
      "state": {}
     },
     "9e4d0dc5505b495e88f88ee2b3436b88": {
      "model_module": "@jupyter-widgets/controls",
      "model_module_version": "1.4.0",
      "model_name": "DescriptionStyleModel",
      "state": {
       "description_width": ""
      }
     },
     "9e58ddd5432f4da181f72736bddaffe4": {
      "model_module": "@jupyter-widgets/base",
      "model_module_version": "1.1.0",
      "model_name": "LayoutModel",
      "state": {}
     },
     "9e5eabec67474aba8dfc9adf78c81681": {
      "model_module": "@jupyter-widgets/controls",
      "model_module_version": "1.4.0",
      "model_name": "HBoxModel",
      "state": {
       "children": [
        "IPY_MODEL_3784ea1d70c94224b71f17a139b2f535",
        "IPY_MODEL_179f8b3c6ebe46f282f52969d1c250b8"
       ],
       "layout": "IPY_MODEL_569025656c04401fb57c605086fe8042"
      }
     },
     "9e642f14eaca4166be75d5d263d1f9c5": {
      "model_module": "@jupyter-widgets/controls",
      "model_module_version": "1.4.0",
      "model_name": "ProgressStyleModel",
      "state": {
       "description_width": "initial"
      }
     },
     "9ea88aafc3854c0ca412883aef9bc488": {
      "model_module": "@jupyter-widgets/controls",
      "model_module_version": "1.4.0",
      "model_name": "HTMLModel",
      "state": {
       "layout": "IPY_MODEL_bc9c44eff60c49f4b389d3bf274ba41e",
       "style": "IPY_MODEL_1465dd100e3d49b7ba235fdfd74f3aee",
       "value": "100% 26791/26791 [01:08&lt;00:00, 388.80it/s]"
      }
     },
     "9eba071cf30948f6a81637e2337b9ef6": {
      "model_module": "@jupyter-widgets/controls",
      "model_module_version": "1.4.0",
      "model_name": "DescriptionStyleModel",
      "state": {
       "description_width": ""
      }
     },
     "9ffcc22f83784e849c107fff900e2991": {
      "model_module": "@jupyter-widgets/controls",
      "model_module_version": "1.4.0",
      "model_name": "ProgressStyleModel",
      "state": {
       "description_width": "initial"
      }
     },
     "a03ddbe23df1418ba3f7e258ad4cc661": {
      "model_module": "@jupyter-widgets/controls",
      "model_module_version": "1.4.0",
      "model_name": "DescriptionStyleModel",
      "state": {
       "description_width": ""
      }
     },
     "a094bbbf517b49d9b476714264e5da5f": {
      "model_module": "@jupyter-widgets/base",
      "model_module_version": "1.1.0",
      "model_name": "LayoutModel",
      "state": {}
     },
     "a0ffaf9623f840e4a43465f332f63406": {
      "model_module": "@jupyter-widgets/controls",
      "model_module_version": "1.4.0",
      "model_name": "ProgressStyleModel",
      "state": {
       "description_width": "initial"
      }
     },
     "a295205d48e94e1684249a72a222fa2b": {
      "model_module": "@jupyter-widgets/controls",
      "model_module_version": "1.4.0",
      "model_name": "HTMLModel",
      "state": {
       "layout": "IPY_MODEL_be4e6fd322f648ba8a55813929fe11f1",
       "style": "IPY_MODEL_2f7c542f4d8e4c34b498b6a4f3a2ec93",
       "value": "100% 26791/26791 [01:27&lt;00:00, 307.25it/s]"
      }
     },
     "a2a3ddbf1a3f485cb9d8f4bea01ce227": {
      "model_module": "@jupyter-widgets/controls",
      "model_module_version": "1.4.0",
      "model_name": "DescriptionStyleModel",
      "state": {
       "description_width": ""
      }
     },
     "a2c5489f6cf44e54b196063db5e66619": {
      "model_module": "@jupyter-widgets/controls",
      "model_module_version": "1.4.0",
      "model_name": "DescriptionStyleModel",
      "state": {
       "description_width": ""
      }
     },
     "a41c14cb21024636a6a87d304f98081d": {
      "model_module": "@jupyter-widgets/base",
      "model_module_version": "1.1.0",
      "model_name": "LayoutModel",
      "state": {}
     },
     "a42f8c0a4275416d9eb554ca90615a10": {
      "model_module": "@jupyter-widgets/controls",
      "model_module_version": "1.4.0",
      "model_name": "HBoxModel",
      "state": {
       "children": [
        "IPY_MODEL_55d1c237c02a4de0ad658f34752ebb88",
        "IPY_MODEL_b2067d51f2984cee867df60324cc4d42"
       ],
       "layout": "IPY_MODEL_e823cccdacab4a4abbf768675f218335"
      }
     },
     "a4aceaa635db4e65b0a0e826f9eba75c": {
      "model_module": "@jupyter-widgets/base",
      "model_module_version": "1.1.0",
      "model_name": "LayoutModel",
      "state": {}
     },
     "a50f24de539f467ab69e3e913fd362ac": {
      "model_module": "@jupyter-widgets/controls",
      "model_module_version": "1.4.0",
      "model_name": "IntProgressModel",
      "state": {
       "bar_style": "success",
       "description": "evaluating...",
       "layout": "IPY_MODEL_cbd2048e765d47fca21bcf646db675be",
       "max": 26791,
       "style": "IPY_MODEL_e598bb59d36c43d1950cd48911a1507a",
       "value": 26791
      }
     },
     "a66126a8ed8347d7b03ddb97d838f98f": {
      "model_module": "@jupyter-widgets/controls",
      "model_module_version": "1.4.0",
      "model_name": "HTMLModel",
      "state": {
       "layout": "IPY_MODEL_426ec416b3724057920e34028eb441d4",
       "style": "IPY_MODEL_3d13b77c09f343aab055ce9616618ace",
       "value": "100% 26791/26791 [01:05&lt;00:00, 408.75it/s]"
      }
     },
     "a6b38b2751f742ab86dfa161263450f7": {
      "model_module": "@jupyter-widgets/base",
      "model_module_version": "1.1.0",
      "model_name": "LayoutModel",
      "state": {}
     },
     "a71aaeac622c4a97ab0536a15a562e00": {
      "model_module": "@jupyter-widgets/base",
      "model_module_version": "1.1.0",
      "model_name": "LayoutModel",
      "state": {}
     },
     "a74297263ae547739180122f1ddc2068": {
      "model_module": "@jupyter-widgets/base",
      "model_module_version": "1.1.0",
      "model_name": "LayoutModel",
      "state": {}
     },
     "a771a6e1513643cf9282f7e82d51321b": {
      "model_module": "@jupyter-widgets/base",
      "model_module_version": "1.1.0",
      "model_name": "LayoutModel",
      "state": {}
     },
     "a8d6c1b5cd9f4812a92e7b32fcb50495": {
      "model_module": "@jupyter-widgets/base",
      "model_module_version": "1.1.0",
      "model_name": "LayoutModel",
      "state": {}
     },
     "aa10a88c2c0c4e92ad36eeea4c9ee727": {
      "model_module": "@jupyter-widgets/controls",
      "model_module_version": "1.4.0",
      "model_name": "IntProgressModel",
      "state": {
       "bar_style": "success",
       "description": "training...",
       "layout": "IPY_MODEL_4e2d948957af45a782f723cfb58d35e0",
       "max": 10,
       "style": "IPY_MODEL_c42a57a431404d6ba4e49d1f1b739717",
       "value": 10
      }
     },
     "aa252d2e759f4e02a3d507bcea216da2": {
      "model_module": "@jupyter-widgets/base",
      "model_module_version": "1.1.0",
      "model_name": "LayoutModel",
      "state": {}
     },
     "aa895d27fd904cd9a44ffa686c272e9e": {
      "model_module": "@jupyter-widgets/base",
      "model_module_version": "1.1.0",
      "model_name": "LayoutModel",
      "state": {}
     },
     "ab679c668a98440eb35d6648d48d6338": {
      "model_module": "@jupyter-widgets/controls",
      "model_module_version": "1.4.0",
      "model_name": "IntProgressModel",
      "state": {
       "bar_style": "success",
       "description": "evaluating...",
       "layout": "IPY_MODEL_240bc0f9dbcf442b82abdfda06a839ec",
       "max": 26791,
       "style": "IPY_MODEL_7eb8b6ed9c28481c8a87e9005d95587d",
       "value": 26791
      }
     },
     "ab9ae43525cd4257855b30da94b0542d": {
      "model_module": "@jupyter-widgets/controls",
      "model_module_version": "1.4.0",
      "model_name": "DescriptionStyleModel",
      "state": {
       "description_width": ""
      }
     },
     "ac2da55a0ee5431c85b8180c30270611": {
      "model_module": "@jupyter-widgets/controls",
      "model_module_version": "1.4.0",
      "model_name": "DescriptionStyleModel",
      "state": {
       "description_width": ""
      }
     },
     "ac9c26aa7ead41a7a5c77494e86633b8": {
      "model_module": "@jupyter-widgets/controls",
      "model_module_version": "1.4.0",
      "model_name": "HTMLModel",
      "state": {
       "layout": "IPY_MODEL_cc545e5f01734b8aace7cd59c1f13cc5",
       "style": "IPY_MODEL_4d6d6e9b609d4912b568b4774e4b202d",
       "value": "100% 26791/26791 [01:14&lt;00:00, 359.76it/s]"
      }
     },
     "ad1cc17c4b394fc389192e6af97408e5": {
      "model_module": "@jupyter-widgets/controls",
      "model_module_version": "1.4.0",
      "model_name": "ProgressStyleModel",
      "state": {
       "description_width": "initial"
      }
     },
     "ad5b0cf963c042de93ba1324c35daef1": {
      "model_module": "@jupyter-widgets/controls",
      "model_module_version": "1.4.0",
      "model_name": "IntProgressModel",
      "state": {
       "bar_style": "success",
       "description": "evaluating...",
       "layout": "IPY_MODEL_43ea3e35182c45b1b8184a11839555a7",
       "max": 26791,
       "style": "IPY_MODEL_c1b04df6c7dd4f58b1c58492b2ee970d",
       "value": 26791
      }
     },
     "adff15b6fc064c17b530250766d08cb0": {
      "model_module": "@jupyter-widgets/controls",
      "model_module_version": "1.4.0",
      "model_name": "HTMLModel",
      "state": {
       "layout": "IPY_MODEL_be0e73f367d44463aac188c6882bd979",
       "style": "IPY_MODEL_9de6002318c347e988b12575b9a5e1d7",
       "value": "100% 26791/26791 [01:26&lt;00:00, 309.91it/s]"
      }
     },
     "af262ec4174e4cdd98ccbc91876865c4": {
      "model_module": "@jupyter-widgets/base",
      "model_module_version": "1.1.0",
      "model_name": "LayoutModel",
      "state": {}
     },
     "af6047c124754e18b32761a7465b7d89": {
      "model_module": "@jupyter-widgets/controls",
      "model_module_version": "1.4.0",
      "model_name": "IntProgressModel",
      "state": {
       "bar_style": "success",
       "description": "evaluating...",
       "layout": "IPY_MODEL_b4e0ea6378b941b0810c085a60734e4c",
       "max": 26791,
       "style": "IPY_MODEL_d9b8c647bdc7425cb37a968acc18d492",
       "value": 26791
      }
     },
     "afbd2c788b444b859ae46234ab6362db": {
      "model_module": "@jupyter-widgets/base",
      "model_module_version": "1.1.0",
      "model_name": "LayoutModel",
      "state": {}
     },
     "b04ae2a8907d4b359742fe2a2eadc591": {
      "model_module": "@jupyter-widgets/base",
      "model_module_version": "1.1.0",
      "model_name": "LayoutModel",
      "state": {}
     },
     "b129141cf5b44d80afc944f26356afff": {
      "model_module": "@jupyter-widgets/controls",
      "model_module_version": "1.4.0",
      "model_name": "IntProgressModel",
      "state": {
       "bar_style": "success",
       "description": "evaluating...",
       "layout": "IPY_MODEL_721f262b0f904bc09a7ba5f3dd89b0af",
       "max": 26791,
       "style": "IPY_MODEL_e301c571d660428dae737c65c35e6d84",
       "value": 26791
      }
     },
     "b13eaf1a3f994b32a16cf9e1d62f8115": {
      "model_module": "@jupyter-widgets/controls",
      "model_module_version": "1.4.0",
      "model_name": "IntProgressModel",
      "state": {
       "bar_style": "success",
       "description": "evaluating...",
       "layout": "IPY_MODEL_5bcfb0cc211f4f5ab48a272e091dcd9d",
       "max": 26791,
       "style": "IPY_MODEL_408234156922439cb61bc9a4ff5ccefe",
       "value": 26791
      }
     },
     "b1a35b40c47f4563a988f9ce30e5e9bb": {
      "model_module": "@jupyter-widgets/controls",
      "model_module_version": "1.4.0",
      "model_name": "ProgressStyleModel",
      "state": {
       "description_width": "initial"
      }
     },
     "b1ceca998cf94638bc5f77f93c3d2775": {
      "model_module": "@jupyter-widgets/controls",
      "model_module_version": "1.4.0",
      "model_name": "HTMLModel",
      "state": {
       "layout": "IPY_MODEL_7f7b8328a84941ccbced20627dd28bc9",
       "style": "IPY_MODEL_e1647061df9049d190c33901e09dbce1",
       "value": "100% 26791/26791 [01:08&lt;00:00, 392.31it/s]"
      }
     },
     "b1d6d69963294697a8dbd252bd23619d": {
      "model_module": "@jupyter-widgets/base",
      "model_module_version": "1.1.0",
      "model_name": "LayoutModel",
      "state": {}
     },
     "b2067d51f2984cee867df60324cc4d42": {
      "model_module": "@jupyter-widgets/controls",
      "model_module_version": "1.4.0",
      "model_name": "HTMLModel",
      "state": {
       "layout": "IPY_MODEL_8f9d8bc2b6ff496e8071b2819648c58e",
       "style": "IPY_MODEL_45c8d1c7736f4333b0a46948879963e2",
       "value": "100% 26791/26791 [01:05&lt;00:00, 409.88it/s]"
      }
     },
     "b290261a1c4443168ff4176454f2c3d0": {
      "model_module": "@jupyter-widgets/controls",
      "model_module_version": "1.4.0",
      "model_name": "DescriptionStyleModel",
      "state": {
       "description_width": ""
      }
     },
     "b34759617c424b0aaaed2634823a9567": {
      "model_module": "@jupyter-widgets/base",
      "model_module_version": "1.1.0",
      "model_name": "LayoutModel",
      "state": {}
     },
     "b35ff9989c734637a838753b3e5158fe": {
      "model_module": "@jupyter-widgets/controls",
      "model_module_version": "1.4.0",
      "model_name": "IntProgressModel",
      "state": {
       "bar_style": "success",
       "description": "evaluating...",
       "layout": "IPY_MODEL_1688c2a450484e2c8d989fb8b0830f6c",
       "max": 26791,
       "style": "IPY_MODEL_e661ecb9600d4fe59c3e3060ff0dae8b",
       "value": 26791
      }
     },
     "b373685c81f442c29fd699add7f2192e": {
      "model_module": "@jupyter-widgets/base",
      "model_module_version": "1.1.0",
      "model_name": "LayoutModel",
      "state": {}
     },
     "b3ba8d3a92a240adbb46ac08e8f8042d": {
      "model_module": "@jupyter-widgets/base",
      "model_module_version": "1.1.0",
      "model_name": "LayoutModel",
      "state": {}
     },
     "b3d88a2d6bf54896a35aa1b0bb46bb22": {
      "model_module": "@jupyter-widgets/controls",
      "model_module_version": "1.4.0",
      "model_name": "HBoxModel",
      "state": {
       "children": [
        "IPY_MODEL_4209e1dd4884417a8dc7d0bc2363fbf3",
        "IPY_MODEL_fe5e3c5f7ce44a9cba5e23be661ef817"
       ],
       "layout": "IPY_MODEL_4bdbb027b73948f594572d141d00005b"
      }
     },
     "b4192f930949434ea19be1ec1d9500c6": {
      "model_module": "@jupyter-widgets/controls",
      "model_module_version": "1.4.0",
      "model_name": "HTMLModel",
      "state": {
       "layout": "IPY_MODEL_76e35b2dd3af417da53e879f5b07959f",
       "style": "IPY_MODEL_865a6f45e44a4d75ac9fdd94b7a715e2",
       "value": "100% 26791/26791 [01:24&lt;00:00, 316.92it/s]"
      }
     },
     "b46dce891c1d4d919c99e7d7b91922cb": {
      "model_module": "@jupyter-widgets/controls",
      "model_module_version": "1.4.0",
      "model_name": "HTMLModel",
      "state": {
       "layout": "IPY_MODEL_b9bdcac9c4894e0487565c4680d7da0e",
       "style": "IPY_MODEL_94587f59923442b6b60c99df62060694",
       "value": "100% 26791/26791 [01:48&lt;00:00, 247.89it/s]"
      }
     },
     "b4cf6ac74192445497f33261037cc61c": {
      "model_module": "@jupyter-widgets/controls",
      "model_module_version": "1.4.0",
      "model_name": "HTMLModel",
      "state": {
       "layout": "IPY_MODEL_6e506facc46a4573a4ce79326acb0f24",
       "style": "IPY_MODEL_65aa9628e1a74fa1be438a3870d1c57a",
       "value": "100% 26791/26791 [03:48&lt;00:00, 117.08it/s]"
      }
     },
     "b4e0ea6378b941b0810c085a60734e4c": {
      "model_module": "@jupyter-widgets/base",
      "model_module_version": "1.1.0",
      "model_name": "LayoutModel",
      "state": {}
     },
     "b57dbc93bbd24b988ea56696e4e53c9d": {
      "model_module": "@jupyter-widgets/base",
      "model_module_version": "1.1.0",
      "model_name": "LayoutModel",
      "state": {}
     },
     "b5fc77a65ddd4ba984e05d7002cf9c73": {
      "model_module": "@jupyter-widgets/controls",
      "model_module_version": "1.4.0",
      "model_name": "IntProgressModel",
      "state": {
       "bar_style": "success",
       "description": "training...",
       "layout": "IPY_MODEL_3e3701db4a634af19be9cd95d37472c3",
       "max": 10,
       "style": "IPY_MODEL_b1a35b40c47f4563a988f9ce30e5e9bb",
       "value": 10
      }
     },
     "b62d3f3058d2469e8b01188279f8c023": {
      "model_module": "@jupyter-widgets/controls",
      "model_module_version": "1.4.0",
      "model_name": "ProgressStyleModel",
      "state": {
       "description_width": "initial"
      }
     },
     "b63ad0145e5c4b9ca228472f35ff77e9": {
      "model_module": "@jupyter-widgets/controls",
      "model_module_version": "1.4.0",
      "model_name": "ProgressStyleModel",
      "state": {
       "description_width": "initial"
      }
     },
     "b6d997eeb9ae405ebb2375d56a41cd6e": {
      "model_module": "@jupyter-widgets/base",
      "model_module_version": "1.1.0",
      "model_name": "LayoutModel",
      "state": {}
     },
     "b740a56a5c6d44408a1616ab3cf71798": {
      "model_module": "@jupyter-widgets/base",
      "model_module_version": "1.1.0",
      "model_name": "LayoutModel",
      "state": {}
     },
     "b79e9a61bff547dab21df602ba425360": {
      "model_module": "@jupyter-widgets/controls",
      "model_module_version": "1.4.0",
      "model_name": "DescriptionStyleModel",
      "state": {
       "description_width": ""
      }
     },
     "b84fb775df2c4332b92c75fd40bcddb7": {
      "model_module": "@jupyter-widgets/base",
      "model_module_version": "1.1.0",
      "model_name": "LayoutModel",
      "state": {}
     },
     "b92b9468e151432f9d48c0f20cd998a7": {
      "model_module": "@jupyter-widgets/controls",
      "model_module_version": "1.4.0",
      "model_name": "ProgressStyleModel",
      "state": {
       "description_width": "initial"
      }
     },
     "b9763e4a566e479c90def38bb1e90bb2": {
      "model_module": "@jupyter-widgets/controls",
      "model_module_version": "1.4.0",
      "model_name": "ProgressStyleModel",
      "state": {
       "description_width": "initial"
      }
     },
     "b99cc4de5b34449eade861fc2591a12b": {
      "model_module": "@jupyter-widgets/base",
      "model_module_version": "1.1.0",
      "model_name": "LayoutModel",
      "state": {}
     },
     "b9bdcac9c4894e0487565c4680d7da0e": {
      "model_module": "@jupyter-widgets/base",
      "model_module_version": "1.1.0",
      "model_name": "LayoutModel",
      "state": {}
     },
     "b9d8167696194a3293848c623fa03a25": {
      "model_module": "@jupyter-widgets/base",
      "model_module_version": "1.1.0",
      "model_name": "LayoutModel",
      "state": {}
     },
     "bbc8f9af636242e7bb8a326bf405f6fd": {
      "model_module": "@jupyter-widgets/controls",
      "model_module_version": "1.4.0",
      "model_name": "DescriptionStyleModel",
      "state": {
       "description_width": ""
      }
     },
     "bc449f937fb1443cbf5af4c4c006e6c6": {
      "model_module": "@jupyter-widgets/controls",
      "model_module_version": "1.4.0",
      "model_name": "HTMLModel",
      "state": {
       "layout": "IPY_MODEL_5fe5572360ee411d857c33f55befff10",
       "style": "IPY_MODEL_54813af01f34457bb29749f418ba4034",
       "value": "100% 26791/26791 [01:26&lt;00:00, 309.09it/s]"
      }
     },
     "bc9c44eff60c49f4b389d3bf274ba41e": {
      "model_module": "@jupyter-widgets/base",
      "model_module_version": "1.1.0",
      "model_name": "LayoutModel",
      "state": {}
     },
     "bd5a24aa97794ceaa685dcc9e17412e8": {
      "model_module": "@jupyter-widgets/controls",
      "model_module_version": "1.4.0",
      "model_name": "HBoxModel",
      "state": {
       "children": [
        "IPY_MODEL_18356bfab5c3429b90107cebb2258613",
        "IPY_MODEL_1fc351ce40524b86a3f3a76bff3150f1"
       ],
       "layout": "IPY_MODEL_e4cc2dc34c6b43059e67f774abf61d8f"
      }
     },
     "be0e73f367d44463aac188c6882bd979": {
      "model_module": "@jupyter-widgets/base",
      "model_module_version": "1.1.0",
      "model_name": "LayoutModel",
      "state": {}
     },
     "be15e1d5bf4b48d3a5acb9f880c546ab": {
      "model_module": "@jupyter-widgets/controls",
      "model_module_version": "1.4.0",
      "model_name": "DescriptionStyleModel",
      "state": {
       "description_width": ""
      }
     },
     "be4e6fd322f648ba8a55813929fe11f1": {
      "model_module": "@jupyter-widgets/base",
      "model_module_version": "1.1.0",
      "model_name": "LayoutModel",
      "state": {}
     },
     "bfd45832c1a844c496b034880daa4caf": {
      "model_module": "@jupyter-widgets/controls",
      "model_module_version": "1.4.0",
      "model_name": "HBoxModel",
      "state": {
       "children": [
        "IPY_MODEL_03ef0337fbed40c899103336b276166d",
        "IPY_MODEL_2f6c764adaa34bf8b085f9ea787210ed"
       ],
       "layout": "IPY_MODEL_637c3afdf0344a23ad8724cab5ac89a2"
      }
     },
     "c00ab841bc404790a7171509767d9254": {
      "model_module": "@jupyter-widgets/base",
      "model_module_version": "1.1.0",
      "model_name": "LayoutModel",
      "state": {}
     },
     "c0405a04a49740ebad073cf61c7296c0": {
      "model_module": "@jupyter-widgets/controls",
      "model_module_version": "1.4.0",
      "model_name": "HBoxModel",
      "state": {
       "children": [
        "IPY_MODEL_3405ef91da2846ccb2d31b6612e77843",
        "IPY_MODEL_606eece95e1142edad98dc66c224e993"
       ],
       "layout": "IPY_MODEL_27b3bf1f21924d42b09bc053e6dd2bff"
      }
     },
     "c053d1cf9e464751a653dc42d170b254": {
      "model_module": "@jupyter-widgets/controls",
      "model_module_version": "1.4.0",
      "model_name": "HTMLModel",
      "state": {
       "layout": "IPY_MODEL_3fa5747bde20414d970f39d96cbcb3d9",
       "style": "IPY_MODEL_c99b03affa9549a093df22596dba5ceb",
       "value": "100% 26791/26791 [01:08&lt;00:00, 389.90it/s]"
      }
     },
     "c15152da45e14cdb9a5d3ff6500d49f8": {
      "model_module": "@jupyter-widgets/base",
      "model_module_version": "1.1.0",
      "model_name": "LayoutModel",
      "state": {}
     },
     "c18d9eaf33824b279c1b5bf6444f2490": {
      "model_module": "@jupyter-widgets/controls",
      "model_module_version": "1.4.0",
      "model_name": "HTMLModel",
      "state": {
       "layout": "IPY_MODEL_7b1724564f684f3abaf938f86035db37",
       "style": "IPY_MODEL_de985477a7254ee99042f9d366c3887e",
       "value": "100% 26791/26791 [03:49&lt;00:00, 116.92it/s]"
      }
     },
     "c1b04df6c7dd4f58b1c58492b2ee970d": {
      "model_module": "@jupyter-widgets/controls",
      "model_module_version": "1.4.0",
      "model_name": "ProgressStyleModel",
      "state": {
       "description_width": "initial"
      }
     },
     "c1b1ac542e374b41a54de2c3b377cd21": {
      "model_module": "@jupyter-widgets/controls",
      "model_module_version": "1.4.0",
      "model_name": "HBoxModel",
      "state": {
       "children": [
        "IPY_MODEL_65b4eb4f8bc643f6ab34c83d96a7d9f8",
        "IPY_MODEL_04cb0dca3fd8490f92ac9239f7f63713"
       ],
       "layout": "IPY_MODEL_1f6c86e38a5f4d55a4fbf94efb4a0bfe"
      }
     },
     "c1c885351f3e43189caf626f7592c7be": {
      "model_module": "@jupyter-widgets/controls",
      "model_module_version": "1.4.0",
      "model_name": "IntProgressModel",
      "state": {
       "bar_style": "success",
       "description": "evaluating...",
       "layout": "IPY_MODEL_6fdc51482512477584726e9e5f85236e",
       "max": 26791,
       "style": "IPY_MODEL_48f64b35966c426389ab3830538c4047",
       "value": 26791
      }
     },
     "c1d0389b04cd42da83a6a406fe0ea1b8": {
      "model_module": "@jupyter-widgets/controls",
      "model_module_version": "1.4.0",
      "model_name": "HBoxModel",
      "state": {
       "children": [
        "IPY_MODEL_a50f24de539f467ab69e3e913fd362ac",
        "IPY_MODEL_e58522fdf7c64d0b94543f0a34fe7923"
       ],
       "layout": "IPY_MODEL_4a91901e2f044675b7dfaa8b02b0a878"
      }
     },
     "c1d8d4ca7ede444a90f9ff05747a6d90": {
      "model_module": "@jupyter-widgets/base",
      "model_module_version": "1.1.0",
      "model_name": "LayoutModel",
      "state": {}
     },
     "c1eb6b1d5486452f9c1134ca34638248": {
      "model_module": "@jupyter-widgets/base",
      "model_module_version": "1.1.0",
      "model_name": "LayoutModel",
      "state": {}
     },
     "c21e2e997fae4886b895370906dec9dc": {
      "model_module": "@jupyter-widgets/controls",
      "model_module_version": "1.4.0",
      "model_name": "ProgressStyleModel",
      "state": {
       "description_width": "initial"
      }
     },
     "c2fc60b24eb34f98abf4e6e19149ebb1": {
      "model_module": "@jupyter-widgets/controls",
      "model_module_version": "1.4.0",
      "model_name": "HBoxModel",
      "state": {
       "children": [
        "IPY_MODEL_3c9f5695e5ac41db83432e34f4b4d675",
        "IPY_MODEL_84de30f078eb4a98963f3f567fb4849f"
       ],
       "layout": "IPY_MODEL_340e369868464b34b31139e02e90999e"
      }
     },
     "c37a67b0cd134017a6c3207e3c0fd2c7": {
      "model_module": "@jupyter-widgets/base",
      "model_module_version": "1.1.0",
      "model_name": "LayoutModel",
      "state": {}
     },
     "c42a57a431404d6ba4e49d1f1b739717": {
      "model_module": "@jupyter-widgets/controls",
      "model_module_version": "1.4.0",
      "model_name": "ProgressStyleModel",
      "state": {
       "description_width": "initial"
      }
     },
     "c6141c4526f6467db0f9f1b328eddd0f": {
      "model_module": "@jupyter-widgets/controls",
      "model_module_version": "1.4.0",
      "model_name": "DescriptionStyleModel",
      "state": {
       "description_width": ""
      }
     },
     "c655b7518cfb46f79fc8c174fce36d9c": {
      "model_module": "@jupyter-widgets/controls",
      "model_module_version": "1.4.0",
      "model_name": "ProgressStyleModel",
      "state": {
       "description_width": "initial"
      }
     },
     "c659cf2b1c2e45d0b998d0f93ce0b33b": {
      "model_module": "@jupyter-widgets/controls",
      "model_module_version": "1.4.0",
      "model_name": "ProgressStyleModel",
      "state": {
       "description_width": "initial"
      }
     },
     "c6c57476967d4b18b7b2a6095401c2a7": {
      "model_module": "@jupyter-widgets/controls",
      "model_module_version": "1.4.0",
      "model_name": "HTMLModel",
      "state": {
       "layout": "IPY_MODEL_2f0ec1a78c9f45bfa49dd498f17761af",
       "style": "IPY_MODEL_0cd8ebddbf224937bac42948a1132710",
       "value": "100% 26791/26791 [01:07&lt;00:00, 397.28it/s]"
      }
     },
     "c78991b9a49843d38da8120781cf3864": {
      "model_module": "@jupyter-widgets/controls",
      "model_module_version": "1.4.0",
      "model_name": "HBoxModel",
      "state": {
       "children": [
        "IPY_MODEL_ec0b554eef1d432d8ee509770293b6da",
        "IPY_MODEL_36ae8024f2fe4cb2b9cfdd8bf6b6a7eb"
       ],
       "layout": "IPY_MODEL_b6d997eeb9ae405ebb2375d56a41cd6e"
      }
     },
     "c7b71b3c1cc9497d88dc4699f9b64338": {
      "model_module": "@jupyter-widgets/base",
      "model_module_version": "1.1.0",
      "model_name": "LayoutModel",
      "state": {}
     },
     "c7f9c41399794db58772608d14eb0a53": {
      "model_module": "@jupyter-widgets/controls",
      "model_module_version": "1.4.0",
      "model_name": "IntProgressModel",
      "state": {
       "bar_style": "success",
       "description": "evaluating...",
       "layout": "IPY_MODEL_2b4fc724fd5a41fab56def30ac3bb279",
       "max": 26791,
       "style": "IPY_MODEL_81ef35b1ab64431287a0c380de2abb8f",
       "value": 26791
      }
     },
     "c840e2fb1951474cae564fc2cd8da43b": {
      "model_module": "@jupyter-widgets/controls",
      "model_module_version": "1.4.0",
      "model_name": "ProgressStyleModel",
      "state": {
       "description_width": "initial"
      }
     },
     "c8513987d3ce443aabf4ab8746391346": {
      "model_module": "@jupyter-widgets/base",
      "model_module_version": "1.1.0",
      "model_name": "LayoutModel",
      "state": {}
     },
     "c878ea43fe274924ba900ad5c581473e": {
      "model_module": "@jupyter-widgets/base",
      "model_module_version": "1.1.0",
      "model_name": "LayoutModel",
      "state": {}
     },
     "c97f9fdafbc9413fae2f48c5e157d012": {
      "model_module": "@jupyter-widgets/controls",
      "model_module_version": "1.4.0",
      "model_name": "DescriptionStyleModel",
      "state": {
       "description_width": ""
      }
     },
     "c99b03affa9549a093df22596dba5ceb": {
      "model_module": "@jupyter-widgets/controls",
      "model_module_version": "1.4.0",
      "model_name": "DescriptionStyleModel",
      "state": {
       "description_width": ""
      }
     },
     "ca28feccda774a8c89462b3fe3cffe2f": {
      "model_module": "@jupyter-widgets/controls",
      "model_module_version": "1.4.0",
      "model_name": "ProgressStyleModel",
      "state": {
       "description_width": "initial"
      }
     },
     "ca41cb1a84ab4a9eabf77f5cb02302c4": {
      "model_module": "@jupyter-widgets/base",
      "model_module_version": "1.1.0",
      "model_name": "LayoutModel",
      "state": {}
     },
     "ca63df7d5e5144ccb601cc74c342485c": {
      "model_module": "@jupyter-widgets/controls",
      "model_module_version": "1.4.0",
      "model_name": "IntProgressModel",
      "state": {
       "bar_style": "success",
       "description": "evaluating...",
       "layout": "IPY_MODEL_6f067b57fe5d4ba393f74435012e3c28",
       "max": 26791,
       "style": "IPY_MODEL_b63ad0145e5c4b9ca228472f35ff77e9",
       "value": 26791
      }
     },
     "caeb91f615c1451ea980f589defb6d03": {
      "model_module": "@jupyter-widgets/base",
      "model_module_version": "1.1.0",
      "model_name": "LayoutModel",
      "state": {}
     },
     "cb1fd130ca7a44f58a6029f3e203cd1d": {
      "model_module": "@jupyter-widgets/base",
      "model_module_version": "1.1.0",
      "model_name": "LayoutModel",
      "state": {}
     },
     "cbd2048e765d47fca21bcf646db675be": {
      "model_module": "@jupyter-widgets/base",
      "model_module_version": "1.1.0",
      "model_name": "LayoutModel",
      "state": {}
     },
     "cbecd6503b484fa5a25b951a6a84c686": {
      "model_module": "@jupyter-widgets/controls",
      "model_module_version": "1.4.0",
      "model_name": "HBoxModel",
      "state": {
       "children": [
        "IPY_MODEL_793c1388ff4d40fcb9ea97687fa83e09",
        "IPY_MODEL_adff15b6fc064c17b530250766d08cb0"
       ],
       "layout": "IPY_MODEL_aa895d27fd904cd9a44ffa686c272e9e"
      }
     },
     "cc24fca87d384182924aa9a0eae80bac": {
      "model_module": "@jupyter-widgets/base",
      "model_module_version": "1.1.0",
      "model_name": "LayoutModel",
      "state": {}
     },
     "cc4ebf954bc64d589af3e576ec5bd0f6": {
      "model_module": "@jupyter-widgets/base",
      "model_module_version": "1.1.0",
      "model_name": "LayoutModel",
      "state": {}
     },
     "cc545e5f01734b8aace7cd59c1f13cc5": {
      "model_module": "@jupyter-widgets/base",
      "model_module_version": "1.1.0",
      "model_name": "LayoutModel",
      "state": {}
     },
     "cce39decc6764483ba5b6ce132d94317": {
      "model_module": "@jupyter-widgets/base",
      "model_module_version": "1.1.0",
      "model_name": "LayoutModel",
      "state": {}
     },
     "ccf97c9fb64d4d88847419201a52fbb9": {
      "model_module": "@jupyter-widgets/base",
      "model_module_version": "1.1.0",
      "model_name": "LayoutModel",
      "state": {}
     },
     "cd391a1a74bd4806a0d26fc7c9500263": {
      "model_module": "@jupyter-widgets/base",
      "model_module_version": "1.1.0",
      "model_name": "LayoutModel",
      "state": {}
     },
     "cdcd61c66a034924ac11a2f9115123d5": {
      "model_module": "@jupyter-widgets/base",
      "model_module_version": "1.1.0",
      "model_name": "LayoutModel",
      "state": {}
     },
     "cdd577da601e4e009cba5c3b525313b2": {
      "model_module": "@jupyter-widgets/controls",
      "model_module_version": "1.4.0",
      "model_name": "HTMLModel",
      "state": {
       "layout": "IPY_MODEL_e799821084624dd7af8ad79f88c250f5",
       "style": "IPY_MODEL_e4f24af93baa41bd8d4622d40f49de6f",
       "value": "100% 26791/26791 [01:11&lt;00:00, 374.44it/s]"
      }
     },
     "ce43b1ea5d654d50851d1d0f452bafd6": {
      "model_module": "@jupyter-widgets/controls",
      "model_module_version": "1.4.0",
      "model_name": "HTMLModel",
      "state": {
       "layout": "IPY_MODEL_a71aaeac622c4a97ab0536a15a562e00",
       "style": "IPY_MODEL_47f9a9b81f1f4491b63ce1ea11997cbc",
       "value": "100% 26791/26791 [01:10&lt;00:00, 377.45it/s]"
      }
     },
     "ce7a8d6b3a874dd3aff368b6b09d2e60": {
      "model_module": "@jupyter-widgets/controls",
      "model_module_version": "1.4.0",
      "model_name": "ProgressStyleModel",
      "state": {
       "description_width": "initial"
      }
     },
     "ce98bdeee863426798d7a05ae24deeee": {
      "model_module": "@jupyter-widgets/controls",
      "model_module_version": "1.4.0",
      "model_name": "HBoxModel",
      "state": {
       "children": [
        "IPY_MODEL_0360681c659f4cf49e0492d4fe82e726",
        "IPY_MODEL_2fba773ac1c0461f9ae96f08397a27e0"
       ],
       "layout": "IPY_MODEL_36bd957ccee443a7bb82076f0c9a3b73"
      }
     },
     "ced01b089d4343d19017a1fc70f5a151": {
      "model_module": "@jupyter-widgets/controls",
      "model_module_version": "1.4.0",
      "model_name": "IntProgressModel",
      "state": {
       "bar_style": "success",
       "description": "training...",
       "layout": "IPY_MODEL_62fcd233ee824634a8df1fdd234141e8",
       "max": 20,
       "style": "IPY_MODEL_de707df25d264731a8032da0c663c1a5",
       "value": 20
      }
     },
     "cf990f3d5a3649bd924a852932d63494": {
      "model_module": "@jupyter-widgets/base",
      "model_module_version": "1.1.0",
      "model_name": "LayoutModel",
      "state": {}
     },
     "cfee9601bbc34aa4990ae7292eb5774c": {
      "model_module": "@jupyter-widgets/controls",
      "model_module_version": "1.4.0",
      "model_name": "ProgressStyleModel",
      "state": {
       "description_width": "initial"
      }
     },
     "d0c204b97a61450d8bc11be2784aceaf": {
      "model_module": "@jupyter-widgets/controls",
      "model_module_version": "1.4.0",
      "model_name": "DescriptionStyleModel",
      "state": {
       "description_width": ""
      }
     },
     "d115dcf65d8849308215b2a49a99b3ea": {
      "model_module": "@jupyter-widgets/controls",
      "model_module_version": "1.4.0",
      "model_name": "DescriptionStyleModel",
      "state": {
       "description_width": ""
      }
     },
     "d12b5b2e48de4bac8599a3edea8be961": {
      "model_module": "@jupyter-widgets/base",
      "model_module_version": "1.1.0",
      "model_name": "LayoutModel",
      "state": {}
     },
     "d1659e415d80475786d876a22d5ee26d": {
      "model_module": "@jupyter-widgets/controls",
      "model_module_version": "1.4.0",
      "model_name": "IntProgressModel",
      "state": {
       "bar_style": "success",
       "description": "training...",
       "layout": "IPY_MODEL_3c7c4548497d472e8610ac0cef11a6af",
       "max": 10,
       "style": "IPY_MODEL_e1521ecfef57445badfd1ffbc5ac300a",
       "value": 10
      }
     },
     "d282133333944d86a4fd98e978bba022": {
      "model_module": "@jupyter-widgets/controls",
      "model_module_version": "1.4.0",
      "model_name": "IntProgressModel",
      "state": {
       "bar_style": "success",
       "description": "evaluating...",
       "layout": "IPY_MODEL_cb1fd130ca7a44f58a6029f3e203cd1d",
       "max": 26791,
       "style": "IPY_MODEL_2b8b49a572d64cb3885798d983fbc478",
       "value": 26791
      }
     },
     "d36c77e6f6e542429b8cd8a85d5ed044": {
      "model_module": "@jupyter-widgets/base",
      "model_module_version": "1.1.0",
      "model_name": "LayoutModel",
      "state": {}
     },
     "d3d0cf8153bf4a378057da0a52577443": {
      "model_module": "@jupyter-widgets/controls",
      "model_module_version": "1.4.0",
      "model_name": "HBoxModel",
      "state": {
       "children": [
        "IPY_MODEL_3fc72ec87cda4aee81af7bde0c6a19c0",
        "IPY_MODEL_68408646fbb448c48ffa307efb64a14f"
       ],
       "layout": "IPY_MODEL_c1d8d4ca7ede444a90f9ff05747a6d90"
      }
     },
     "d3ee68e8627e4152b918b6d066d314d5": {
      "model_module": "@jupyter-widgets/controls",
      "model_module_version": "1.4.0",
      "model_name": "IntProgressModel",
      "state": {
       "bar_style": "success",
       "description": "evaluating...",
       "layout": "IPY_MODEL_910d4d08daf74aceaf7d04d3cc88d275",
       "max": 26791,
       "style": "IPY_MODEL_30a69d7f503443818dfce50e5f4c4204",
       "value": 26791
      }
     },
     "d3eefc32383347db8948da7d6d066874": {
      "model_module": "@jupyter-widgets/controls",
      "model_module_version": "1.4.0",
      "model_name": "IntProgressModel",
      "state": {
       "bar_style": "success",
       "description": "evaluating...",
       "layout": "IPY_MODEL_22cc0f93b11f4936a1f32c19b4b0aa4d",
       "max": 26791,
       "style": "IPY_MODEL_c655b7518cfb46f79fc8c174fce36d9c",
       "value": 26791
      }
     },
     "d40912bbcaef4ed28981268b919fcb72": {
      "model_module": "@jupyter-widgets/controls",
      "model_module_version": "1.4.0",
      "model_name": "HBoxModel",
      "state": {
       "children": [
        "IPY_MODEL_c1c885351f3e43189caf626f7592c7be",
        "IPY_MODEL_c6c57476967d4b18b7b2a6095401c2a7"
       ],
       "layout": "IPY_MODEL_3696622a46144c69bb2ae8db6cb91dc0"
      }
     },
     "d414925e0db14fb293e007a976e817da": {
      "model_module": "@jupyter-widgets/base",
      "model_module_version": "1.1.0",
      "model_name": "LayoutModel",
      "state": {}
     },
     "d48004ad1718409aab3746d38380e7f0": {
      "model_module": "@jupyter-widgets/controls",
      "model_module_version": "1.4.0",
      "model_name": "DescriptionStyleModel",
      "state": {
       "description_width": ""
      }
     },
     "d51e3e281b1d4ffe94011cc574f45b54": {
      "model_module": "@jupyter-widgets/controls",
      "model_module_version": "1.4.0",
      "model_name": "HBoxModel",
      "state": {
       "children": [
        "IPY_MODEL_4f303172f3bf4b38a551da262c0bf70a",
        "IPY_MODEL_77aa5ed7852b425eae279c6b09d84db3"
       ],
       "layout": "IPY_MODEL_9b98cce91f73453e90ea718ca7142fb4"
      }
     },
     "d54522b6aa2143f4ab8a0e1d0cb1748a": {
      "model_module": "@jupyter-widgets/controls",
      "model_module_version": "1.4.0",
      "model_name": "HTMLModel",
      "state": {
       "layout": "IPY_MODEL_8374a3c9d35641e79b7e54f5e98b9240",
       "style": "IPY_MODEL_eae99233e2c94256af8c46e325f041a1",
       "value": "100% 26791/26791 [03:49&lt;00:00, 116.56it/s]"
      }
     },
     "d5aa15fb824d48ada0c1750a4d9e0e1f": {
      "model_module": "@jupyter-widgets/controls",
      "model_module_version": "1.4.0",
      "model_name": "DescriptionStyleModel",
      "state": {
       "description_width": ""
      }
     },
     "d5c3e2be2e1942138b2a78543a6e0a8c": {
      "model_module": "@jupyter-widgets/controls",
      "model_module_version": "1.4.0",
      "model_name": "HTMLModel",
      "state": {
       "layout": "IPY_MODEL_56da23f131494102b4f68d42b4fa52e3",
       "style": "IPY_MODEL_70e3e396b2a24067b15db33d36e8a4d7",
       "value": "100% 26791/26791 [01:29&lt;00:00, 299.62it/s]"
      }
     },
     "d652c68b0f6648baa17412916a5c32f6": {
      "model_module": "@jupyter-widgets/base",
      "model_module_version": "1.1.0",
      "model_name": "LayoutModel",
      "state": {}
     },
     "d669fd67243c4d73b8121d5d4d0a2bcb": {
      "model_module": "@jupyter-widgets/base",
      "model_module_version": "1.1.0",
      "model_name": "LayoutModel",
      "state": {}
     },
     "d6b18e662d0a4c4a853861e9eeb64d1e": {
      "model_module": "@jupyter-widgets/controls",
      "model_module_version": "1.4.0",
      "model_name": "ProgressStyleModel",
      "state": {
       "description_width": "initial"
      }
     },
     "d760d65a016f4d828cd4d5c5eebf84f1": {
      "model_module": "@jupyter-widgets/controls",
      "model_module_version": "1.4.0",
      "model_name": "IntProgressModel",
      "state": {
       "bar_style": "success",
       "description": "training...",
       "layout": "IPY_MODEL_87345294df3c458a96aab0730cd61c45",
       "max": 10,
       "style": "IPY_MODEL_0ef0b31ebe6e4e859cd2ac41224a81f9",
       "value": 10
      }
     },
     "d7c58060f2214bd087ec369e86e82d6b": {
      "model_module": "@jupyter-widgets/controls",
      "model_module_version": "1.4.0",
      "model_name": "ProgressStyleModel",
      "state": {
       "description_width": "initial"
      }
     },
     "d84047849e4943a5b1fbea9f10c0bc70": {
      "model_module": "@jupyter-widgets/base",
      "model_module_version": "1.1.0",
      "model_name": "LayoutModel",
      "state": {}
     },
     "d8a1a06a9c674141a0b3ef4b053411de": {
      "model_module": "@jupyter-widgets/controls",
      "model_module_version": "1.4.0",
      "model_name": "ProgressStyleModel",
      "state": {
       "description_width": "initial"
      }
     },
     "d8a3504713ad4c39917cf0d1d9811d1d": {
      "model_module": "@jupyter-widgets/base",
      "model_module_version": "1.1.0",
      "model_name": "LayoutModel",
      "state": {}
     },
     "d8a7f2caf3c540d184e5958ffafe1806": {
      "model_module": "@jupyter-widgets/base",
      "model_module_version": "1.1.0",
      "model_name": "LayoutModel",
      "state": {}
     },
     "d9aed2b364ef4a12b0835075fb4e4414": {
      "model_module": "@jupyter-widgets/controls",
      "model_module_version": "1.4.0",
      "model_name": "ProgressStyleModel",
      "state": {
       "description_width": "initial"
      }
     },
     "d9b8c647bdc7425cb37a968acc18d492": {
      "model_module": "@jupyter-widgets/controls",
      "model_module_version": "1.4.0",
      "model_name": "ProgressStyleModel",
      "state": {
       "description_width": "initial"
      }
     },
     "d9d6f3f385004ecbad92958ff83cad78": {
      "model_module": "@jupyter-widgets/controls",
      "model_module_version": "1.4.0",
      "model_name": "HTMLModel",
      "state": {
       "layout": "IPY_MODEL_8cc8f0ed642a450c937c31fa5fbec3b6",
       "style": "IPY_MODEL_d5aa15fb824d48ada0c1750a4d9e0e1f",
       "value": "100% 26791/26791 [01:05&lt;00:00, 408.89it/s]"
      }
     },
     "da1b9c5ab9fc48258d5572a8414a3b9e": {
      "model_module": "@jupyter-widgets/base",
      "model_module_version": "1.1.0",
      "model_name": "LayoutModel",
      "state": {}
     },
     "da34fa2a2fdf42f0a32419ac18629754": {
      "model_module": "@jupyter-widgets/controls",
      "model_module_version": "1.4.0",
      "model_name": "IntProgressModel",
      "state": {
       "bar_style": "success",
       "description": "evaluating...",
       "layout": "IPY_MODEL_4b83ce6ed2a34089b1d863438021c45f",
       "max": 26791,
       "style": "IPY_MODEL_fcccd36f3abc4e6b92a08589aeeeb815",
       "value": 26791
      }
     },
     "da40d3835f1c42fdb7eab4c2b7427e2b": {
      "model_module": "@jupyter-widgets/controls",
      "model_module_version": "1.4.0",
      "model_name": "IntProgressModel",
      "state": {
       "bar_style": "success",
       "description": "evaluating...",
       "layout": "IPY_MODEL_9c0502cc211947e8a3bb5ea33085e9e3",
       "max": 26791,
       "style": "IPY_MODEL_250344ecb1f0438d9e8e531e06edf684",
       "value": 26791
      }
     },
     "da48e630d4e3453194f825f9612f7b2a": {
      "model_module": "@jupyter-widgets/controls",
      "model_module_version": "1.4.0",
      "model_name": "IntProgressModel",
      "state": {
       "bar_style": "success",
       "description": "training...",
       "layout": "IPY_MODEL_eefc4e5b780247f99ea37a19cccf86e0",
       "max": 10,
       "style": "IPY_MODEL_9ffcc22f83784e849c107fff900e2991",
       "value": 10
      }
     },
     "db4d298626f04cd2a604570e7244154d": {
      "model_module": "@jupyter-widgets/base",
      "model_module_version": "1.1.0",
      "model_name": "LayoutModel",
      "state": {}
     },
     "dbe7dfa127d3410ea204ac20cdb6f461": {
      "model_module": "@jupyter-widgets/controls",
      "model_module_version": "1.4.0",
      "model_name": "ProgressStyleModel",
      "state": {
       "description_width": "initial"
      }
     },
     "dbeb158b223d4846885f91911639f95e": {
      "model_module": "@jupyter-widgets/controls",
      "model_module_version": "1.4.0",
      "model_name": "ProgressStyleModel",
      "state": {
       "description_width": "initial"
      }
     },
     "dc6320806fe047d9a9d0bf36bf9fd382": {
      "model_module": "@jupyter-widgets/controls",
      "model_module_version": "1.4.0",
      "model_name": "HTMLModel",
      "state": {
       "layout": "IPY_MODEL_b1d6d69963294697a8dbd252bd23619d",
       "style": "IPY_MODEL_a2a3ddbf1a3f485cb9d8f4bea01ce227",
       "value": "100% 26791/26791 [01:07&lt;00:00, 397.30it/s]"
      }
     },
     "dc846cea6b8d4cfaa9f9aa8ef73b90da": {
      "model_module": "@jupyter-widgets/controls",
      "model_module_version": "1.4.0",
      "model_name": "DescriptionStyleModel",
      "state": {
       "description_width": ""
      }
     },
     "ddf60e4fb90b418c96e09f55ce0ab264": {
      "model_module": "@jupyter-widgets/base",
      "model_module_version": "1.1.0",
      "model_name": "LayoutModel",
      "state": {}
     },
     "de0f023fc0a44ace9336783cc900e0f2": {
      "model_module": "@jupyter-widgets/controls",
      "model_module_version": "1.4.0",
      "model_name": "DescriptionStyleModel",
      "state": {
       "description_width": ""
      }
     },
     "de3d8979fea148ccab481eca538fa567": {
      "model_module": "@jupyter-widgets/base",
      "model_module_version": "1.1.0",
      "model_name": "LayoutModel",
      "state": {}
     },
     "de5bcc4e2fba4e18a761a4fde7d2e9a7": {
      "model_module": "@jupyter-widgets/base",
      "model_module_version": "1.1.0",
      "model_name": "LayoutModel",
      "state": {}
     },
     "de64dd31e29d4ab29263cc7667024507": {
      "model_module": "@jupyter-widgets/controls",
      "model_module_version": "1.4.0",
      "model_name": "HTMLModel",
      "state": {
       "layout": "IPY_MODEL_ca41cb1a84ab4a9eabf77f5cb02302c4",
       "style": "IPY_MODEL_188064275b494abebd461fe8d4bbef6d",
       "value": "100% 10/10 [01:38&lt;00:00,  9.78s/it]"
      }
     },
     "de707df25d264731a8032da0c663c1a5": {
      "model_module": "@jupyter-widgets/controls",
      "model_module_version": "1.4.0",
      "model_name": "ProgressStyleModel",
      "state": {
       "description_width": "initial"
      }
     },
     "de985477a7254ee99042f9d366c3887e": {
      "model_module": "@jupyter-widgets/controls",
      "model_module_version": "1.4.0",
      "model_name": "DescriptionStyleModel",
      "state": {
       "description_width": ""
      }
     },
     "def17bb1e64d4b7ca174de9f915a1458": {
      "model_module": "@jupyter-widgets/controls",
      "model_module_version": "1.4.0",
      "model_name": "DescriptionStyleModel",
      "state": {
       "description_width": ""
      }
     },
     "df2474f6fbd144d5a178e018d06e6ebc": {
      "model_module": "@jupyter-widgets/controls",
      "model_module_version": "1.4.0",
      "model_name": "DescriptionStyleModel",
      "state": {
       "description_width": ""
      }
     },
     "e0a6485a636d492db2c35eba5f4d48df": {
      "model_module": "@jupyter-widgets/base",
      "model_module_version": "1.1.0",
      "model_name": "LayoutModel",
      "state": {}
     },
     "e0ebc977e8e1422b95ca5faa10118b77": {
      "model_module": "@jupyter-widgets/base",
      "model_module_version": "1.1.0",
      "model_name": "LayoutModel",
      "state": {}
     },
     "e1123627ffe34645abdaf11fbe92c3dc": {
      "model_module": "@jupyter-widgets/base",
      "model_module_version": "1.1.0",
      "model_name": "LayoutModel",
      "state": {}
     },
     "e1521ecfef57445badfd1ffbc5ac300a": {
      "model_module": "@jupyter-widgets/controls",
      "model_module_version": "1.4.0",
      "model_name": "ProgressStyleModel",
      "state": {
       "description_width": "initial"
      }
     },
     "e15711d3d5484f0db24c0a5a0cee57a3": {
      "model_module": "@jupyter-widgets/controls",
      "model_module_version": "1.4.0",
      "model_name": "HBoxModel",
      "state": {
       "children": [
        "IPY_MODEL_6467247be3b6438b8e9c74e3c55ccf52",
        "IPY_MODEL_de64dd31e29d4ab29263cc7667024507"
       ],
       "layout": "IPY_MODEL_13197bae14674817be6a58c9210e1a1f"
      }
     },
     "e1647061df9049d190c33901e09dbce1": {
      "model_module": "@jupyter-widgets/controls",
      "model_module_version": "1.4.0",
      "model_name": "DescriptionStyleModel",
      "state": {
       "description_width": ""
      }
     },
     "e301c571d660428dae737c65c35e6d84": {
      "model_module": "@jupyter-widgets/controls",
      "model_module_version": "1.4.0",
      "model_name": "ProgressStyleModel",
      "state": {
       "description_width": "initial"
      }
     },
     "e3749f61d8a4462bb5cb91f760a41863": {
      "model_module": "@jupyter-widgets/base",
      "model_module_version": "1.1.0",
      "model_name": "LayoutModel",
      "state": {}
     },
     "e43d71858d2c41debf527d2a31a91cd8": {
      "model_module": "@jupyter-widgets/controls",
      "model_module_version": "1.4.0",
      "model_name": "DescriptionStyleModel",
      "state": {
       "description_width": ""
      }
     },
     "e4cc2dc34c6b43059e67f774abf61d8f": {
      "model_module": "@jupyter-widgets/base",
      "model_module_version": "1.1.0",
      "model_name": "LayoutModel",
      "state": {}
     },
     "e4f24af93baa41bd8d4622d40f49de6f": {
      "model_module": "@jupyter-widgets/controls",
      "model_module_version": "1.4.0",
      "model_name": "DescriptionStyleModel",
      "state": {
       "description_width": ""
      }
     },
     "e58522fdf7c64d0b94543f0a34fe7923": {
      "model_module": "@jupyter-widgets/controls",
      "model_module_version": "1.4.0",
      "model_name": "HTMLModel",
      "state": {
       "layout": "IPY_MODEL_02c836b65592434494a57b2c8faa890f",
       "style": "IPY_MODEL_b79e9a61bff547dab21df602ba425360",
       "value": "100% 26791/26791 [01:08&lt;00:00, 389.32it/s]"
      }
     },
     "e598bb59d36c43d1950cd48911a1507a": {
      "model_module": "@jupyter-widgets/controls",
      "model_module_version": "1.4.0",
      "model_name": "ProgressStyleModel",
      "state": {
       "description_width": "initial"
      }
     },
     "e5c9b5c5fe074d0eb3413f8ca10a8d73": {
      "model_module": "@jupyter-widgets/controls",
      "model_module_version": "1.4.0",
      "model_name": "HTMLModel",
      "state": {
       "layout": "IPY_MODEL_87d7c053e1374a53acabda05f4b4428c",
       "style": "IPY_MODEL_6453163384624c38a5daa832a6cba570",
       "value": "100% 10/10 [01:40&lt;00:00,  9.97s/it]"
      }
     },
     "e651f5cf6e3a4945892e0e845fff0098": {
      "model_module": "@jupyter-widgets/controls",
      "model_module_version": "1.4.0",
      "model_name": "IntProgressModel",
      "state": {
       "bar_style": "success",
       "description": "evaluating...",
       "layout": "IPY_MODEL_ddf60e4fb90b418c96e09f55ce0ab264",
       "max": 26791,
       "style": "IPY_MODEL_c21e2e997fae4886b895370906dec9dc",
       "value": 26791
      }
     },
     "e657ae5a1c2e4ec18f51f7f01782a309": {
      "model_module": "@jupyter-widgets/controls",
      "model_module_version": "1.4.0",
      "model_name": "HBoxModel",
      "state": {
       "children": [
        "IPY_MODEL_6583d1a2d0e049138971b3ff07df975d",
        "IPY_MODEL_339289f9c7f540aaa3b806091f29cfbd"
       ],
       "layout": "IPY_MODEL_1c0062a498734bb1a9279b29952c1885"
      }
     },
     "e661ecb9600d4fe59c3e3060ff0dae8b": {
      "model_module": "@jupyter-widgets/controls",
      "model_module_version": "1.4.0",
      "model_name": "ProgressStyleModel",
      "state": {
       "description_width": "initial"
      }
     },
     "e661ee491d7d47b9a95114a4dc92edca": {
      "model_module": "@jupyter-widgets/controls",
      "model_module_version": "1.4.0",
      "model_name": "DescriptionStyleModel",
      "state": {
       "description_width": ""
      }
     },
     "e6f00bc61ebf4bf5b8e71c1ff1e855ea": {
      "model_module": "@jupyter-widgets/controls",
      "model_module_version": "1.4.0",
      "model_name": "HTMLModel",
      "state": {
       "layout": "IPY_MODEL_36f32899cb61409a84f6e68b503cd13e",
       "style": "IPY_MODEL_d0c204b97a61450d8bc11be2784aceaf",
       "value": "100% 10/10 [01:39&lt;00:00,  9.96s/it]"
      }
     },
     "e799821084624dd7af8ad79f88c250f5": {
      "model_module": "@jupyter-widgets/base",
      "model_module_version": "1.1.0",
      "model_name": "LayoutModel",
      "state": {}
     },
     "e7e5bf624e50465d9222001078de847b": {
      "model_module": "@jupyter-widgets/controls",
      "model_module_version": "1.4.0",
      "model_name": "ProgressStyleModel",
      "state": {
       "description_width": "initial"
      }
     },
     "e823cccdacab4a4abbf768675f218335": {
      "model_module": "@jupyter-widgets/base",
      "model_module_version": "1.1.0",
      "model_name": "LayoutModel",
      "state": {}
     },
     "e910ce784b13484c855e9f19b8ab6b90": {
      "model_module": "@jupyter-widgets/base",
      "model_module_version": "1.1.0",
      "model_name": "LayoutModel",
      "state": {}
     },
     "e97f0f0dfda74a9a96353e71aec47112": {
      "model_module": "@jupyter-widgets/controls",
      "model_module_version": "1.4.0",
      "model_name": "HBoxModel",
      "state": {
       "children": [
        "IPY_MODEL_81bab518c507498e8642424b110c316c",
        "IPY_MODEL_a66126a8ed8347d7b03ddb97d838f98f"
       ],
       "layout": "IPY_MODEL_29030872e6ba4af1bb0ffe937d0949c0"
      }
     },
     "e9e111c7e2114ffb9cd21113c8636be2": {
      "model_module": "@jupyter-widgets/controls",
      "model_module_version": "1.4.0",
      "model_name": "IntProgressModel",
      "state": {
       "bar_style": "success",
       "description": "evaluating...",
       "layout": "IPY_MODEL_86ca3a7d3b3f4165842216c8796bd859",
       "max": 26791,
       "style": "IPY_MODEL_ad1cc17c4b394fc389192e6af97408e5",
       "value": 26791
      }
     },
     "eae99233e2c94256af8c46e325f041a1": {
      "model_module": "@jupyter-widgets/controls",
      "model_module_version": "1.4.0",
      "model_name": "DescriptionStyleModel",
      "state": {
       "description_width": ""
      }
     },
     "ebc23a569db74efb8152c79fd7aee81d": {
      "model_module": "@jupyter-widgets/base",
      "model_module_version": "1.1.0",
      "model_name": "LayoutModel",
      "state": {}
     },
     "ec0b554eef1d432d8ee509770293b6da": {
      "model_module": "@jupyter-widgets/controls",
      "model_module_version": "1.4.0",
      "model_name": "IntProgressModel",
      "state": {
       "bar_style": "success",
       "description": "evaluating...",
       "layout": "IPY_MODEL_7eaa317b2de3431d9f0045522f52f279",
       "max": 26791,
       "style": "IPY_MODEL_dbeb158b223d4846885f91911639f95e",
       "value": 26791
      }
     },
     "ec0fee766b1d46c0b573b7de4a02b742": {
      "model_module": "@jupyter-widgets/controls",
      "model_module_version": "1.4.0",
      "model_name": "ProgressStyleModel",
      "state": {
       "description_width": "initial"
      }
     },
     "ec21c34631cd42199a3bdcf02763b6a9": {
      "model_module": "@jupyter-widgets/controls",
      "model_module_version": "1.4.0",
      "model_name": "ProgressStyleModel",
      "state": {
       "description_width": "initial"
      }
     },
     "ec3ababbb3c946d4b884d3809a8acc97": {
      "model_module": "@jupyter-widgets/base",
      "model_module_version": "1.1.0",
      "model_name": "LayoutModel",
      "state": {}
     },
     "ec6c8621db244692beca1bd4eab290c7": {
      "model_module": "@jupyter-widgets/controls",
      "model_module_version": "1.4.0",
      "model_name": "IntProgressModel",
      "state": {
       "bar_style": "success",
       "description": "training...",
       "layout": "IPY_MODEL_cd391a1a74bd4806a0d26fc7c9500263",
       "max": 10,
       "style": "IPY_MODEL_799c4b19bdf84fa693813be3309a59e3",
       "value": 10
      }
     },
     "ed18ddfffb5c42ac8c2fa601bc9af7d9": {
      "model_module": "@jupyter-widgets/base",
      "model_module_version": "1.1.0",
      "model_name": "LayoutModel",
      "state": {}
     },
     "ed1f5a781acf46c281d343b9f04f4a4b": {
      "model_module": "@jupyter-widgets/controls",
      "model_module_version": "1.4.0",
      "model_name": "DescriptionStyleModel",
      "state": {
       "description_width": ""
      }
     },
     "ede777eda8f14365b2a82511251a9525": {
      "model_module": "@jupyter-widgets/base",
      "model_module_version": "1.1.0",
      "model_name": "LayoutModel",
      "state": {}
     },
     "ee131a06320c4d4ca46a109de559b322": {
      "model_module": "@jupyter-widgets/controls",
      "model_module_version": "1.4.0",
      "model_name": "ProgressStyleModel",
      "state": {
       "description_width": "initial"
      }
     },
     "eec81a8444244be9b2becf87a3d7f990": {
      "model_module": "@jupyter-widgets/controls",
      "model_module_version": "1.4.0",
      "model_name": "DescriptionStyleModel",
      "state": {
       "description_width": ""
      }
     },
     "eef7a422ebbb419d9b7f186c24fa5338": {
      "model_module": "@jupyter-widgets/controls",
      "model_module_version": "1.4.0",
      "model_name": "IntProgressModel",
      "state": {
       "bar_style": "success",
       "description": "evaluating...",
       "layout": "IPY_MODEL_21237d6041dc4501873d0a79615af802",
       "max": 26791,
       "style": "IPY_MODEL_17cf82e62e044542bd22b1772cb56cd0",
       "value": 26791
      }
     },
     "eefc4e5b780247f99ea37a19cccf86e0": {
      "model_module": "@jupyter-widgets/base",
      "model_module_version": "1.1.0",
      "model_name": "LayoutModel",
      "state": {}
     },
     "ef1922fc44b2485189c5befbe4e0595b": {
      "model_module": "@jupyter-widgets/controls",
      "model_module_version": "1.4.0",
      "model_name": "ProgressStyleModel",
      "state": {
       "description_width": "initial"
      }
     },
     "ef1cc680c4f943a8a9c5622216c001b6": {
      "model_module": "@jupyter-widgets/base",
      "model_module_version": "1.1.0",
      "model_name": "LayoutModel",
      "state": {}
     },
     "ef231e2ca0904ecfa0a5ecec79b48d89": {
      "model_module": "@jupyter-widgets/controls",
      "model_module_version": "1.4.0",
      "model_name": "HBoxModel",
      "state": {
       "children": [
        "IPY_MODEL_41e02b6973254c6fbde22b35893415c0",
        "IPY_MODEL_4bb27e82423042d295e407c3d7637fde"
       ],
       "layout": "IPY_MODEL_cdcd61c66a034924ac11a2f9115123d5"
      }
     },
     "ef7d5aa9357d4ba2baa0ecdf74bc99ab": {
      "model_module": "@jupyter-widgets/base",
      "model_module_version": "1.1.0",
      "model_name": "LayoutModel",
      "state": {}
     },
     "f0240630fca74cc8b026d70ce80b3fdf": {
      "model_module": "@jupyter-widgets/controls",
      "model_module_version": "1.4.0",
      "model_name": "ProgressStyleModel",
      "state": {
       "description_width": "initial"
      }
     },
     "f1cccc2c431c49febc5fb388d41d1586": {
      "model_module": "@jupyter-widgets/controls",
      "model_module_version": "1.4.0",
      "model_name": "DescriptionStyleModel",
      "state": {
       "description_width": ""
      }
     },
     "f23030d7b1af411c94dc19bdd961276c": {
      "model_module": "@jupyter-widgets/controls",
      "model_module_version": "1.4.0",
      "model_name": "DescriptionStyleModel",
      "state": {
       "description_width": ""
      }
     },
     "f33b1e51ded8437abd997d2f2f2bc488": {
      "model_module": "@jupyter-widgets/base",
      "model_module_version": "1.1.0",
      "model_name": "LayoutModel",
      "state": {}
     },
     "f347e5e67e2340508ea8a0899af49091": {
      "model_module": "@jupyter-widgets/controls",
      "model_module_version": "1.4.0",
      "model_name": "IntProgressModel",
      "state": {
       "bar_style": "success",
       "description": "evaluating...",
       "layout": "IPY_MODEL_b9d8167696194a3293848c623fa03a25",
       "max": 26791,
       "style": "IPY_MODEL_9cef528261c041aaaa5bcb7a543b870c",
       "value": 26791
      }
     },
     "f4438dd3612e4d8d850e1bd179d5e42b": {
      "model_module": "@jupyter-widgets/base",
      "model_module_version": "1.1.0",
      "model_name": "LayoutModel",
      "state": {}
     },
     "f4bacdf44e774aed8e26392220f54fa4": {
      "model_module": "@jupyter-widgets/controls",
      "model_module_version": "1.4.0",
      "model_name": "HBoxModel",
      "state": {
       "children": [
        "IPY_MODEL_6f8db9c18ddf4ca5871657e9b0d5f88d",
        "IPY_MODEL_8c5dfcd9e5294d99bb2781b41c5f7d57"
       ],
       "layout": "IPY_MODEL_57f88ee1f0b1481e8399715354f6bbf9"
      }
     },
     "f4d81a0fd49d408f9ef2ed73eb910c96": {
      "model_module": "@jupyter-widgets/controls",
      "model_module_version": "1.4.0",
      "model_name": "ProgressStyleModel",
      "state": {
       "description_width": "initial"
      }
     },
     "f545f5bd4ef94386b492b309bf83618f": {
      "model_module": "@jupyter-widgets/controls",
      "model_module_version": "1.4.0",
      "model_name": "HBoxModel",
      "state": {
       "children": [
        "IPY_MODEL_2e311fbf6f8742a4a8c6236b0a7114c9",
        "IPY_MODEL_0411425462e040bab50ace7c216f7ecd"
       ],
       "layout": "IPY_MODEL_fab89555a9cf47b4bb9ed83503684775"
      }
     },
     "f645e056343148b1a1bbcac2ec7d8b0c": {
      "model_module": "@jupyter-widgets/base",
      "model_module_version": "1.1.0",
      "model_name": "LayoutModel",
      "state": {}
     },
     "f6d1dca3fc444ac5832995a29a0dca6a": {
      "model_module": "@jupyter-widgets/controls",
      "model_module_version": "1.4.0",
      "model_name": "DescriptionStyleModel",
      "state": {
       "description_width": ""
      }
     },
     "f790910274454cd9acc72308861c1362": {
      "model_module": "@jupyter-widgets/controls",
      "model_module_version": "1.4.0",
      "model_name": "IntProgressModel",
      "state": {
       "bar_style": "success",
       "description": "evaluating...",
       "layout": "IPY_MODEL_d652c68b0f6648baa17412916a5c32f6",
       "max": 26791,
       "style": "IPY_MODEL_b62d3f3058d2469e8b01188279f8c023",
       "value": 26791
      }
     },
     "f83daeba095145dc9fc1af1b73d16400": {
      "model_module": "@jupyter-widgets/controls",
      "model_module_version": "1.4.0",
      "model_name": "DescriptionStyleModel",
      "state": {
       "description_width": ""
      }
     },
     "f861000df70a4c4ba37ac554d0afbdec": {
      "model_module": "@jupyter-widgets/controls",
      "model_module_version": "1.4.0",
      "model_name": "IntProgressModel",
      "state": {
       "bar_style": "success",
       "description": "training...",
       "layout": "IPY_MODEL_6ef433064f544b908809699e27116cfd",
       "max": 10,
       "style": "IPY_MODEL_6ee30173392048fb8dcc5945287ea0ec",
       "value": 10
      }
     },
     "f8a721321768483287a9c31d0212a4d2": {
      "model_module": "@jupyter-widgets/controls",
      "model_module_version": "1.4.0",
      "model_name": "DescriptionStyleModel",
      "state": {
       "description_width": ""
      }
     },
     "f9d9b671294546e1b9ebea260b92d1e8": {
      "model_module": "@jupyter-widgets/base",
      "model_module_version": "1.1.0",
      "model_name": "LayoutModel",
      "state": {}
     },
     "fab89555a9cf47b4bb9ed83503684775": {
      "model_module": "@jupyter-widgets/base",
      "model_module_version": "1.1.0",
      "model_name": "LayoutModel",
      "state": {}
     },
     "fafe0595e0ed47d48057fd17db30aa72": {
      "model_module": "@jupyter-widgets/controls",
      "model_module_version": "1.4.0",
      "model_name": "HBoxModel",
      "state": {
       "children": [
        "IPY_MODEL_d1659e415d80475786d876a22d5ee26d",
        "IPY_MODEL_65eda585c3f24880ade7b194587d0f6c"
       ],
       "layout": "IPY_MODEL_aa252d2e759f4e02a3d507bcea216da2"
      }
     },
     "fb3a491731884bff80f7b857b57bed0c": {
      "model_module": "@jupyter-widgets/controls",
      "model_module_version": "1.4.0",
      "model_name": "HBoxModel",
      "state": {
       "children": [
        "IPY_MODEL_9a1b1e3d8ca74d819b7c24b4b74d75e6",
        "IPY_MODEL_e6f00bc61ebf4bf5b8e71c1ff1e855ea"
       ],
       "layout": "IPY_MODEL_a094bbbf517b49d9b476714264e5da5f"
      }
     },
     "fb7312e7dfa94a1ababf3149b05d89b5": {
      "model_module": "@jupyter-widgets/controls",
      "model_module_version": "1.4.0",
      "model_name": "IntProgressModel",
      "state": {
       "bar_style": "success",
       "description": "evaluating...",
       "layout": "IPY_MODEL_4ea4fb41119a4d399c46720af2f87123",
       "max": 26791,
       "style": "IPY_MODEL_4207b96e8ed546a998d242fbd88fe880",
       "value": 26791
      }
     },
     "fbc6ae3435dd4de599b28a1cece1002a": {
      "model_module": "@jupyter-widgets/controls",
      "model_module_version": "1.4.0",
      "model_name": "HBoxModel",
      "state": {
       "children": [
        "IPY_MODEL_e651f5cf6e3a4945892e0e845fff0098",
        "IPY_MODEL_467d85a3c9be4662868777626cacbb26"
       ],
       "layout": "IPY_MODEL_5e7fdbbf2f1e4556bb98a0aa915bce86"
      }
     },
     "fc70d8a8e5574d6387f4e63093be837d": {
      "model_module": "@jupyter-widgets/base",
      "model_module_version": "1.1.0",
      "model_name": "LayoutModel",
      "state": {}
     },
     "fc82084a47fc457eaba28ef1fb2d43d7": {
      "model_module": "@jupyter-widgets/base",
      "model_module_version": "1.1.0",
      "model_name": "LayoutModel",
      "state": {}
     },
     "fc8cf324ba4f4c0397d191e033906331": {
      "model_module": "@jupyter-widgets/base",
      "model_module_version": "1.1.0",
      "model_name": "LayoutModel",
      "state": {}
     },
     "fcccd36f3abc4e6b92a08589aeeeb815": {
      "model_module": "@jupyter-widgets/controls",
      "model_module_version": "1.4.0",
      "model_name": "ProgressStyleModel",
      "state": {
       "description_width": "initial"
      }
     },
     "fd13fba9217746f8b8e51ca5013bf416": {
      "model_module": "@jupyter-widgets/base",
      "model_module_version": "1.1.0",
      "model_name": "LayoutModel",
      "state": {}
     },
     "fe4e2e49c19d4665ada976298c0b72f9": {
      "model_module": "@jupyter-widgets/controls",
      "model_module_version": "1.4.0",
      "model_name": "HTMLModel",
      "state": {
       "layout": "IPY_MODEL_5a9981450df44c05a5d03677454111f4",
       "style": "IPY_MODEL_606f779105a443489c6ca15aaa29a935",
       "value": "100% 26791/26791 [01:06&lt;00:00, 401.89it/s]"
      }
     },
     "fe5e3c5f7ce44a9cba5e23be661ef817": {
      "model_module": "@jupyter-widgets/controls",
      "model_module_version": "1.4.0",
      "model_name": "HTMLModel",
      "state": {
       "layout": "IPY_MODEL_235e46d78cca4b019ae065b05903644e",
       "style": "IPY_MODEL_5c5928f85c7a435ab7b6263b359e90eb",
       "value": "100% 26791/26791 [03:47&lt;00:00, 117.59it/s]"
      }
     },
     "fed56fbec5904d189a8755cf446fd4e1": {
      "model_module": "@jupyter-widgets/controls",
      "model_module_version": "1.4.0",
      "model_name": "ProgressStyleModel",
      "state": {
       "description_width": "initial"
      }
     },
     "ff3f821f3e4441b98637658b7608e52e": {
      "model_module": "@jupyter-widgets/controls",
      "model_module_version": "1.4.0",
      "model_name": "ProgressStyleModel",
      "state": {
       "description_width": "initial"
      }
     },
     "ffbc6604e20a47c182daf01e060bf754": {
      "model_module": "@jupyter-widgets/controls",
      "model_module_version": "1.4.0",
      "model_name": "HTMLModel",
      "state": {
       "layout": "IPY_MODEL_8a3c508f49a44d6bae3b3fc1f902f7b5",
       "style": "IPY_MODEL_b290261a1c4443168ff4176454f2c3d0",
       "value": "100% 26791/26791 [01:29&lt;00:00, 299.32it/s]"
      }
     }
    },
    "version_major": 2,
    "version_minor": 0
   }
  }
 },
 "nbformat": 4,
 "nbformat_minor": 2
}
