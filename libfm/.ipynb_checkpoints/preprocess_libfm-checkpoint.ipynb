{
 "cells": [
  {
   "cell_type": "code",
   "execution_count": 1,
   "metadata": {},
   "outputs": [
    {
     "name": "stdout",
     "output_type": "stream",
     "text": [
      "/Users/z0g00mx/Desktop/Intern_project/libFM\n",
      "\u001b[31mMakefile\u001b[m\u001b[m               \u001b[31mlicense.txt\u001b[m\u001b[m            \u001b[34mscripts\u001b[m\u001b[m\n",
      "\u001b[31mREADME.md\u001b[m\u001b[m              preprocess_libfm.ipynb \u001b[34msrc\u001b[m\u001b[m\n"
     ]
    }
   ],
   "source": [
    "import os\n",
    "import sys\n",
    "import json\n",
    "import numpy as np\n",
    "import numba\n",
    "\n",
    "from collections import defaultdict, Counter\n",
    "\n",
    "!pwd\n",
    "!ls"
   ]
  },
  {
   "cell_type": "markdown",
   "metadata": {},
   "source": [
    "In this file, I preprocess the queried data to standard text format for factorization machine API in `libFM`."
   ]
  },
  {
   "cell_type": "code",
   "execution_count": 3,
   "metadata": {},
   "outputs": [
    {
     "data": {
      "text/plain": [
       "(34619, 47880)"
      ]
     },
     "execution_count": 3,
     "metadata": {},
     "output_type": "execute_result"
    }
   ],
   "source": [
    "# read idx files\n",
    "with open('../../cid2idx.json', 'r') as m1, open('../../itemid2idx.json', 'r') as m2:\n",
    "    user_map, item_map = json.load(m1), json.load(m2)\n",
    "\n",
    "n_users, n_items = len(user_map), len(item_map)\n",
    "n_users, n_items"
   ]
  },
  {
   "cell_type": "code",
   "execution_count": 7,
   "metadata": {},
   "outputs": [
    {
     "name": "stdout",
     "output_type": "stream",
     "text": [
      "transforming file ../../train.txt to ../../train.txt.libfm...\n",
      "transforming file ../../test.txt to ../../test.txt.libfm...\n"
     ]
    }
   ],
   "source": [
    "# convert recommender files\n",
    "## not separately\n",
    "#!./scripts/triple_format_to_libfm.pl -in ../../train.txt -target 2 -delete_column 3 -separator \"\\t\"\n",
    "#!./scripts/triple_format_to_libfm.pl -in ../../test.txt -target 2 -delete_column 3 -separator \"\\t\"\n",
    "\n",
    "!./scripts/triple_format_to_libfm.pl -in ../../train.txt,../../test.txt -target 2 -separator \"\\t\""
   ]
  },
  {
   "cell_type": "code",
   "execution_count": 8,
   "metadata": {},
   "outputs": [
    {
     "name": "stdout",
     "output_type": "stream",
     "text": [
      "/bin/sh: ./: is a directory\r\n"
     ]
    }
   ],
   "source": [
    "# run model\n",
    "!./libFM -task c -train ../../train.txt.libfm ../../test.txt.libfm \\\n",
    "-dim '1,1,8' -iter 1000 -method als -regular '0,0,10' -init_stdev 0.1"
   ]
  },
  {
   "cell_type": "markdown",
   "metadata": {},
   "source": [
    "### Reference\n",
    "[Factorization Machines with libFM](https://www.csie.ntu.edu.tw/~b97053/paper/Factorization%20Machines%20with%20libFM.pdf)"
   ]
  },
  {
   "cell_type": "code",
   "execution_count": null,
   "metadata": {},
   "outputs": [],
   "source": []
  }
 ],
 "metadata": {
  "kernelspec": {
   "display_name": "Python 3",
   "language": "python",
   "name": "python3"
  },
  "language_info": {
   "codemirror_mode": {
    "name": "ipython",
    "version": 3
   },
   "file_extension": ".py",
   "mimetype": "text/x-python",
   "name": "python",
   "nbconvert_exporter": "python",
   "pygments_lexer": "ipython3",
   "version": "3.7.3"
  }
 },
 "nbformat": 4,
 "nbformat_minor": 2
}
