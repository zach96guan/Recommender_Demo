{
 "cells": [
  {
   "cell_type": "markdown",
   "metadata": {},
   "source": [
    "# Contents\n",
    "\n",
    "- Dataloader\n",
    "- Implementation\n",
    "- Train\n",
    "- Evaluation\n",
    "- Test\n",
    "- Prediction\n",
    "- Reference"
   ]
  },
  {
   "cell_type": "code",
   "execution_count": 1,
   "metadata": {},
   "outputs": [],
   "source": [
    "import os\n",
    "import sys\n",
    "import math\n",
    "import pandas as pd\n",
    "import numpy as np \n",
    "import random\n",
    "import matplotlib.pyplot as plt\n",
    "\n",
    "from collections import defaultdict, Counter\n",
    "from scipy.sparse import csr_matrix, dok_matrix\n",
    "from tqdm import tqdm_notebook as tqdm\n",
    "from itertools import islice\n",
    "\n",
    "from sklearn.preprocessing import normalize\n",
    "from sklearn.neighbors import NearestNeighbors\n",
    "from sklearn.metrics import roc_auc_score, accuracy_score"
   ]
  },
  {
   "cell_type": "markdown",
   "metadata": {},
   "source": [
    "In this project, I apply **Bayesian Personalized Ranking** for **implicit** feedback Walmart.com user-item transaction dataset to implement a user response based and personalized ranking recommendation system for future customers."
   ]
  },
  {
   "cell_type": "markdown",
   "metadata": {},
   "source": [
    "# Dataloader\n",
    "\n",
    "Read preprocessed textfiles and convert into sparse matrix format."
   ]
  },
  {
   "cell_type": "code",
   "execution_count": 2,
   "metadata": {},
   "outputs": [
    {
     "name": "stdout",
     "output_type": "stream",
     "text": [
      "Train dimension: (1180452, 3), Number of users: 34619\n",
      "Validation dimension: (234524, 3), Number of users: 25048\n",
      "Test dimension: (125816, 3), Number of users: 18612\n"
     ]
    }
   ],
   "source": [
    "# read preprocessed rating textfile\n",
    "names = ['userId', 'itemId', 'rating']\n",
    "df = pd.read_csv('../Data/processed_train_2.txt', sep='\\t', header=None, names=names)\n",
    "df_v = pd.read_csv('../Data/processed_validation_2.txt', sep='\\t', header=None, names=names)\n",
    "df_t = pd.read_csv('../Data/processed_test_2.txt', sep='\\t', header=None, names=names)\n",
    "\n",
    "print('Train dimension: {}, Number of users: {}'.format(df.shape, len(set(df.userId))))\n",
    "print('Validation dimension: {}, Number of users: {}'.format(df_v.shape, len(set(df_v.userId))))\n",
    "print('Test dimension: {}, Number of users: {}'.format(df_t.shape, len(set(df_t.userId))))"
   ]
  },
  {
   "cell_type": "code",
   "execution_count": 28,
   "metadata": {},
   "outputs": [
    {
     "data": {
      "text/plain": [
       "(34209, 47857)"
      ]
     },
     "execution_count": 28,
     "metadata": {},
     "output_type": "execute_result"
    }
   ],
   "source": [
    "%store -r train_user_map\n",
    "%store -r train_item_map\n",
    "%store -r cid_map\n",
    "%store -r catalog_item_id_map\n",
    "\n",
    "N, M = len(train_user_map), len(train_item_map)\n",
    "N, M"
   ]
  },
  {
   "cell_type": "code",
   "execution_count": 4,
   "metadata": {},
   "outputs": [],
   "source": [
    "# convert raw data to sparse user-item matrix\n",
    "def create_matrix(data, user_col, item_col, rating_col, N, M):\n",
    "    \"\"\"\n",
    "    rtype: scipy sparse matrix csr_matrix, [n_users, n_items]\n",
    "    \"\"\"    \n",
    "    rows = np.array(data[user_col])\n",
    "    cols = np.array(data[item_col])\n",
    "    ratings = np.array(data[rating_col])\n",
    "    \n",
    "    result = csr_matrix((ratings, (rows, cols)), shape=(N, M))\n",
    "    result.eliminate_zeros()\n",
    "    return result, data"
   ]
  },
  {
   "cell_type": "code",
   "execution_count": 5,
   "metadata": {},
   "outputs": [],
   "source": [
    "X_train, df = create_matrix(df, 'userId', 'itemId', 'rating', N, M)\n",
    "X_validation, df_v = create_matrix(df_v, 'userId', 'itemId', 'rating', N, M)\n",
    "X_test, df_t = create_matrix(df_t, 'userId', 'itemId', 'rating', N, M)"
   ]
  },
  {
   "cell_type": "markdown",
   "metadata": {},
   "source": [
    "# Implementation\n",
    "Build the recommender by `BPR` based matrix factorization for implicit feedback dataset."
   ]
  },
  {
   "cell_type": "code",
   "execution_count": 6,
   "metadata": {},
   "outputs": [],
   "source": [
    "# Bayesian Personalized Ranking\n",
    "class BPR:\n",
    "    def __init__(self, n_factors, n_iters, _lambda, lr, batch_size=100, seed=None):\n",
    "        self.n_factors = n_factors\n",
    "        self.n_iters = n_iters\n",
    "        # self.epsilon = epsilon\n",
    "        self._lambda = _lambda\n",
    "        self.lr = lr\n",
    "        self.batch_size = batch_size\n",
    "        self.seed = seed\n",
    "    \n",
    "    \n",
    "    def fit(self, ratings):\n",
    "        n_users, n_items = ratings.shape\n",
    "        indptr, indices = ratings.indptr, ratings.indices\n",
    "        n_batchs = n_users // self.batch_size\n",
    "        \n",
    "        rstate = np.random.RandomState(self.seed)\n",
    "        self.user_factors = rstate.normal(size=(n_users, self.n_factors))\n",
    "        self.item_factors = rstate.normal(size=(n_items, self.n_factors))\n",
    "        \n",
    "        # self.train_loss = []\n",
    "        # delta_loss = float('inf')\n",
    "        # _iter = 0\n",
    "        # while delta_loss >= self.epsilon:\n",
    "        for n_iter in range(self.n_iters):\n",
    "        # for n_iter in tqdm(np.arange(self.n_iters), desc='training...'):\n",
    "            # loss_list = []\n",
    "            for _ in range(n_batchs):\n",
    "                users_tmp, pos_items_tmp, neg_items_tmp = self._sample(n_users, n_items, indices, indptr)\n",
    "                # batch_loss = self._step(users_tmp, pos_items_tmp, neg_items_tmp)\n",
    "                self._step(users_tmp, pos_items_tmp, neg_items_tmp)\n",
    "                # loss_list.append(batch_loss)\n",
    "            \n",
    "            # loss_iter = np.average(loss_list)\n",
    "            # self.train_loss.append(loss_iter)\n",
    "            # print('Iter={}, Loss={}'.format(_iter, loss_iter))\n",
    "            # _iter += 1\n",
    "            # if len(self.train_loss) > 1:\n",
    "                # delta_loss = np.abs(self.train_loss[-2] - self.train_loss[-1])\n",
    "    \n",
    "    \n",
    "    # bootstrap sampling with replacement for optimization\n",
    "    def _sample(self, n_users, n_items, indices, indptr):\n",
    "        sampled_users = np.random.choice(n_users, size=self.batch_size, replace=False)\n",
    "        sampled_pos_items = np.zeros(self.batch_size, dtype=np.int)  ## fix bug: integer index\n",
    "        sampled_neg_items = np.zeros(self.batch_size, dtype=np.int)\n",
    "        \n",
    "        for i, user in enumerate(sampled_users):\n",
    "            pos_items = indices[indptr[user]:indptr[user + 1]]  \n",
    "            if len(pos_items) == 0:\n",
    "                continue\n",
    "\n",
    "            pos_item = np.random.choice(pos_items)\n",
    "            neg_item = np.random.choice(n_items)\n",
    "            while neg_item in pos_items:\n",
    "                neg_item = np.random.choice(n_items)\n",
    "\n",
    "            sampled_pos_items[i] = pos_item\n",
    "            sampled_neg_items[i] = neg_item\n",
    "        return sampled_users, sampled_pos_items, sampled_neg_items\n",
    "    \n",
    "    \n",
    "    def _step(self, u, i, j):\n",
    "        user_u = self.user_factors[u]\n",
    "        item_i, item_j = self.item_factors[i], self.item_factors[j]\n",
    "        \n",
    "        # perform a hadamard product instead of dot product to speedup\n",
    "        r_uij = np.sum(user_u * (item_i-item_j), axis=1)\n",
    "        \n",
    "        # triplet loss\n",
    "        # mse = np.sum(np.log(1 + np.exp(-r_uij)))\n",
    "        # reg = -sum(u**2 for u in user_u) - sum(i**2 for i in item_i) - sum(j**2 for j in item_j)\n",
    "        # loss = mse + self._lambda * reg\n",
    "        \n",
    "        sigmoid_tmp = np.exp(-r_uij) / (1 + np.exp(-r_uij))  # derivative temp\n",
    "        sigmoid = np.tile(sigmoid_tmp, (self.n_factors, 1)).T  # match dimension\n",
    "        \n",
    "        # update gradient descent\n",
    "        grad_u = -sigmoid * (item_i-item_j) + self._lambda * user_u\n",
    "        grad_i = -sigmoid * user_u + self._lambda * item_i\n",
    "        grad_j = sigmoid * user_u + self._lambda * item_j    \n",
    "        self.user_factors[u] -= self.lr * grad_u\n",
    "        self.item_factors[i] -= self.lr * grad_i\n",
    "        self.item_factors[j] -= self.lr * grad_j\n",
    "        # return loss\n",
    "    \n",
    "    \n",
    "    def predict(self):\n",
    "        prediction = self.user_factors.dot(self.item_factors.T)\n",
    "        return prediction\n",
    "\n",
    "    \n",
    "    def _predict_user(self, user):\n",
    "        u_pred = self.user_factors[user].dot(self.item_factors.T)\n",
    "        return u_pred\n",
    "    \n",
    "    \n",
    "    def _recommend_user(self, user, N=5):\n",
    "        u_pred = self._predict_user(user)\n",
    "        # including the items that user already bought\n",
    "        indices = np.argpartition(u_pred, -N)[-N:]  # faster than argsort straightly\n",
    "        ptrs = np.argsort(u_pred[indices])[::-1]\n",
    "        ranked = indices[ptrs]\n",
    "        \n",
    "        result = list(islice((rec for rec in ranked), N))\n",
    "        # if excluding the items that user liked\n",
    "        # result = list(slice(rec for rec in ranked if rec not in set(ratings[user].indices)), N)\n",
    "        return result\n",
    "    \n",
    "    \n",
    "    def recommend(self, users, N=5):\n",
    "        n_users = len(users)\n",
    "        recommendation = np.zeros((n_users, N))\n",
    "        \n",
    "        for i, user_id in enumerate(users):\n",
    "            recommendation[i] = self._recommend_user(user_id, N)\n",
    "        return recommendation\n",
    "    \n",
    "    \n",
    "    def _similar_items(self, item_ids, N=5):\n",
    "        normed_factors = normalize(self.item_factors)\n",
    "        # kd-tree for nearest neighbour search by Euclidean metirc\n",
    "        knn = NearestNeighbors(n_neighbors=N+1, metric='euclidean')\n",
    "        knn.fit(normed_factors)\n",
    "        \n",
    "        selected_items = normed_factors[item_ids]\n",
    "        _, items = knn.kneighbors(selected_items)\n",
    "        similar_items = items[:,1:]\n",
    "        return similar_items"
   ]
  },
  {
   "cell_type": "markdown",
   "metadata": {},
   "source": [
    "# Train"
   ]
  },
  {
   "cell_type": "code",
   "execution_count": 28,
   "metadata": {},
   "outputs": [
    {
     "name": "stdout",
     "output_type": "stream",
     "text": [
      "Iter=0, Loss=126.34252700985499\n",
      "Iter=1, Loss=120.05894503535569\n",
      "Iter=2, Loss=118.12594351655034\n",
      "Iter=3, Loss=113.87182884994412\n",
      "Iter=4, Loss=110.94416933447268\n",
      "Iter=5, Loss=107.58445916916882\n",
      "Iter=6, Loss=104.94378826603256\n",
      "Iter=7, Loss=100.96713983488402\n",
      "Iter=8, Loss=97.76577435818557\n",
      "Iter=9, Loss=95.78156929954655\n",
      "Iter=10, Loss=93.18786953584446\n",
      "Iter=11, Loss=92.64470415231102\n",
      "Iter=12, Loss=89.36549586434684\n",
      "Iter=13, Loss=87.94074065595849\n",
      "Iter=14, Loss=85.62149791138715\n",
      "Iter=15, Loss=83.97347092766329\n",
      "Iter=16, Loss=83.22655739904441\n",
      "Iter=17, Loss=78.65652929372045\n",
      "Iter=18, Loss=78.12851619778158\n",
      "Iter=19, Loss=77.7674450536568\n",
      "Iter=20, Loss=75.28880601760622\n",
      "Iter=21, Loss=73.53830023925438\n",
      "Iter=22, Loss=73.45580810517671\n",
      "Iter=23, Loss=70.48862772566432\n",
      "Iter=24, Loss=69.63103034261167\n",
      "Iter=25, Loss=69.37502431116462\n",
      "Iter=26, Loss=66.9516628641201\n",
      "Iter=27, Loss=66.15096989329136\n",
      "Iter=28, Loss=65.58779333317398\n",
      "Iter=29, Loss=64.24568467285303\n",
      "Iter=30, Loss=64.29801265141049\n",
      "Iter=31, Loss=62.56364177289433\n",
      "Iter=32, Loss=61.44191349042354\n",
      "Iter=33, Loss=61.31849732002784\n",
      "Iter=34, Loss=59.476589104334565\n",
      "Iter=35, Loss=59.036036461035685\n",
      "Iter=36, Loss=57.88274371678148\n",
      "Iter=37, Loss=57.871120329999805\n",
      "Iter=38, Loss=56.152771343305254\n",
      "Iter=39, Loss=55.453827885636734\n",
      "Iter=40, Loss=54.71928854765423\n",
      "Iter=41, Loss=53.74311201792861\n",
      "Iter=42, Loss=52.74411707074626\n",
      "Iter=43, Loss=53.09083543700382\n",
      "Iter=44, Loss=51.45597139527736\n",
      "Iter=45, Loss=51.04285308819985\n",
      "Iter=46, Loss=50.47952987321808\n",
      "Iter=47, Loss=49.323723841051056\n",
      "Iter=48, Loss=47.869585938785235\n",
      "Iter=49, Loss=47.51954521361319\n",
      "Iter=50, Loss=45.9284983268439\n",
      "Iter=51, Loss=46.1842181576467\n",
      "Iter=52, Loss=46.79431296830791\n",
      "Iter=53, Loss=45.53448206044051\n",
      "Iter=54, Loss=44.737572159774594\n",
      "Iter=55, Loss=44.071264973844805\n",
      "Iter=56, Loss=42.99417328816555\n",
      "Iter=57, Loss=42.36929763837854\n",
      "Iter=58, Loss=42.66183785079762\n",
      "Iter=59, Loss=41.058135349752476\n",
      "Iter=60, Loss=40.46992609961458\n",
      "Iter=61, Loss=39.95320898307048\n",
      "Iter=62, Loss=39.48262651772178\n",
      "Iter=63, Loss=38.02811433828343\n",
      "Iter=64, Loss=38.20402646559747\n",
      "Iter=65, Loss=36.97228518417682\n",
      "Iter=66, Loss=36.573709403345084\n",
      "Iter=67, Loss=36.11402088914025\n",
      "Iter=68, Loss=35.734960176226046\n",
      "Iter=69, Loss=34.80378373701899\n",
      "Iter=70, Loss=33.59151957990507\n",
      "Iter=71, Loss=33.34664775700508\n",
      "Iter=72, Loss=32.78446500570663\n",
      "Iter=73, Loss=32.11104288957013\n",
      "Iter=74, Loss=31.283670807562522\n",
      "Iter=75, Loss=31.58761204629246\n",
      "Iter=76, Loss=30.58964637575676\n",
      "Iter=77, Loss=29.91180526426661\n",
      "Iter=78, Loss=29.993890856824798\n",
      "Iter=79, Loss=28.833450413506913\n",
      "Iter=80, Loss=28.418914239569194\n",
      "Iter=81, Loss=27.70797798593701\n",
      "Iter=82, Loss=27.256935605782356\n",
      "Iter=83, Loss=26.66849893125913\n",
      "Iter=84, Loss=26.590287966596886\n",
      "Iter=85, Loss=26.41484141142634\n",
      "Iter=86, Loss=25.609569946081518\n",
      "Iter=87, Loss=25.34435420727309\n",
      "Iter=88, Loss=25.415868864662198\n",
      "Iter=89, Loss=24.860517936389407\n",
      "Iter=90, Loss=23.788343260270945\n",
      "Iter=91, Loss=23.73941541592028\n",
      "Iter=92, Loss=23.591483116800994\n",
      "Iter=93, Loss=23.08366925358811\n",
      "Iter=94, Loss=22.888289842252266\n",
      "Iter=95, Loss=22.40289500322309\n",
      "Iter=96, Loss=22.229691357427956\n",
      "Iter=97, Loss=22.233691651869297\n",
      "Iter=98, Loss=21.74327242469646\n",
      "Iter=99, Loss=21.445605829567953\n",
      "Iter=100, Loss=21.049278552915023\n",
      "Iter=101, Loss=20.60315696787747\n",
      "Iter=102, Loss=20.561097857440203\n",
      "Iter=103, Loss=20.996680322088256\n",
      "Iter=104, Loss=20.17383094893161\n",
      "Iter=105, Loss=19.87542835438519\n",
      "Iter=106, Loss=19.56248999497835\n",
      "Iter=107, Loss=19.51393934994482\n",
      "Iter=108, Loss=19.520559671116064\n",
      "Iter=109, Loss=19.091547156135412\n",
      "Iter=110, Loss=18.881785197577464\n",
      "Iter=111, Loss=18.938745830380782\n",
      "Iter=112, Loss=18.332611947982656\n",
      "Iter=113, Loss=18.384882753472326\n",
      "Iter=114, Loss=18.311576642441445\n",
      "Iter=115, Loss=18.41829274411684\n",
      "Iter=116, Loss=18.11865727847151\n",
      "Iter=117, Loss=17.57870910462926\n",
      "Iter=118, Loss=17.551088034292007\n",
      "Iter=119, Loss=17.775074545521537\n",
      "Iter=120, Loss=17.721352869888594\n",
      "Iter=121, Loss=17.58188624690942\n",
      "Iter=122, Loss=17.026149580903137\n",
      "Iter=123, Loss=17.252761229740226\n",
      "Iter=124, Loss=16.96065144336558\n",
      "Iter=125, Loss=17.008461707679242\n",
      "Iter=126, Loss=16.52484860852531\n",
      "Iter=127, Loss=16.58208360923054\n",
      "Iter=128, Loss=16.345822198909328\n",
      "Iter=129, Loss=16.06187040719616\n",
      "Iter=130, Loss=16.234847999197964\n",
      "Iter=131, Loss=16.029438751310877\n",
      "Iter=132, Loss=15.986803248330217\n",
      "Iter=133, Loss=15.924024288207551\n",
      "Iter=134, Loss=15.49354808408461\n",
      "Iter=135, Loss=15.816821614974508\n",
      "Iter=136, Loss=15.652322885354433\n",
      "Iter=137, Loss=15.25495777194279\n",
      "Iter=138, Loss=15.366857879543003\n",
      "Iter=139, Loss=15.30142741060233\n",
      "Iter=140, Loss=15.225605643091667\n",
      "Iter=141, Loss=14.996574888763465\n",
      "Iter=142, Loss=15.045602708138684\n",
      "Iter=143, Loss=14.936842907258637\n",
      "Iter=144, Loss=14.736818595217596\n",
      "Iter=145, Loss=14.646823402817224\n",
      "Iter=146, Loss=14.733670454972327\n",
      "Iter=147, Loss=14.521056290675617\n",
      "Iter=148, Loss=14.127044850433624\n",
      "Iter=149, Loss=14.215080513051584\n",
      "Iter=150, Loss=14.460032116504985\n",
      "Iter=151, Loss=14.619033588059711\n",
      "Iter=152, Loss=14.098999116627363\n",
      "Iter=153, Loss=14.312895973880144\n",
      "Iter=154, Loss=13.976457608645635\n",
      "Iter=155, Loss=14.267950709914208\n",
      "Iter=156, Loss=13.888668279293181\n",
      "Iter=157, Loss=14.132881534625286\n",
      "Iter=158, Loss=14.054061015653145\n",
      "Iter=159, Loss=13.94581037075697\n",
      "Iter=160, Loss=13.686826584418865\n",
      "Iter=161, Loss=13.676011772988943\n",
      "Iter=162, Loss=13.688929517858066\n",
      "Iter=163, Loss=13.49788853161509\n",
      "Iter=164, Loss=13.558598857353212\n",
      "Iter=165, Loss=13.378362243227281\n",
      "Iter=166, Loss=13.652656543632295\n",
      "Iter=167, Loss=13.212735112312764\n",
      "Iter=168, Loss=13.433560530462923\n",
      "Iter=169, Loss=13.180090966274895\n",
      "Iter=170, Loss=13.360947654798446\n",
      "Iter=171, Loss=13.269563204884188\n",
      "Iter=172, Loss=12.942109387543345\n",
      "Iter=173, Loss=13.20049294136835\n",
      "Iter=174, Loss=13.114070102784234\n",
      "Iter=175, Loss=13.06480755226236\n",
      "Iter=176, Loss=12.73545226482118\n",
      "Iter=177, Loss=12.909549356130494\n",
      "Iter=178, Loss=12.76018095989186\n",
      "Iter=179, Loss=12.896607281024997\n",
      "Iter=180, Loss=12.828304163441642\n",
      "Iter=181, Loss=12.881127446582408\n",
      "Iter=182, Loss=12.651135647151833\n",
      "Iter=183, Loss=12.537786141070473\n",
      "Iter=184, Loss=12.787856769975225\n",
      "Iter=185, Loss=12.654149722045528\n",
      "Iter=186, Loss=12.495441982135105\n",
      "Iter=187, Loss=12.34780724515208\n",
      "Iter=188, Loss=12.3859772478974\n",
      "Iter=189, Loss=12.486005839430982\n",
      "Iter=190, Loss=12.519353143292049\n",
      "Iter=191, Loss=12.275618070371507\n",
      "Iter=192, Loss=12.060064538995224\n",
      "Iter=193, Loss=12.412925448141316\n",
      "Iter=194, Loss=12.315454270034891\n",
      "Iter=195, Loss=12.264333231138462\n",
      "Iter=196, Loss=12.16686094049897\n",
      "Iter=197, Loss=12.057653650542585\n",
      "Iter=198, Loss=12.233224494476598\n",
      "Iter=199, Loss=11.768271091857262\n",
      "Iter=200, Loss=12.277600741896693\n",
      "Iter=201, Loss=12.084466757268602\n",
      "Iter=202, Loss=11.788232600265385\n",
      "Iter=203, Loss=12.006799494041836\n",
      "Iter=204, Loss=11.856819000001432\n",
      "Iter=205, Loss=11.89941572936478\n",
      "Iter=206, Loss=11.440028351906301\n",
      "Iter=207, Loss=11.639602066348688\n",
      "Iter=208, Loss=11.799955576921617\n",
      "Iter=209, Loss=11.756228800769037\n",
      "Iter=210, Loss=11.741672314016409\n",
      "Iter=211, Loss=11.839633661528806\n",
      "Iter=212, Loss=11.854719530106074\n",
      "Iter=213, Loss=11.589647671466132\n",
      "Iter=214, Loss=11.737003543500762\n",
      "Iter=215, Loss=11.426080127176744\n",
      "Iter=216, Loss=11.566687294840538\n",
      "Iter=217, Loss=11.330613591817512\n",
      "Iter=218, Loss=11.283576899887729\n",
      "Iter=219, Loss=11.637538167437254\n",
      "Iter=220, Loss=11.261133076706562\n",
      "Iter=221, Loss=11.603182124787224\n",
      "Iter=222, Loss=11.391780788539808\n",
      "Iter=223, Loss=11.256864804586382\n",
      "Iter=224, Loss=11.275879181201818\n",
      "Iter=225, Loss=11.485883491556896\n",
      "Iter=226, Loss=11.273513101139487\n",
      "Iter=227, Loss=11.164642868590635\n",
      "Iter=228, Loss=11.094058854307317\n",
      "Iter=229, Loss=11.092034619796394\n",
      "Iter=230, Loss=11.237905662905053\n",
      "Iter=231, Loss=11.43155569762159\n",
      "Iter=232, Loss=11.326105514140531\n",
      "Iter=233, Loss=11.14954480544233\n",
      "Iter=234, Loss=11.09076822276633\n",
      "Iter=235, Loss=11.166317448135635\n",
      "Iter=236, Loss=10.72916787518593\n",
      "Iter=237, Loss=11.20660315346326\n",
      "Iter=238, Loss=11.275729300532634\n",
      "Iter=239, Loss=10.913734490490725\n",
      "Iter=240, Loss=11.069235969750276\n",
      "Iter=241, Loss=10.749664032067031\n",
      "Iter=242, Loss=11.023293565961126\n",
      "Iter=243, Loss=11.04169193101321\n",
      "Iter=244, Loss=11.030653829758645\n",
      "Iter=245, Loss=10.850646686412485\n",
      "Iter=246, Loss=11.002220554797363\n",
      "Iter=247, Loss=10.91090059385808\n"
     ]
    },
    {
     "name": "stdout",
     "output_type": "stream",
     "text": [
      "Iter=248, Loss=10.967587120065218\n",
      "Iter=249, Loss=10.49800460779436\n",
      "Iter=250, Loss=10.710378913490112\n",
      "Iter=251, Loss=10.818740497500437\n",
      "Iter=252, Loss=10.84503731566466\n",
      "Iter=253, Loss=10.764563368715416\n",
      "Iter=254, Loss=10.918208149684922\n",
      "Iter=255, Loss=10.627993783682966\n",
      "Iter=256, Loss=10.6075041296311\n",
      "Iter=257, Loss=10.773641464079278\n",
      "Iter=258, Loss=10.551446895926484\n",
      "Iter=259, Loss=10.642097269829787\n",
      "Iter=260, Loss=10.608410935168349\n",
      "Iter=261, Loss=10.69402776411297\n",
      "Iter=262, Loss=10.367355233383163\n",
      "Iter=263, Loss=10.411679273185422\n",
      "Iter=264, Loss=10.50481775388597\n",
      "Iter=265, Loss=10.759530449872608\n",
      "Iter=266, Loss=10.57204810312688\n",
      "Iter=267, Loss=10.378679954807996\n",
      "Iter=268, Loss=10.278360659698555\n",
      "Iter=269, Loss=10.403618553025513\n",
      "Iter=270, Loss=10.533110621121086\n",
      "Iter=271, Loss=10.475913790756586\n",
      "Iter=272, Loss=10.449309239059687\n",
      "Iter=273, Loss=10.392426455795748\n",
      "Iter=274, Loss=10.599761665369403\n",
      "Iter=275, Loss=10.26152599153112\n",
      "Iter=276, Loss=10.14501155704431\n",
      "Iter=277, Loss=10.25657973489862\n",
      "Iter=278, Loss=10.299178580728352\n",
      "Iter=279, Loss=10.220863481975696\n",
      "Iter=280, Loss=10.200098348645016\n",
      "Iter=281, Loss=10.155078892560773\n",
      "Iter=282, Loss=10.046782843041616\n",
      "Iter=283, Loss=10.195771939396847\n",
      "Iter=284, Loss=10.334564792757574\n",
      "Iter=285, Loss=10.216868257321584\n",
      "Iter=286, Loss=10.095014525902506\n",
      "Iter=287, Loss=10.024320068965451\n",
      "Iter=288, Loss=10.086321824975329\n",
      "Iter=289, Loss=10.170865706183214\n",
      "Iter=290, Loss=10.01812337273798\n",
      "Iter=291, Loss=10.247498805327508\n",
      "Iter=292, Loss=10.196664663304972\n",
      "Iter=293, Loss=9.978214614085012\n",
      "Iter=294, Loss=9.959799999144643\n",
      "Iter=295, Loss=9.91540834144361\n",
      "Iter=296, Loss=9.905963450878554\n",
      "Iter=297, Loss=9.874816794497255\n",
      "Iter=298, Loss=9.975989831341447\n",
      "Iter=299, Loss=10.052752435906687\n",
      "Iter=300, Loss=9.967942948807044\n",
      "Iter=301, Loss=9.915220579088277\n",
      "Iter=302, Loss=9.667643465601644\n",
      "Iter=303, Loss=9.954370875422635\n",
      "Iter=304, Loss=10.005701407082162\n",
      "Iter=305, Loss=9.760854777946538\n",
      "Iter=306, Loss=9.819616874525362\n",
      "Iter=307, Loss=9.766614835085736\n",
      "Iter=308, Loss=9.753562893401384\n",
      "Iter=309, Loss=9.872473502647642\n",
      "Iter=310, Loss=9.798632662743424\n",
      "Iter=311, Loss=9.76113060936634\n",
      "Iter=312, Loss=9.759714513616721\n",
      "Iter=313, Loss=9.843913129984728\n",
      "Iter=314, Loss=9.972285512898965\n",
      "Iter=315, Loss=9.838188907102872\n",
      "Iter=316, Loss=9.792420776831367\n",
      "Iter=317, Loss=9.73934696209815\n",
      "Iter=318, Loss=9.815658056232976\n",
      "Iter=319, Loss=9.833652301135832\n",
      "Iter=320, Loss=9.440788578412244\n",
      "Iter=321, Loss=9.610327784800226\n",
      "Iter=322, Loss=9.824604295054565\n",
      "Iter=323, Loss=9.497084181898254\n",
      "Iter=324, Loss=9.706558396172511\n",
      "Iter=325, Loss=9.654564289922032\n",
      "Iter=326, Loss=9.801792078823626\n",
      "Iter=327, Loss=9.761012679454225\n",
      "Iter=328, Loss=9.611835702245088\n",
      "Iter=329, Loss=9.454931971495672\n",
      "Iter=330, Loss=9.632671753279473\n",
      "Iter=331, Loss=9.534058373640034\n",
      "Iter=332, Loss=9.478590661588537\n",
      "Iter=333, Loss=9.486973447068934\n",
      "Iter=334, Loss=9.436223390542894\n",
      "Iter=335, Loss=9.457729667978652\n",
      "Iter=336, Loss=9.655684017801706\n",
      "Iter=337, Loss=9.524289791022724\n",
      "Iter=338, Loss=9.334634196339692\n",
      "Iter=339, Loss=9.66562523636254\n",
      "Iter=340, Loss=9.55184375828415\n",
      "Iter=341, Loss=9.527336379031288\n",
      "Iter=342, Loss=9.464386352450493\n",
      "Iter=343, Loss=9.419310714641142\n",
      "Iter=344, Loss=9.443640773992382\n",
      "Iter=345, Loss=9.424333109544225\n",
      "Iter=346, Loss=9.394879287473488\n",
      "Iter=347, Loss=9.517686868688289\n",
      "Iter=348, Loss=9.454424311837082\n",
      "Iter=349, Loss=9.477533630550274\n",
      "Iter=350, Loss=9.424264632155568\n",
      "Iter=351, Loss=9.362512640986097\n",
      "Iter=352, Loss=9.527983656050525\n",
      "Iter=353, Loss=9.543600970156165\n",
      "Iter=354, Loss=9.22131296833012\n",
      "Iter=355, Loss=9.326777626694403\n",
      "Iter=356, Loss=9.275790166072687\n",
      "Iter=357, Loss=9.303054522804691\n",
      "Iter=358, Loss=9.453046778434157\n",
      "Iter=359, Loss=9.394459532876233\n",
      "Iter=360, Loss=9.32400088877601\n",
      "Iter=361, Loss=9.282755798583802\n",
      "Iter=362, Loss=9.235432257917381\n",
      "Iter=363, Loss=9.286178420547625\n",
      "Iter=364, Loss=9.297021015231858\n",
      "Iter=365, Loss=9.229714783991284\n",
      "Iter=366, Loss=9.238899002628074\n",
      "Iter=367, Loss=9.231067809658827\n",
      "Iter=368, Loss=9.25049545006503\n",
      "Iter=369, Loss=9.194734305194231\n",
      "Iter=370, Loss=9.358194900231547\n",
      "Iter=371, Loss=9.089988585891911\n",
      "Iter=372, Loss=9.116227351806986\n",
      "Iter=373, Loss=9.21707064034895\n",
      "Iter=374, Loss=9.116541156644415\n",
      "Iter=375, Loss=9.269462011644244\n",
      "Iter=376, Loss=8.996947141000629\n",
      "Iter=377, Loss=8.986341799067342\n",
      "Iter=378, Loss=9.018603604480331\n",
      "Iter=379, Loss=9.080172846501675\n",
      "Iter=380, Loss=9.07276897853518\n",
      "Iter=381, Loss=8.951582997873471\n",
      "Iter=382, Loss=9.010168144596735\n",
      "Iter=383, Loss=8.979195026529226\n",
      "Iter=384, Loss=8.969190588514135\n",
      "Iter=385, Loss=9.15433006918422\n",
      "Iter=386, Loss=9.124693306208167\n",
      "Iter=387, Loss=9.095138607939056\n",
      "Iter=388, Loss=9.127112797403138\n",
      "Iter=389, Loss=8.907993752581673\n",
      "Iter=390, Loss=8.90886928692054\n"
     ]
    }
   ],
   "source": [
    "Params = {\n",
    "    'n_factors':20,\n",
    "    # 'n_iters':100,\n",
    "    'epsilon':1e-3,\n",
    "    '_lambda':0.01,\n",
    "    'lr':0.1,\n",
    "    'batch_size':50,\n",
    "    'seed':None\n",
    "}\n",
    "\n",
    "bpr = BPR(**Params)\n",
    "bpr.fit(X_train)"
   ]
  },
  {
   "cell_type": "code",
   "execution_count": 29,
   "metadata": {},
   "outputs": [
    {
     "data": {
      "image/png": "[encoded data removed]",
      "text/plain": [
       "<Figure size 432x288 with 1 Axes>"
      ]
     },
     "metadata": {
      "needs_background": "light"
     },
     "output_type": "display_data"
    }
   ],
   "source": [
    "# plot training loss curve\n",
    "n_iters = 391\n",
    "\n",
    "plt.plot(np.arange(n_iters), bpr.train_loss, label='Train Loss', linewidth=3, color='r')\n",
    "plt.xlabel('N Iters')\n",
    "plt.ylabel('Loss')\n",
    "plt.legend(loc='best')\n",
    "plt.grid(True)\n",
    "plt.show()\n",
    "plt.close()"
   ]
  },
  {
   "cell_type": "markdown",
   "metadata": {},
   "source": [
    "Therefore, we assume that `150 iters` is enough for model to arrive at convergence."
   ]
  },
  {
   "cell_type": "code",
   "execution_count": 32,
   "metadata": {},
   "outputs": [],
   "source": [
    "bpr = BPR(n_factors=20, n_iters=150, _lambda=0.01, lr=0.1, batch_size=50)\n",
    "bpr.fit(X_train)"
   ]
  },
  {
   "cell_type": "markdown",
   "metadata": {},
   "source": [
    "# Ranking Metrics\n",
    "\n",
    "1. Mean Average Precision (**MAP**)\n",
    "2. Hit Ratio (**HR**)\n",
    "3. Normalized Discounted Cumulative Gain (**NDCG**)\n",
    "4. ROC/AUC"
   ]
  },
  {
   "cell_type": "code",
   "execution_count": 7,
   "metadata": {},
   "outputs": [],
   "source": [
    "## Mean Average Precision\n",
    "def AP_k(y_label, y_pred, k):\n",
    "    ground_truth = set(y_label)\n",
    "    if len(ground_truth) == 0:\n",
    "        return 0\n",
    "    \n",
    "    hit_cnt, precision = 0, 0.0\n",
    "    for i, p in enumerate(y_pred):\n",
    "        if p in ground_truth:\n",
    "            hit_cnt += 1\n",
    "            precision += hit_cnt / (i + 1.0)\n",
    "\n",
    "    precision_k = precision / min(len(ground_truth), k)\n",
    "    return precision_k\n",
    "\n",
    "def MAP_k(model, ratings, k):\n",
    "    precision = 0\n",
    "    n_users = ratings.shape[0]\n",
    "    \n",
    "    # for user in tqdm(np.arange(n_users), desc='evaluating...'):\n",
    "    for user in range(n_users):\n",
    "        y_label = ratings[user].indices\n",
    "        u_pred = model._predict_user(user)\n",
    "        y_pred = np.argsort(u_pred)[::-1][:k]\n",
    "        precision += AP_k(y_label, y_pred, k)\n",
    "    \n",
    "    precision /= n_users\n",
    "    return precision"
   ]
  },
  {
   "cell_type": "code",
   "execution_count": 8,
   "metadata": {},
   "outputs": [],
   "source": [
    "## Hit Ratio\n",
    "def HR_k_helper(y_label, y_pred, k):\n",
    "    ground_truth = set(y_label)\n",
    "    if len(ground_truth) == 0:\n",
    "        return 0, 0\n",
    "    \n",
    "    hit_cnt = 0\n",
    "    for p in y_pred:\n",
    "        if p in ground_truth:\n",
    "            hit_cnt += 1\n",
    "    return hit_cnt, len(ground_truth)\n",
    "\n",
    "def HR_k(model, ratings, k):\n",
    "    hits, actuals = 0, 0\n",
    "    n_users = ratings.shape[0]\n",
    "    \n",
    "    for user in range(n_users):\n",
    "        y_label = ratings[user].indices\n",
    "        u_pred = model._predict_user(user)\n",
    "        y_pred = np.argsort(u_pred)[::-1][:k]\n",
    "        \n",
    "        tmp1, tmp2 = HR_k_helper(y_label, y_pred, k)\n",
    "        hits += tmp1\n",
    "        actuals += tmp2\n",
    "    return hits / actuals"
   ]
  },
  {
   "cell_type": "code",
   "execution_count": 9,
   "metadata": {},
   "outputs": [],
   "source": [
    "## Normalized Discounted Cummulative Gain\n",
    "def DCG_k(y_label, y_pred, k):\n",
    "    ranked = np.argsort(y_pred)[::-1]\n",
    "    y_label = np.take(y_label, ranked[:k])\n",
    "\n",
    "    gains = 2 ** y_label - 1\n",
    "    discounts = np.log2(np.arange(2, gains.size + 2))\n",
    "\n",
    "    result = np.sum(gains / discounts)\n",
    "    return result\n",
    "\n",
    "def NDCG_k_helper(y_label, y_pred, k):\n",
    "    actual = DCG_k(y_label, y_pred, k)\n",
    "    best = DCG_k(y_label, y_label, k)\n",
    "    \n",
    "    if not best:\n",
    "        return 0\n",
    "    return actual / best\n",
    "\n",
    "def NDCG_k(model, ratings, k):\n",
    "    result = 0.0\n",
    "    n_users, n_items = ratings.shape\n",
    "    \n",
    "    for user in range(n_users):\n",
    "        y_label = np.zeros(n_items)\n",
    "        indices = ratings[user].indices\n",
    "        y_label[indices] = 1\n",
    "        u_pred = model._predict_user(user)\n",
    "        result += NDCG_k_helper(y_label, u_pred, k)\n",
    "    \n",
    "    result /= n_users\n",
    "    return result"
   ]
  },
  {
   "cell_type": "markdown",
   "metadata": {},
   "source": [
    "# Evaluation\n",
    "\n",
    "Use the `validation.txt` for model selection. Based on the experimental experience on `als.ipynb`, we should mainly tune on the parameters like `lr` and `batch_size`."
   ]
  },
  {
   "cell_type": "code",
   "execution_count": 16,
   "metadata": {},
   "outputs": [
    {
     "name": "stdout",
     "output_type": "stream",
     "text": [
      "lr=0.001\n",
      "Train: NDCG_20=0.0006166207280343966, NDCG_40=0.0007000604827306794, NDCG_60=0.0008839196788543766\n",
      "Validation: NDCG_20=0.0001868233328348098, NDCG_40=0.0002952269916299446, NDCG_60=0.00039419685172732927\n",
      "lr=0.01\n",
      "Train: NDCG_20=0.00035046681686266726, NDCG_40=0.0004093970331193578, NDCG_60=0.0005238643733824095\n",
      "Validation: NDCG_20=0.00011063339072722821, NDCG_40=0.00016595186831440073, NDCG_60=0.00021589176325967788\n",
      "lr=0.1\n",
      "Train: NDCG_20=0.013696386864425095, NDCG_40=0.015187066182716558, NDCG_60=0.018712484834309377\n",
      "Validation: NDCG_20=0.003666991854582542, NDCG_40=0.00533119130671984, NDCG_60=0.0067241150099941445\n"
     ]
    },
    {
     "name": "stderr",
     "output_type": "stream",
     "text": [
      "/Users/z0g00mx/anaconda3/lib/python3.7/site-packages/ipykernel_launcher.py:76: RuntimeWarning: invalid value encountered in true_divide\n"
     ]
    },
    {
     "name": "stdout",
     "output_type": "stream",
     "text": [
      "lr=1\n",
      "Train: NDCG_20=0.0006309141355086801, NDCG_40=0.0008562727053459098, NDCG_60=0.001105449443914336\n",
      "Validation: NDCG_20=0.0001873134028427353, NDCG_40=0.00034265564001149143, NDCG_60=0.0004484922266264652\n"
     ]
    }
   ],
   "source": [
    "# fix batch_size=50 and tune on learning rate\n",
    "lr_list = [0.001, 0.01, 0.1, 1]\n",
    "\n",
    "ndcg_20_train, ndcg_40_train, ndcg_60_train = [], [], []\n",
    "ndcg_20_eval, ndcg_40_eval, ndcg_60_eval = [], [], []\n",
    "\n",
    "for lr in lr_list:\n",
    "    model = BPR(n_factors=20, n_iters=150, _lambda=0.01, lr=lr, batch_size=50)\n",
    "    model.fit(X_train)\n",
    "    \n",
    "    ndcg_20_train_tmp = NDCG_k(model, X_train, 20)\n",
    "    ndcg_20_eval_tmp = NDCG_k(model, X_validation, 20)\n",
    "    ndcg_40_train_tmp = NDCG_k(model, X_train, 40)\n",
    "    ndcg_40_eval_tmp = NDCG_k(model, X_validation, 40)\n",
    "    ndcg_60_train_tmp = NDCG_k(model, X_train, 60)\n",
    "    ndcg_60_eval_tmp = NDCG_k(model, X_validation, 60)\n",
    "    \n",
    "    ndcg_20_train.append(ndcg_20_train_tmp)\n",
    "    ndcg_20_eval.append(ndcg_20_eval_tmp)\n",
    "    ndcg_40_train.append(ndcg_40_train_tmp)\n",
    "    ndcg_40_eval.append(ndcg_40_eval_tmp)\n",
    "    ndcg_60_train.append(ndcg_60_train_tmp)\n",
    "    ndcg_60_eval.append(ndcg_60_eval_tmp)\n",
    "    \n",
    "    print('lr={}'.format(lr))\n",
    "    print('Train: NDCG_20={}, NDCG_40={}, NDCG_60={}'.format(ndcg_20_train_tmp, ndcg_40_train_tmp, ndcg_60_train_tmp))\n",
    "    print('Validation: NDCG_20={}, NDCG_40={}, NDCG_60={}'.format(ndcg_20_eval_tmp, ndcg_40_eval_tmp, ndcg_60_eval_tmp))"
   ]
  },
  {
   "cell_type": "code",
   "execution_count": 19,
   "metadata": {},
   "outputs": [
    {
     "data": {
      "image/png": "[encoded data removed]",
      "text/plain": [
       "<Figure size 432x288 with 1 Axes>"
      ]
     },
     "metadata": {
      "needs_background": "light"
     },
     "output_type": "display_data"
    }
   ],
   "source": [
    "plt.plot(lr_list, ndcg_20_eval, label='NDCG 20', linewidth=2.4, marker='s', MarkerSize=8, color='m')\n",
    "plt.plot(lr_list, ndcg_40_eval, label='NDCG 40', linewidth=2.4, marker='s', MarkerSize=8, color='b')\n",
    "plt.plot(lr_list, ndcg_60_eval, label='NDCG 60', linewidth=2.4, marker='s', MarkerSize=8, color='g')\n",
    "plt.xlabel('lr')\n",
    "plt.ylabel('NDCG k')\n",
    "plt.legend(loc='best')\n",
    "plt.grid(True)\n",
    "plt.show()\n",
    "plt.close()"
   ]
  },
  {
   "cell_type": "markdown",
   "metadata": {},
   "source": [
    "Select `lr=0.1`, then find suitable value of `batch_size`."
   ]
  },
  {
   "cell_type": "code",
   "execution_count": 20,
   "metadata": {},
   "outputs": [
    {
     "name": "stdout",
     "output_type": "stream",
     "text": [
      "batch_size=20\n",
      "NDCG_20: train=0.01303866488252439, validation=0.003314000495328688\n",
      "batch_size=40\n",
      "NDCG_20: train=0.01344836523688109, validation=0.0034131309335424893\n",
      "batch_size=60\n",
      "NDCG_20: train=0.013611387671366063, validation=0.00353848336370237\n",
      "batch_size=80\n",
      "NDCG_20: train=0.01527376634600072, validation=0.003876152207448268\n",
      "batch_size=100\n",
      "NDCG_20: train=0.014284493778896177, validation=0.0036032811553650262\n",
      "batch_size=120\n",
      "NDCG_20: train=0.012898441631856687, validation=0.0035517481254019796\n"
     ]
    }
   ],
   "source": [
    "batch_list = [20, 40, 60, 80, 100, 120]\n",
    "ndcg_20_train, ndcg_20_eval = [], []\n",
    "\n",
    "for batch_size in batch_list:\n",
    "    model = BPR(n_factors=20, n_iters=150, _lambda=0.01, lr=0.1, batch_size=batch_size)\n",
    "    model.fit(X_train)\n",
    "    \n",
    "    ndcg_20_train_tmp = NDCG_k(model, X_train, 20)\n",
    "    ndcg_20_eval_tmp = NDCG_k(model, X_validation, 20) \n",
    "    ndcg_20_train.append(ndcg_20_train_tmp)\n",
    "    ndcg_20_eval.append(ndcg_20_eval_tmp)\n",
    "\n",
    "    \n",
    "    print('batch_size={}'.format(batch_size))\n",
    "    print('NDCG_20: train={}, validation={}'.format(ndcg_20_train_tmp, ndcg_20_eval_tmp))"
   ]
  },
  {
   "cell_type": "code",
   "execution_count": 21,
   "metadata": {},
   "outputs": [
    {
     "data": {
      "image/png": "[encoded data removed]",
      "text/plain": [
       "<Figure size 432x288 with 1 Axes>"
      ]
     },
     "metadata": {
      "needs_background": "light"
     },
     "output_type": "display_data"
    }
   ],
   "source": [
    "plt.plot(batch_list, ndcg_20_train, label='Train', linewidth=2, marker='s')\n",
    "plt.plot(batch_list, ndcg_20_eval, label='Validation', linewidth=2, marker='s')\n",
    "plt.xlabel('batch size')\n",
    "plt.ylabel('NDCG')\n",
    "plt.legend(loc='best')\n",
    "plt.grid(True)\n",
    "plt.show()\n",
    "plt.close()"
   ]
  },
  {
   "cell_type": "markdown",
   "metadata": {},
   "source": [
    "Therefore, the parameters for selected best BPR model in this case should be `BPR(n_factors=20, n_iters=150, _lambda=0.01, lr=0.1, batch_size=80)`."
   ]
  },
  {
   "cell_type": "markdown",
   "metadata": {},
   "source": [
    "# Test"
   ]
  },
  {
   "cell_type": "markdown",
   "metadata": {},
   "source": [
    "Retrain the model using `train.txt` and `validation.txt`."
   ]
  },
  {
   "cell_type": "code",
   "execution_count": 10,
   "metadata": {},
   "outputs": [
    {
     "name": "stdout",
     "output_type": "stream",
     "text": [
      "re-train density: 0.0813%\n"
     ]
    }
   ],
   "source": [
    "train_dict = defaultdict(lambda : defaultdict(int))\n",
    "file_path_1, file_path_2 = '../train.txt', '../validation.txt'\n",
    "\n",
    "with open(file_path_1, 'r') as f1:\n",
    "    for line in f1.readlines():\n",
    "        line = line.split()\n",
    "        user, item = line[0], line[4]\n",
    "        if user in train_user_map and item in train_item_map:\n",
    "            user_id, item_id = train_user_map[user], train_item_map[item]\n",
    "            train_dict[user_id][item_id] += 1\n",
    "\n",
    "with open(file_path_2, 'r') as f2:\n",
    "    for line in f2.readlines():\n",
    "        line = line.split()\n",
    "        user, item = line[0], line[4]\n",
    "        if user in train_user_map and item in train_item_map:\n",
    "            user_id, item_id = train_user_map[user], train_item_map[item]\n",
    "            train_dict[user_id][item_id] += 1\n",
    "\n",
    "# normalize\n",
    "for uid in train_dict:\n",
    "    tmp = sum(train_dict[uid].values())\n",
    "    for iid in train_dict[uid]:\n",
    "        train_dict[uid][iid] /= tmp\n",
    "\n",
    "# write re-train file\n",
    "# with open('../retrain_2.txt', 'w') as h:\n",
    "#     for uid in sorted(train_dict):\n",
    "#         for iid in sorted(train_dict[uid]):\n",
    "#             h.write(\"{}\\t{}\\t{}\\n\".format(uid, iid, train_dict[uid][iid]))\n",
    "            \n",
    "# re-train shape same as (N, M)\n",
    "print('re-train density: {:.4f}%'.format(100 * sum(len(train_dict[u].keys()) for u in train_dict) / (N * M)))"
   ]
  },
  {
   "cell_type": "code",
   "execution_count": 10,
   "metadata": {},
   "outputs": [
    {
     "data": {
      "text/plain": [
       "<34619x47880 sparse matrix of type '<class 'numpy.float64'>'\n",
       "\twith 1347335 stored elements in Compressed Sparse Row format>"
      ]
     },
     "execution_count": 10,
     "metadata": {},
     "output_type": "execute_result"
    }
   ],
   "source": [
    "# read re-train\n",
    "file_rt_path = '../Data/retrain_2.txt'\n",
    "df_rt = pd.read_csv(file_rt_path, sep='\\t', header=None, names=['userId', 'itemId', 'rating'])\n",
    "\n",
    "X_retrain, df_rt = create_matrix(df_rt, 'userId', 'itemId', 'rating', N, M)\n",
    "X_retrain"
   ]
  },
  {
   "cell_type": "code",
   "execution_count": 11,
   "metadata": {},
   "outputs": [],
   "source": [
    "best_bpr = BPR(n_factors=20, n_iters=150, _lambda=0.01, lr=0.1, batch_size=80)\n",
    "best_bpr.fit(X_retrain)"
   ]
  },
  {
   "cell_type": "markdown",
   "metadata": {},
   "source": [
    "Test on `top-K` performance of the mentioned ranking metrics."
   ]
  },
  {
   "cell_type": "code",
   "execution_count": 42,
   "metadata": {},
   "outputs": [
    {
     "name": "stdout",
     "output_type": "stream",
     "text": [
      "top-10 performance:\n",
      "NDCG@10: retrain=0.015024974784005154, test=0.001555920901441362\n",
      "MAP@10: retrain=0.004881602576893447, test=0.0006069050736159983\n",
      "HR@10: retrain=0.003792672201048737, test=0.003203090226998156\n",
      "top-20 performance:\n",
      "NDCG@20: retrain=0.015400597991610985, test=0.002288209969655214\n",
      "MAP@20: retrain=0.003375566922574525, test=0.0006844960100565136\n",
      "HR@20: retrain=0.007629876756708614, test=0.006954600368792523\n",
      "top-30 performance:\n",
      "NDCG@30: retrain=0.01582020879412871, test=0.002982245137198892\n",
      "MAP@30: retrain=0.002824459780442183, test=0.0007613034190008488\n",
      "HR@30: retrain=0.011330515424894329, test=0.010586888789979017\n",
      "top-40 performance:\n",
      "NDCG@40: retrain=0.016647354131801254, test=0.0035789055196390348\n",
      "MAP@40: retrain=0.0026088073007890563, test=0.0008171198382596542\n",
      "HR@40: retrain=0.014956933502061476, test=0.013893304508170662\n",
      "top-50 performance:\n",
      "NDCG@50: retrain=0.018007978760458343, test=0.0041099993854400675\n",
      "MAP@50: retrain=0.0025895185323443425, test=0.0008606391869822369\n",
      "HR@50: retrain=0.018416355249436852, test=0.017080498505754434\n",
      "top-60 performance:\n",
      "NDCG@60: retrain=0.019671370459747005, test=0.00454269967024874\n",
      "MAP@60: retrain=0.002658056605462291, test=0.0008927425722821965\n",
      "HR@60: retrain=0.021861675084518698, test=0.01984644242385706\n",
      "top-70 performance:\n",
      "NDCG@70: retrain=0.02148972233797598, test=0.00503460542646257\n",
      "MAP@70: retrain=0.002757064886494642, test=0.0009240861998160365\n",
      "HR@70: retrain=0.025252071682246805, test=0.022985947733197686\n",
      "top-80 performance:\n",
      "NDCG@80: retrain=0.023251816442912108, test=0.005445142310045431\n",
      "MAP@80: retrain=0.002859408998995251, test=0.0009477545120157325\n",
      "HR@80: retrain=0.028474729744272953, test=0.025863165257200994\n"
     ]
    }
   ],
   "source": [
    "k_list = np.arange(10, 90, 10)\n",
    "ndcg_train, map_train, hr_train = [], [], []\n",
    "ndcg_test, map_test, hr_test = [], [], []\n",
    "\n",
    "for k in k_list:\n",
    "    ndcg_train_tmp = NDCG_k(best_bpr, X_retrain, k)\n",
    "    map_train_tmp = MAP_k(best_bpr, X_retrain, k)\n",
    "    hr_train_tmp = HR_k(best_bpr, X_retrain, k)\n",
    "    ndcg_test_tmp = NDCG_k(best_bpr, X_test, k)\n",
    "    map_test_tmp = MAP_k(best_bpr, X_test, k)\n",
    "    hr_test_tmp = HR_k(best_bpr, X_test, k)\n",
    "    \n",
    "    ndcg_train.append(ndcg_train_tmp)\n",
    "    map_train.append(map_train_tmp)\n",
    "    hr_train.append(hr_train_tmp)\n",
    "    ndcg_test.append(ndcg_test_tmp)\n",
    "    map_test.append(map_test_tmp)\n",
    "    hr_test.append(hr_test_tmp)\n",
    "    \n",
    "    print('top-{} performance:'.format(k))\n",
    "    print('NDCG@{}: retrain={}, test={}'.format(k, ndcg_train_tmp, ndcg_test_tmp))\n",
    "    print('MAP@{}: retrain={}, test={}'.format(k, map_train_tmp, map_test_tmp))\n",
    "    print('HR@{}: retrain={}, test={}'.format(k, hr_train_tmp, hr_test_tmp))"
   ]
  },
  {
   "cell_type": "markdown",
   "metadata": {},
   "source": [
    "Compare with the ALS-based collaborative filtering model in `als.ipynb`."
   ]
  },
  {
   "cell_type": "code",
   "execution_count": 46,
   "metadata": {},
   "outputs": [],
   "source": [
    "## output test results from ALS model\n",
    "ndcg_refer = [0.0258112930751295, 0.027932208255642348, 0.03024926095932075, 0.03209358643890342, 0.033715876784973925, 0.03497359674671582, 0.036185064663018386, 0.03727048692639038]\n",
    "map_refer = [0.013168246563383697, 0.013007368620834132, 0.013338275152661344, 0.013584138886558088, 0.013781416721680201, 0.013920772506688635, 0.01404182840904329, 0.014138195723767543]\n",
    "hr_refer = [0.04108380492147263, 0.058076874165447955, 0.07127074457938577, 0.08188147771348636, 0.09179277675335411, 0.10022572645768424, 0.10850766198257773, 0.11594709734850893]"
   ]
  },
  {
   "cell_type": "markdown",
   "metadata": {},
   "source": [
    "### NDCG@*k*"
   ]
  },
  {
   "cell_type": "code",
   "execution_count": 48,
   "metadata": {},
   "outputs": [
    {
     "data": {
      "image/png": "[encoded data removed]",
      "text/plain": [
       "<Figure size 432x288 with 1 Axes>"
      ]
     },
     "metadata": {
      "needs_background": "light"
     },
     "output_type": "display_data"
    }
   ],
   "source": [
    "plt.plot(k_list, ndcg_train, label='Retrain', linewidth=2, marker='s')\n",
    "plt.plot(k_list, ndcg_test, label='Test', linewidth=2, marker='s')\n",
    "plt.xlabel('k')\n",
    "plt.ylabel('NDCG')\n",
    "plt.legend(loc='best')\n",
    "plt.grid(True)\n",
    "plt.show()\n",
    "plt.close()"
   ]
  },
  {
   "cell_type": "code",
   "execution_count": 53,
   "metadata": {},
   "outputs": [
    {
     "data": {
      "image/png": "[encoded data removed]",
      "text/plain": [
       "<Figure size 432x288 with 1 Axes>"
      ]
     },
     "metadata": {
      "needs_background": "light"
     },
     "output_type": "display_data"
    }
   ],
   "source": [
    "plt.plot(k_list, ndcg_test, label='BPR', linewidth=2, marker='s', color='g')\n",
    "plt.plot(k_list, ndcg_refer, label='ALS', linewidth=2, marker='s', color='r')\n",
    "plt.xlabel('k')\n",
    "plt.ylabel('NDCG')\n",
    "plt.legend(loc='best')\n",
    "plt.grid(True)\n",
    "plt.show()\n",
    "plt.close()"
   ]
  },
  {
   "cell_type": "markdown",
   "metadata": {},
   "source": [
    "### MAP@*k*"
   ]
  },
  {
   "cell_type": "code",
   "execution_count": 50,
   "metadata": {},
   "outputs": [
    {
     "data": {
      "image/png": "[encoded data removed]",
      "text/plain": [
       "<Figure size 432x288 with 1 Axes>"
      ]
     },
     "metadata": {
      "needs_background": "light"
     },
     "output_type": "display_data"
    }
   ],
   "source": [
    "plt.plot(k_list, map_train, label='Retrain', linewidth=2, marker='s')\n",
    "plt.plot(k_list, map_test, label='Test', linewidth=2, marker='s')\n",
    "plt.xlabel('k')\n",
    "plt.ylabel('MAP')\n",
    "plt.legend(loc='best')\n",
    "plt.grid(True)\n",
    "plt.show()\n",
    "plt.close()"
   ]
  },
  {
   "cell_type": "code",
   "execution_count": 54,
   "metadata": {},
   "outputs": [
    {
     "data": {
      "image/png": "[encoded data removed]",
      "text/plain": [
       "<Figure size 432x288 with 1 Axes>"
      ]
     },
     "metadata": {
      "needs_background": "light"
     },
     "output_type": "display_data"
    }
   ],
   "source": [
    "plt.plot(k_list, map_test, label='BPR', linewidth=2, marker='s', color='g')\n",
    "plt.plot(k_list, map_refer, label='ALS', linewidth=2, marker='s', color='r')\n",
    "plt.xlabel('k')\n",
    "plt.ylabel('MAP')\n",
    "plt.legend(loc='best')\n",
    "plt.grid(True)\n",
    "plt.show()\n",
    "plt.close()"
   ]
  },
  {
   "cell_type": "markdown",
   "metadata": {},
   "source": [
    "### HR@*k*"
   ]
  },
  {
   "cell_type": "code",
   "execution_count": 55,
   "metadata": {},
   "outputs": [
    {
     "data": {
      "image/png": "[encoded data removed]",
      "text/plain": [
       "<Figure size 432x288 with 1 Axes>"
      ]
     },
     "metadata": {
      "needs_background": "light"
     },
     "output_type": "display_data"
    }
   ],
   "source": [
    "plt.plot(k_list, hr_train, label='Retrain', linewidth=2, marker='s')\n",
    "plt.plot(k_list, hr_test, label='Test', linewidth=2, marker='s')\n",
    "plt.xlabel('k')\n",
    "plt.ylabel('HR')\n",
    "plt.legend(loc='best')\n",
    "plt.grid(True)\n",
    "plt.show()\n",
    "plt.close()"
   ]
  },
  {
   "cell_type": "code",
   "execution_count": 56,
   "metadata": {},
   "outputs": [
    {
     "data": {
      "image/png": "[encoded data removed]",
      "text/plain": [
       "<Figure size 432x288 with 1 Axes>"
      ]
     },
     "metadata": {
      "needs_background": "light"
     },
     "output_type": "display_data"
    }
   ],
   "source": [
    "plt.plot(k_list, hr_test, label='BPR', linewidth=2, marker='s', color='g')\n",
    "plt.plot(k_list, hr_refer, label='ALS', linewidth=2, marker='s', color='r')\n",
    "plt.xlabel('k')\n",
    "plt.ylabel('HR')\n",
    "plt.legend(loc='best')\n",
    "plt.grid(True)\n",
    "plt.show()\n",
    "plt.close()"
   ]
  },
  {
   "cell_type": "markdown",
   "metadata": {},
   "source": [
    "Based on the plots above, we can infer that ALS based collaborative filtering model is **better** than BPR model in NDCG, MAP and HR performance. The reason may lie in the characteristics of the experiment dataset, which is sparse, imbalanced and does not avail us of good personalized ranking information."
   ]
  },
  {
   "cell_type": "markdown",
   "metadata": {},
   "source": [
    "# Prediction"
   ]
  },
  {
   "cell_type": "code",
   "execution_count": 22,
   "metadata": {},
   "outputs": [
    {
     "data": {
      "text/plain": [
       "array([[ 1.15761653,  0.37016461,  1.47883627, ..., -1.83025324,\n",
       "         1.37771964,  0.16977549],\n",
       "       [ 1.34077303,  0.51186517, -0.98067459, ...,  1.40964061,\n",
       "        -2.66021338,  0.69753098],\n",
       "       [ 1.7096995 , -0.30278847,  0.61325356, ..., -0.82418457,\n",
       "         0.42611804,  3.56812947],\n",
       "       ...,\n",
       "       [ 2.14352024,  0.93259054,  1.58201338, ...,  0.19664345,\n",
       "        -0.68878306,  3.73181802],\n",
       "       [ 0.83476813, -1.02479363,  1.79079984, ...,  0.03061398,\n",
       "         0.97822007,  1.72079108],\n",
       "       [ 0.19280849, -4.50855507,  0.63547388, ...,  2.12906732,\n",
       "         3.35159741,  2.84510486]])"
      ]
     },
     "execution_count": 22,
     "metadata": {},
     "output_type": "execute_result"
    }
   ],
   "source": [
    "best_bpr.predict()"
   ]
  },
  {
   "cell_type": "code",
   "execution_count": 29,
   "metadata": {},
   "outputs": [
    {
     "data": {
      "text/plain": [
       "array(['f01625907c820e67e044001517f43a86',\n",
       "       'f225b959800b5bc8e044001517f43a86',\n",
       "       '561ff9d2212e4e2d810911007bc5ea51',\n",
       "       '689ca614adb348068a16aea65eeadbdf',\n",
       "       'f045b60528f40df3e044001517f43a86'], dtype='<U32')"
      ]
     },
     "execution_count": 29,
     "metadata": {},
     "output_type": "execute_result"
    }
   ],
   "source": [
    "# sample 5 customers for recommendation\n",
    "## for convenience of comparison, choose same sampled users as als.ipynb\n",
    "n_samples = 5\n",
    "sampled_users = np.random.choice(list(train_user_map.keys()), n_samples)\n",
    "sampled_users"
   ]
  },
  {
   "cell_type": "code",
   "execution_count": 30,
   "metadata": {},
   "outputs": [
    {
     "data": {
      "text/plain": [
       "[27273, 9763, 22587, 4819, 13950]"
      ]
     },
     "execution_count": 30,
     "metadata": {},
     "output_type": "execute_result"
    }
   ],
   "source": [
    "sampled_user_ids = list(map(lambda x:train_user_map.get(x), sampled_users))\n",
    "sampled_user_ids"
   ]
  },
  {
   "cell_type": "code",
   "execution_count": 31,
   "metadata": {},
   "outputs": [
    {
     "data": {
      "text/plain": [
       "[array([ 4.21309436, -2.55959533,  3.25331874, ..., -2.38317906,\n",
       "         0.84064299,  0.98661759]),\n",
       " array([ 0.7212844 , -1.35075743,  1.44362175, ..., -0.92343721,\n",
       "         0.89865232,  0.76887619]),\n",
       " array([ 2.69197317,  3.79533584,  1.24286497, ..., -1.79773316,\n",
       "        -1.8375847 ,  2.43207894]),\n",
       " array([-0.02910414, -1.03191541,  1.37563844, ...,  1.61613762,\n",
       "         1.5220198 , -0.4797889 ]),\n",
       " array([ 2.60325984, -0.90133929,  2.41927806, ..., -2.65409957,\n",
       "        -2.20440002,  1.06161433])]"
      ]
     },
     "execution_count": 31,
     "metadata": {},
     "output_type": "execute_result"
    }
   ],
   "source": [
    "u_pred = list(map(lambda x:best_bpr._predict_user(x), sampled_user_ids))\n",
    "u_pred"
   ]
  },
  {
   "cell_type": "code",
   "execution_count": 32,
   "metadata": {},
   "outputs": [
    {
     "data": {
      "text/plain": [
       "[array([ 5443,  1969,  2780, 29550]),\n",
       " array([20174, 14283, 31218,  4423]),\n",
       " array([18605,  8051, 30924, 10100]),\n",
       " array([14191, 40721, 24400, 30977]),\n",
       " array([2592, 4692, 2746, 4326])]"
      ]
     },
     "execution_count": 32,
     "metadata": {},
     "output_type": "execute_result"
    }
   ],
   "source": [
    "y_pred = list(map(lambda x:np.argsort(x)[::-1][:4], u_pred))  # k=4\n",
    "y_pred"
   ]
  },
  {
   "cell_type": "code",
   "execution_count": 33,
   "metadata": {},
   "outputs": [
    {
     "data": {
      "text/plain": [
       "[['38444752', '53989313', '10308562', '34809347'],\n",
       " ['894532133', '46857865', '50018607', '14922696'],\n",
       " ['24547740', '10293844', '34223498', '10324598'],\n",
       " ['197347253', '515153592', '404894664', '198013918'],\n",
       " ['43830574', '45090383', '122270233', '796108312']]"
      ]
     },
     "execution_count": 33,
     "metadata": {},
     "output_type": "execute_result"
    }
   ],
   "source": [
    "y_pred_output = list(list(map(lambda x:catalog_item_id_map.get(x), user_vec)) for user_vec in y_pred)\n",
    "y_pred_output"
   ]
  },
  {
   "cell_type": "code",
   "execution_count": 34,
   "metadata": {},
   "outputs": [
    {
     "data": {
      "text/plain": [
       "array([[ 5443.,  1969.,  2780., 29550.,   137.,  7200.],\n",
       "       [20174., 14283., 31218.,  4423., 27087., 29881.],\n",
       "       [18605.,  8051., 30924., 10100., 27693., 13886.],\n",
       "       [14191., 40721., 24400., 30977., 30540., 32654.],\n",
       "       [ 2592.,  4692.,  2746.,  4326.,  3021.,  3246.]])"
      ]
     },
     "execution_count": 34,
     "metadata": {},
     "output_type": "execute_result"
    }
   ],
   "source": [
    "# recommend 6 items for each sampled user\n",
    "best_bpr.recommend(sampled_user_ids, N=6)"
   ]
  },
  {
   "cell_type": "code",
   "execution_count": 35,
   "metadata": {},
   "outputs": [
    {
     "data": {
      "text/plain": [
       "array(['746072402', '13908655', '348644211', '48745760', '10318343'],\n",
       "      dtype='<U10')"
      ]
     },
     "execution_count": 35,
     "metadata": {},
     "output_type": "execute_result"
    }
   ],
   "source": [
    "# sample 5 items\n",
    "sampled_items = np.random.choice(list(train_item_map.keys()), n_samples)\n",
    "sampled_items"
   ]
  },
  {
   "cell_type": "code",
   "execution_count": 36,
   "metadata": {},
   "outputs": [
    {
     "data": {
      "text/plain": [
       "[27808, 21251, 2605, 40106, 2187]"
      ]
     },
     "execution_count": 36,
     "metadata": {},
     "output_type": "execute_result"
    }
   ],
   "source": [
    "sampled_item_ids = list(map(lambda x:train_item_map.get(x), sampled_items))\n",
    "sampled_item_ids"
   ]
  },
  {
   "cell_type": "code",
   "execution_count": 37,
   "metadata": {},
   "outputs": [
    {
     "data": {
      "text/plain": [
       "array([[13137, 11404, 11212,  5107, 31383],\n",
       "       [ 9455, 16392, 24049, 34587, 28563],\n",
       "       [ 5517,  6979, 15464,  9842,  2970],\n",
       "       [39470, 40185, 19319, 46323, 16383],\n",
       "       [18526,  5126,  6588,  6897,  8041]])"
      ]
     },
     "execution_count": 37,
     "metadata": {},
     "output_type": "execute_result"
    }
   ],
   "source": [
    "# find most similar 5 items for each sample\n",
    "simi_items = best_bpr._similar_items(sampled_item_ids, N=5)\n",
    "simi_items"
   ]
  },
  {
   "cell_type": "markdown",
   "metadata": {},
   "source": [
    "# Reference\n",
    "\n",
    "[BPR: Bayesian Personalized Ranking from Implicit Feedback](https://arxiv.org/pdf/1205.2618.pdf)"
   ]
  },
  {
   "cell_type": "code",
   "execution_count": null,
   "metadata": {},
   "outputs": [],
   "source": []
  }
 ],
 "metadata": {
  "kernelspec": {
   "display_name": "Python 3",
   "language": "python",
   "name": "python3"
  },
  "language_info": {
   "codemirror_mode": {
    "name": "ipython",
    "version": 3
   },
   "file_extension": ".py",
   "mimetype": "text/x-python",
   "name": "python",
   "nbconvert_exporter": "python",
   "pygments_lexer": "ipython3",
   "version": "3.7.3"
  }
 },
 "nbformat": 4,
 "nbformat_minor": 2
}
